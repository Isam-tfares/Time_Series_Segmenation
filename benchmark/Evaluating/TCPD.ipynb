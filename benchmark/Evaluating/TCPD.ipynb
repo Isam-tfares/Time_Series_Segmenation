{
 "cells": [
  {
   "cell_type": "code",
   "execution_count": 22,
   "metadata": {},
   "outputs": [],
   "source": [
    "import numpy as np\n",
    "import pandas as pd\n",
    "import matplotlib.pyplot as plt\n",
    "import sys\n",
    "from sklearn.preprocessing import StandardScaler"
   ]
  },
  {
   "cell_type": "code",
   "execution_count": 23,
   "metadata": {},
   "outputs": [],
   "source": [
    "sys.path.append('../../datasets/Turing_Change_Point_Dataset/examples/python')\n",
    "from load_dataset import *\n",
    "sys.path.append('../utils')\n",
    "from evaluation import *\n",
    "sys.path.append('../')\n",
    "from ClassificationParScoreProfile import *\n",
    "from DynamicProgramming import *\n",
    "from FLOSS import *\n",
    "from Pelt import *\n",
    "from Window import *\n",
    "from BayesianOnlineChangePointDetection import *\n",
    "from Fluss import *"
   ]
  },
  {
   "cell_type": "code",
   "execution_count": 24,
   "metadata": {},
   "outputs": [
    {
     "data": {
      "text/html": [
       "<div>\n",
       "<style scoped>\n",
       "    .dataframe tbody tr th:only-of-type {\n",
       "        vertical-align: middle;\n",
       "    }\n",
       "\n",
       "    .dataframe tbody tr th {\n",
       "        vertical-align: top;\n",
       "    }\n",
       "\n",
       "    .dataframe thead th {\n",
       "        text-align: right;\n",
       "    }\n",
       "</style>\n",
       "<table border=\"1\" class=\"dataframe\">\n",
       "  <thead>\n",
       "    <tr style=\"text-align: right;\">\n",
       "      <th></th>\n",
       "      <th>t</th>\n",
       "      <th>GDP (constant LCU)</th>\n",
       "    </tr>\n",
       "  </thead>\n",
       "  <tbody>\n",
       "    <tr>\n",
       "      <th>0</th>\n",
       "      <td>0</td>\n",
       "      <td>8.353728e+14</td>\n",
       "    </tr>\n",
       "    <tr>\n",
       "      <th>1</th>\n",
       "      <td>1</td>\n",
       "      <td>9.312536e+14</td>\n",
       "    </tr>\n",
       "    <tr>\n",
       "      <th>2</th>\n",
       "      <td>2</td>\n",
       "      <td>1.011252e+15</td>\n",
       "    </tr>\n",
       "    <tr>\n",
       "      <th>3</th>\n",
       "      <td>3</td>\n",
       "      <td>1.084815e+15</td>\n",
       "    </tr>\n",
       "    <tr>\n",
       "      <th>4</th>\n",
       "      <td>4</td>\n",
       "      <td>1.184553e+15</td>\n",
       "    </tr>\n",
       "  </tbody>\n",
       "</table>\n",
       "</div>"
      ],
      "text/plain": [
       "   t  GDP (constant LCU)\n",
       "0  0        8.353728e+14\n",
       "1  1        9.312536e+14\n",
       "2  2        1.011252e+15\n",
       "3  3        1.084815e+15\n",
       "4  4        1.184553e+15"
      ]
     },
     "execution_count": 24,
     "metadata": {},
     "output_type": "execute_result"
    }
   ],
   "source": [
    "\n",
    "ts = TimeSeries.from_json('../../datasets/Turing_Change_Point_Dataset/datasets/gdp_iran/gdp_iran.json')\n",
    "ts.df.head()"
   ]
  },
  {
   "cell_type": "code",
   "execution_count": 27,
   "metadata": {},
   "outputs": [
    {
     "data": {
      "text/html": [
       "<div>\n",
       "<style scoped>\n",
       "    .dataframe tbody tr th:only-of-type {\n",
       "        vertical-align: middle;\n",
       "    }\n",
       "\n",
       "    .dataframe tbody tr th {\n",
       "        vertical-align: top;\n",
       "    }\n",
       "\n",
       "    .dataframe thead th {\n",
       "        text-align: right;\n",
       "    }\n",
       "</style>\n",
       "<table border=\"1\" class=\"dataframe\">\n",
       "  <thead>\n",
       "    <tr style=\"text-align: right;\">\n",
       "      <th></th>\n",
       "      <th>ts_name</th>\n",
       "      <th>ts</th>\n",
       "      <th>cp</th>\n",
       "    </tr>\n",
       "  </thead>\n",
       "  <tbody>\n",
       "    <tr>\n",
       "      <th>0</th>\n",
       "      <td>bank</td>\n",
       "      <td>[7.360385187934427, 7.360385187934427, 7.36038...</td>\n",
       "      <td>[]</td>\n",
       "    </tr>\n",
       "    <tr>\n",
       "      <th>1</th>\n",
       "      <td>brent_spot</td>\n",
       "      <td>[23.95, 26.31, 27.35, 28.12, 29.01, 28.83, 24....</td>\n",
       "      <td>[389, 271, 279, 409, 286, 287, 288, 169, 170, ...</td>\n",
       "    </tr>\n",
       "    <tr>\n",
       "      <th>2</th>\n",
       "      <td>businv</td>\n",
       "      <td>[802948.0, 809329.0, 813301.0, 819247.0, 81568...</td>\n",
       "      <td>[202, 203, 119, 213, 212, 215, 120]</td>\n",
       "    </tr>\n",
       "    <tr>\n",
       "      <th>4</th>\n",
       "      <td>children_per_woman</td>\n",
       "      <td>[5.77, 5.77, 5.78, 5.78, 5.78, 5.77, 5.77, 5.7...</td>\n",
       "      <td>[197, 168, 170, 177, 146, 145, 180]</td>\n",
       "    </tr>\n",
       "    <tr>\n",
       "      <th>5</th>\n",
       "      <td>co2_canada</td>\n",
       "      <td>[0.00568, 0.00561, 0.00555, 0.00548, 0.00542, ...</td>\n",
       "      <td>[67, 164, 133, 134, 163, 107, 173, 110, 80, 14...</td>\n",
       "    </tr>\n",
       "  </tbody>\n",
       "</table>\n",
       "</div>"
      ],
      "text/plain": [
       "              ts_name                                                 ts  \\\n",
       "0                bank  [7.360385187934427, 7.360385187934427, 7.36038...   \n",
       "1          brent_spot  [23.95, 26.31, 27.35, 28.12, 29.01, 28.83, 24....   \n",
       "2              businv  [802948.0, 809329.0, 813301.0, 819247.0, 81568...   \n",
       "4  children_per_woman  [5.77, 5.77, 5.78, 5.78, 5.78, 5.77, 5.77, 5.7...   \n",
       "5          co2_canada  [0.00568, 0.00561, 0.00555, 0.00548, 0.00542, ...   \n",
       "\n",
       "                                                  cp  \n",
       "0                                                 []  \n",
       "1  [389, 271, 279, 409, 286, 287, 288, 169, 170, ...  \n",
       "2                [202, 203, 119, 213, 212, 215, 120]  \n",
       "4                [197, 168, 170, 177, 146, 145, 180]  \n",
       "5  [67, 164, 133, 134, 163, 107, 173, 110, 80, 14...  "
      ]
     },
     "execution_count": 27,
     "metadata": {},
     "output_type": "execute_result"
    }
   ],
   "source": [
    "import pandas as pd\n",
    "import json\n",
    "\n",
    "# Load JSON data\n",
    "with open('../../datasets/Turing_Change_Point_Dataset/annotations.json') as f:\n",
    "    data = json.load(f)\n",
    "\n",
    "rows = []\n",
    "\n",
    "def handle_nan(ts):\n",
    "    nan_indices = np.isnan(ts)\n",
    "    mean_val = np.nanmean(ts)\n",
    "    ts[nan_indices] = mean_val\n",
    "    return ts\n",
    "# Iterate through each key-value pair in the JSON data\n",
    "for ts_name, ts_data in data.items():\n",
    "    path_file='../../datasets/Turing_Change_Point_Dataset/datasets/'+str(ts_name)+'/'+str(ts_name)+'.json'\n",
    "    if  os.path.exists(path_file):\n",
    "        ts = TimeSeries.from_json(path_file)\n",
    "        ts=ts.df.drop('t',axis=\"columns\").values.reshape(-1)\n",
    "        change_points = []\n",
    "        for cp, values in ts_data.items():\n",
    "            change_points.extend(values)\n",
    "        # Append a tuple with the required data to the list\n",
    "        rows.append((ts_name,ts, change_points))\n",
    "\n",
    "# Create a DataFrame from the list of tuples\n",
    "tcpd = pd.DataFrame(rows, columns=['ts_name','ts', 'cp'])\n",
    "tcpd['ts_length']=tcpd.ts.apply(len)\n",
    "\n",
    "tcpd['cp']=tcpd.cp.apply(lambda x :list(set(x)))\n",
    "tcpd=tcpd[tcpd.ts_length>=100]\n",
    "tcpd=tcpd.drop('ts_length',axis=\"columns\")\n",
    "tcpd.head()\n"
   ]
  },
  {
   "cell_type": "code",
   "execution_count": 26,
   "metadata": {},
   "outputs": [],
   "source": [
    "results={}\n",
    "def evaluate_and_save(all_cps_true,all_cps_found,all_ts_len,algorithm_name):\n",
    "    # Initialize lists to store metric values for each time series\n",
    "    covering_scores = []\n",
    "    f_measure_scores = []\n",
    "    nab_scores = []\n",
    "    i=0\n",
    "    # Iterate over each time series\n",
    "    for cps_true,cps_found,ts_len in zip(all_cps_true,all_cps_found,all_ts_len):\n",
    "        i=i+1\n",
    "        score_covering = covering({0: cps_true}, cps_found, ts_len)\n",
    "        covering_scores.append(score_covering)\n",
    "        \n",
    "        # Calculate F-measure\n",
    "        score_F = f_measure({0: cps_true}, cps_found, ts_len) \n",
    "        f_measure_scores.append(score_F)\n",
    "        \n",
    "        # Format true and predicted change points as Series\n",
    "        true_cp, predicted_cp = formate_data(cps_true, cps_found,ts_len)\n",
    "    \n",
    "        # Evaluate change points using the evaluating_change_point function\n",
    "        score_NAB = evaluating_change_point(true_cp, predicted_cp, metric='nab')\n",
    "        nab_scores.append(score_NAB)\n",
    "        # print(score_NAB)\n",
    "\n",
    "    # Calculate mean scores across all time series\n",
    "    mean_covering = sum(covering_scores) / len(covering_scores)\n",
    "    mean_f_measure = sum(f_measure_scores) / len(f_measure_scores)\n",
    "\n",
    "    # Calculate mean NAB scores\n",
    "    nab_scores_filtered = [score for score in nab_scores if not np.isnan(score['Standart']) and not np.isinf(score['Standart'])]\n",
    "    mean_nab_standard = sum(score['Standart'] for score in nab_scores_filtered) / len(nab_scores_filtered)\n",
    "    mean_nab_lowFP = sum(score['LowFP'] for score in nab_scores_filtered) / len(nab_scores_filtered)\n",
    "    mean_nab_lowFN = sum(score['LowFN'] for score in nab_scores_filtered) / len(nab_scores_filtered)\n",
    "\n",
    "\n",
    "    # Print mean scores\n",
    "    print(f\"Mean Covering: {mean_covering}\")\n",
    "    print(f\"Mean F-measure: {mean_f_measure}\")\n",
    "    print(f\"Mean NAB (Standard): {mean_nab_standard}\")\n",
    "    print(f\"Mean NAB (LowFP): {mean_nab_lowFP}\")\n",
    "    print(f\"Mean NAB (LowFN): {mean_nab_lowFN}\")\n",
    "\n",
    "    results[algorithm_name]={\"Covering\":mean_covering,\n",
    "                                        \"F-measure\":mean_f_measure,\n",
    "                                        \"NAB (Standard)\":mean_nab_standard,\n",
    "                                        \"NAB (LowFP)\":mean_nab_lowFP,\n",
    "                                        \"NAB (LowFN)\":mean_nab_lowFN\n",
    "    }\n"
   ]
  },
  {
   "cell_type": "markdown",
   "metadata": {},
   "source": [
    "<h3>BinaryClaSPSegmentation</h3>"
   ]
  },
  {
   "cell_type": "code",
   "execution_count": 6,
   "metadata": {},
   "outputs": [
    {
     "name": "stderr",
     "output_type": "stream",
     "text": [
      "1it [01:49, 109.74s/it]d:\\Time_Series_Segmenation\\benchmark\\Evaluating\\..\\ClassificationParScoreProfile.py:87: UserWarning: Time series must at least have 2*min_seg_size data points for segmentation. Try setting a smaller window size.\n",
      "  warnings.warn(\n",
      "24it [01:50,  4.60s/it]\n",
      "d:\\Time_Series_Segmenation\\benchmark\\Evaluating\\../utils\\evaluation.py:378: RuntimeWarning: invalid value encountered in scalar divide\n",
      "  results[profile_name] = round(100*(matrix[0,t]-matrix[1,t])/(matrix[2,t]-matrix[1,t]), 2)\n"
     ]
    },
    {
     "name": "stdout",
     "output_type": "stream",
     "text": [
      "Mean Covering: 0.39629038281656687\n",
      "Mean F-measure: 0.353410258042611\n",
      "Mean NAB (Standard): 1.7299999999999998\n",
      "Mean NAB (LowFP): 1.6536363636363633\n",
      "Mean NAB (LowFN): 1.7595454545454545\n"
     ]
    },
    {
     "name": "stderr",
     "output_type": "stream",
     "text": [
      "d:\\Time_Series_Segmenation\\benchmark\\Evaluating\\../utils\\evaluation.py:378: RuntimeWarning: invalid value encountered in scalar divide\n",
      "  results[profile_name] = round(100*(matrix[0,t]-matrix[1,t])/(matrix[2,t]-matrix[1,t]), 2)\n"
     ]
    }
   ],
   "source": [
    "all_cps_true=[]\n",
    "all_cps_found=[]\n",
    "all_ts_len=[]\n",
    "for _,(ts_name,ts,cps_true) in tqdm(tcpd.iterrows()):\n",
    "  ts = ts[~np.isnan(ts)]\n",
    "  cps_found = BinaryClaSPSegmentation().fit_predict(ts)\n",
    "  all_cps_true.append(cps_true)\n",
    "  all_cps_found.append(cps_found)\n",
    "  all_ts_len.append(ts.shape[0])\n",
    "\n",
    "evaluate_and_save(all_cps_true,all_cps_found,all_ts_len,\"BinaryClaSPSegmentation\")\n"
   ]
  },
  {
   "cell_type": "markdown",
   "metadata": {},
   "source": [
    "<h3>DynamicProgramming</h3>"
   ]
  },
  {
   "cell_type": "code",
   "execution_count": 7,
   "metadata": {},
   "outputs": [
    {
     "name": "stderr",
     "output_type": "stream",
     "text": [
      "24it [00:18,  1.27it/s]\n",
      "d:\\Time_Series_Segmenation\\benchmark\\Evaluating\\../utils\\evaluation.py:378: RuntimeWarning: invalid value encountered in scalar divide\n",
      "  results[profile_name] = round(100*(matrix[0,t]-matrix[1,t])/(matrix[2,t]-matrix[1,t]), 2)\n",
      "d:\\Time_Series_Segmenation\\benchmark\\Evaluating\\../utils\\evaluation.py:378: RuntimeWarning: invalid value encountered in scalar divide\n",
      "  results[profile_name] = round(100*(matrix[0,t]-matrix[1,t])/(matrix[2,t]-matrix[1,t]), 2)\n"
     ]
    },
    {
     "name": "stdout",
     "output_type": "stream",
     "text": [
      "Mean Covering: 0.64817002067074\n",
      "Mean F-measure: 1.0\n",
      "Mean NAB (Standard): 79.25363636363635\n",
      "Mean NAB (LowFP): 74.25954545454546\n",
      "Mean NAB (LowFN): 81.0059090909091\n"
     ]
    }
   ],
   "source": [
    "all_cps_true=[]\n",
    "all_cps_found=[]\n",
    "all_ts_len=[]\n",
    "for _,(ts_name,ts,cps_true) in tqdm(tcpd.iterrows()):\n",
    "  cps_found = DynamicProgramming().fit_predict(np.array(ts),len(cps_true))[:-1]\n",
    "  all_cps_true.append(cps_true)\n",
    "  all_cps_found.append(cps_found)\n",
    "  all_ts_len.append(ts.shape[0])\n",
    "\n",
    "evaluate_and_save(all_cps_true,all_cps_found,all_ts_len,\"DynamicProgramming\")\n"
   ]
  },
  {
   "cell_type": "markdown",
   "metadata": {},
   "source": [
    "<h3>FLOSS</h3>"
   ]
  },
  {
   "cell_type": "code",
   "execution_count": 8,
   "metadata": {},
   "outputs": [
    {
     "name": "stderr",
     "output_type": "stream",
     "text": [
      "0it [00:00, ?it/s]"
     ]
    },
    {
     "name": "stderr",
     "output_type": "stream",
     "text": [
      "24it [01:51,  4.64s/it]\n",
      "d:\\Time_Series_Segmenation\\benchmark\\Evaluating\\../utils\\evaluation.py:378: RuntimeWarning: invalid value encountered in scalar divide\n",
      "  results[profile_name] = round(100*(matrix[0,t]-matrix[1,t])/(matrix[2,t]-matrix[1,t]), 2)\n",
      "d:\\Time_Series_Segmenation\\benchmark\\Evaluating\\../utils\\evaluation.py:378: RuntimeWarning: invalid value encountered in scalar divide\n",
      "  results[profile_name] = round(100*(matrix[0,t]-matrix[1,t])/(matrix[2,t]-matrix[1,t]), 2)\n"
     ]
    },
    {
     "name": "stdout",
     "output_type": "stream",
     "text": [
      "Mean Covering: 0.38049812452739634\n",
      "Mean F-measure: 0.3617947208020737\n",
      "Mean NAB (Standard): 5.997272727272727\n",
      "Mean NAB (LowFP): 5.459090909090909\n",
      "Mean NAB (LowFN): 6.185454545454545\n"
     ]
    }
   ],
   "source": [
    "all_cps_true=[]\n",
    "all_cps_found=[]\n",
    "all_ts_len=[]\n",
    "for _,(ts_name,ts,cps_true) in tqdm(tcpd.iterrows()):\n",
    "    # Instantiate FLOSS\n",
    "    floss_detector = FLOSS(n_timepoints=len(ts), window_size=20, n_prerun=500, threshold=0.7, excl_factor=5, verbose=0)\n",
    "    # Update FLOSS with each time point\n",
    "    for timepoint in ts:\n",
    "        floss_detector.update(timepoint)\n",
    "\n",
    "    cps_found = floss_detector.change_points\n",
    "    all_cps_true.append(cps_true)\n",
    "    all_cps_found.append(cps_found)\n",
    "    all_ts_len.append(ts.shape[0])\n",
    "    \n",
    "evaluate_and_save(all_cps_true,all_cps_found,all_ts_len,\"FLOSS\")\n",
    "\n"
   ]
  },
  {
   "cell_type": "markdown",
   "metadata": {},
   "source": [
    "<h3>Pelt</h3>"
   ]
  },
  {
   "cell_type": "code",
   "execution_count": 9,
   "metadata": {},
   "outputs": [
    {
     "name": "stderr",
     "output_type": "stream",
     "text": [
      "24it [00:02,  9.47it/s]\n",
      "d:\\Time_Series_Segmenation\\benchmark\\Evaluating\\../utils\\evaluation.py:378: RuntimeWarning: invalid value encountered in scalar divide\n",
      "  results[profile_name] = round(100*(matrix[0,t]-matrix[1,t])/(matrix[2,t]-matrix[1,t]), 2)\n",
      "d:\\Time_Series_Segmenation\\benchmark\\Evaluating\\../utils\\evaluation.py:378: RuntimeWarning: invalid value encountered in scalar divide\n",
      "  results[profile_name] = round(100*(matrix[0,t]-matrix[1,t])/(matrix[2,t]-matrix[1,t]), 2)\n"
     ]
    },
    {
     "name": "stdout",
     "output_type": "stream",
     "text": [
      "Mean Covering: 0.41052472975224125\n",
      "Mean F-measure: 0.48547272196963154\n",
      "Mean NAB (Standard): 39.99454545454545\n",
      "Mean NAB (LowFP): -7.898636363636363\n",
      "Mean NAB (LowFN): 56.0190909090909\n"
     ]
    }
   ],
   "source": [
    "all_cps_true=[]\n",
    "all_cps_found=[]\n",
    "all_ts_len=[]\n",
    "for _,(ts_name,ts,cps_true) in tqdm(tcpd.iterrows()):\n",
    "  cps_found = Pelt().fit_predict(np.array(ts),pen=15)[:-1]\n",
    "  all_cps_true.append(cps_true)\n",
    "  all_cps_found.append(cps_found)\n",
    "  all_ts_len.append(ts.shape[0])\n",
    "\n",
    "evaluate_and_save(all_cps_true,all_cps_found,all_ts_len,\"Pelt\")\n"
   ]
  },
  {
   "cell_type": "markdown",
   "metadata": {},
   "source": [
    "<h3>BOCD</h3>"
   ]
  },
  {
   "cell_type": "code",
   "execution_count": 28,
   "metadata": {},
   "outputs": [
    {
     "name": "stderr",
     "output_type": "stream",
     "text": [
      "24it [00:13,  1.84it/s]\n",
      "d:\\Time_Series_Segmenation\\benchmark\\Evaluating\\../utils\\evaluation.py:378: RuntimeWarning: invalid value encountered in scalar divide\n",
      "  results[profile_name] = round(100*(matrix[0,t]-matrix[1,t])/(matrix[2,t]-matrix[1,t]), 2)\n",
      "d:\\Time_Series_Segmenation\\benchmark\\Evaluating\\../utils\\evaluation.py:378: RuntimeWarning: invalid value encountered in scalar divide\n",
      "  results[profile_name] = round(100*(matrix[0,t]-matrix[1,t])/(matrix[2,t]-matrix[1,t]), 2)\n"
     ]
    },
    {
     "name": "stdout",
     "output_type": "stream",
     "text": [
      "Mean Covering: 0.4732270149005752\n",
      "Mean F-measure: 0.8010912698412698\n",
      "Mean NAB (Standard): 46.473636363636366\n",
      "Mean NAB (LowFP): 43.88090909090909\n",
      "Mean NAB (LowFN): 47.58545454545455\n"
     ]
    }
   ],
   "source": [
    "all_cps_true=[]\n",
    "all_cps_found=[]\n",
    "all_ts_len=[]\n",
    "# Iterate over each time series\n",
    "for _,(ts_name,ts,cps_true) in tqdm(tcpd.iterrows()):\n",
    "    ts=handle_nan(ts)\n",
    "    cps_found = bocd(ts,len(cps_true))\n",
    "    all_cps_true.append(cps_true)\n",
    "    all_cps_found.append(cps_found)\n",
    "    all_ts_len.append(ts.shape[0])\n",
    "\n",
    "evaluate_and_save(all_cps_true,all_cps_found,all_ts_len,\"BOCD\")"
   ]
  },
  {
   "cell_type": "markdown",
   "metadata": {},
   "source": [
    "<h3>Fluss</h3>"
   ]
  },
  {
   "cell_type": "code",
   "execution_count": 11,
   "metadata": {},
   "outputs": [
    {
     "name": "stderr",
     "output_type": "stream",
     "text": [
      "0it [00:00, ?it/s]"
     ]
    },
    {
     "name": "stderr",
     "output_type": "stream",
     "text": [
      "24it [02:02,  5.09s/it]\n",
      "d:\\Time_Series_Segmenation\\benchmark\\Evaluating\\../utils\\evaluation.py:378: RuntimeWarning: invalid value encountered in scalar divide\n",
      "  results[profile_name] = round(100*(matrix[0,t]-matrix[1,t])/(matrix[2,t]-matrix[1,t]), 2)\n",
      "d:\\Time_Series_Segmenation\\benchmark\\Evaluating\\../utils\\evaluation.py:378: RuntimeWarning: invalid value encountered in scalar divide\n",
      "  results[profile_name] = round(100*(matrix[0,t]-matrix[1,t])/(matrix[2,t]-matrix[1,t]), 2)\n"
     ]
    },
    {
     "name": "stdout",
     "output_type": "stream",
     "text": [
      "Mean Covering: 0.39346570048642504\n",
      "Mean F-measure: 0.3381569002892532\n",
      "Mean NAB (Standard): -0.2531818181818182\n",
      "Mean NAB (LowFP): -1.5118181818181817\n",
      "Mean NAB (LowFN): 0.2013636363636363\n"
     ]
    }
   ],
   "source": [
    "all_cps_true=[]\n",
    "all_cps_found=[]\n",
    "all_ts_len=[]\n",
    "for _,(ts_name,ts,cps_true) in tqdm(tcpd.iterrows()):\n",
    "        # Parameters\n",
    "    window_size = 50\n",
    "    n_cps = len(cps_true)\n",
    "    # Using fluss function\n",
    "    cps_found = fluss(ts, window_size, n_cps)\n",
    "    all_cps_true.append(cps_true)\n",
    "    all_cps_found.append(cps_found)\n",
    "    all_ts_len.append(ts.shape[0])\n",
    "    \n",
    "evaluate_and_save(all_cps_true,all_cps_found,all_ts_len,\"Fluss\")\n"
   ]
  },
  {
   "cell_type": "code",
   "execution_count": 41,
   "metadata": {},
   "outputs": [
    {
     "name": "stdout",
     "output_type": "stream",
     "text": [
      "DataFrame saved as 'TCPD.csv'\n"
     ]
    },
    {
     "data": {
      "text/html": [
       "<div>\n",
       "<style scoped>\n",
       "    .dataframe tbody tr th:only-of-type {\n",
       "        vertical-align: middle;\n",
       "    }\n",
       "\n",
       "    .dataframe tbody tr th {\n",
       "        vertical-align: top;\n",
       "    }\n",
       "\n",
       "    .dataframe thead th {\n",
       "        text-align: right;\n",
       "    }\n",
       "</style>\n",
       "<table border=\"1\" class=\"dataframe\">\n",
       "  <thead>\n",
       "    <tr style=\"text-align: right;\">\n",
       "      <th></th>\n",
       "      <th>name_algo</th>\n",
       "      <th>Covering</th>\n",
       "      <th>F-measure</th>\n",
       "      <th>NAB (Standard)</th>\n",
       "      <th>NAB (LowFP)</th>\n",
       "      <th>NAB (LowFN)</th>\n",
       "    </tr>\n",
       "  </thead>\n",
       "  <tbody>\n",
       "    <tr>\n",
       "      <th>0</th>\n",
       "      <td>BinaryClaSPSegmentation</td>\n",
       "      <td>0.396290</td>\n",
       "      <td>0.353410</td>\n",
       "      <td>1.730000</td>\n",
       "      <td>1.653636</td>\n",
       "      <td>1.759545</td>\n",
       "    </tr>\n",
       "    <tr>\n",
       "      <th>1</th>\n",
       "      <td>DynamicProgramming</td>\n",
       "      <td>0.648170</td>\n",
       "      <td>1.000000</td>\n",
       "      <td>79.253636</td>\n",
       "      <td>74.259545</td>\n",
       "      <td>81.005909</td>\n",
       "    </tr>\n",
       "    <tr>\n",
       "      <th>2</th>\n",
       "      <td>FLOSS</td>\n",
       "      <td>0.380498</td>\n",
       "      <td>0.361795</td>\n",
       "      <td>5.997273</td>\n",
       "      <td>5.459091</td>\n",
       "      <td>6.185455</td>\n",
       "    </tr>\n",
       "    <tr>\n",
       "      <th>3</th>\n",
       "      <td>Pelt</td>\n",
       "      <td>0.410525</td>\n",
       "      <td>0.485473</td>\n",
       "      <td>39.994545</td>\n",
       "      <td>-7.898636</td>\n",
       "      <td>56.019091</td>\n",
       "    </tr>\n",
       "    <tr>\n",
       "      <th>4</th>\n",
       "      <td>BOCD</td>\n",
       "      <td>0.473227</td>\n",
       "      <td>0.801091</td>\n",
       "      <td>46.473636</td>\n",
       "      <td>43.880909</td>\n",
       "      <td>47.585455</td>\n",
       "    </tr>\n",
       "    <tr>\n",
       "      <th>5</th>\n",
       "      <td>Fluss</td>\n",
       "      <td>0.393466</td>\n",
       "      <td>0.338157</td>\n",
       "      <td>-0.253182</td>\n",
       "      <td>-1.511818</td>\n",
       "      <td>0.201364</td>\n",
       "    </tr>\n",
       "  </tbody>\n",
       "</table>\n",
       "</div>"
      ],
      "text/plain": [
       "                 name_algo  Covering  F-measure  NAB (Standard)  NAB (LowFP)  \\\n",
       "0  BinaryClaSPSegmentation  0.396290   0.353410        1.730000     1.653636   \n",
       "1       DynamicProgramming  0.648170   1.000000       79.253636    74.259545   \n",
       "2                    FLOSS  0.380498   0.361795        5.997273     5.459091   \n",
       "3                     Pelt  0.410525   0.485473       39.994545    -7.898636   \n",
       "4                     BOCD  0.473227   0.801091       46.473636    43.880909   \n",
       "5                    Fluss  0.393466   0.338157       -0.253182    -1.511818   \n",
       "\n",
       "   NAB (LowFN)  \n",
       "0     1.759545  \n",
       "1    81.005909  \n",
       "2     6.185455  \n",
       "3    56.019091  \n",
       "4    47.585455  \n",
       "5     0.201364  "
      ]
     },
     "execution_count": 41,
     "metadata": {},
     "output_type": "execute_result"
    }
   ],
   "source": [
    "# Convert dictionary to DataFrame\n",
    "results_df = pd.DataFrame(results).T.reset_index()\n",
    "\n",
    "# Rename the 'index' column to 'name_algo'\n",
    "results_df = results_df.rename(columns={'index': 'name_algo'})\n",
    "# save the file\n",
    "results_df.to_csv('results/TCPD.csv', index=False)\n",
    "\n",
    "print(\"DataFrame saved as 'TCPD.csv'\")\n",
    "# Display the DataFrame\n",
    "results_df"
   ]
  }
 ],
 "metadata": {
  "kernelspec": {
   "display_name": "base",
   "language": "python",
   "name": "python3"
  },
  "language_info": {
   "codemirror_mode": {
    "name": "ipython",
    "version": 3
   },
   "file_extension": ".py",
   "mimetype": "text/x-python",
   "name": "python",
   "nbconvert_exporter": "python",
   "pygments_lexer": "ipython3",
   "version": "3.11.5"
  }
 },
 "nbformat": 4,
 "nbformat_minor": 2
}

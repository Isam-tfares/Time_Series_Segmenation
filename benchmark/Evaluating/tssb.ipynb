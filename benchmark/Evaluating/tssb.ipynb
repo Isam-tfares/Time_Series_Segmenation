{
 "cells": [
  {
   "cell_type": "code",
   "execution_count": 1,
   "metadata": {},
   "outputs": [],
   "source": [
    "import numpy as np\n",
    "import pandas as pd\n",
    "import sys\n",
    "from tqdm import tqdm"
   ]
  },
  {
   "cell_type": "code",
   "execution_count": 11,
   "metadata": {},
   "outputs": [],
   "source": [
    "from evaluating_file import *\n",
    "sys.path.append('../../datasets/Time_Series_Segmentation_Benchmark')\n",
    "from utils import *\n",
    "sys.path.append('../../benchmark/utils')\n",
    "# from evaluation import *\n",
    "sys.path.append('../')\n",
    "from ClassificationParScoreProfile import *\n",
    "from BinarySegmentation import *\n",
    "from DynamicProgramming import *\n",
    "from FLOSS import *\n",
    "from Pelt import *\n",
    "from Window import *\n",
    "from BayesianOnlineChangePointDetection import *\n",
    "from Fluss import *"
   ]
  },
  {
   "cell_type": "markdown",
   "metadata": {},
   "source": [
    "<h3>Load Dataset</h3>"
   ]
  },
  {
   "cell_type": "code",
   "execution_count": 3,
   "metadata": {},
   "outputs": [],
   "source": [
    "tssb = load_time_series_segmentation_datasets()"
   ]
  },
  {
   "cell_type": "code",
   "execution_count": 4,
   "metadata": {},
   "outputs": [
    {
     "data": {
      "text/html": [
       "<div>\n",
       "<style scoped>\n",
       "    .dataframe tbody tr th:only-of-type {\n",
       "        vertical-align: middle;\n",
       "    }\n",
       "\n",
       "    .dataframe tbody tr th {\n",
       "        vertical-align: top;\n",
       "    }\n",
       "\n",
       "    .dataframe thead th {\n",
       "        text-align: right;\n",
       "    }\n",
       "</style>\n",
       "<table border=\"1\" class=\"dataframe\">\n",
       "  <thead>\n",
       "    <tr style=\"text-align: right;\">\n",
       "      <th></th>\n",
       "      <th>dataset</th>\n",
       "      <th>window_size</th>\n",
       "      <th>change_points</th>\n",
       "      <th>time_series</th>\n",
       "    </tr>\n",
       "  </thead>\n",
       "  <tbody>\n",
       "    <tr>\n",
       "      <th>0</th>\n",
       "      <td>Adiac</td>\n",
       "      <td>10</td>\n",
       "      <td>[572, 1012, 1232]</td>\n",
       "      <td>[1.681146, 1.383394, 1.029389, 0.688386, 0.354...</td>\n",
       "    </tr>\n",
       "    <tr>\n",
       "      <th>1</th>\n",
       "      <td>ArrowHead</td>\n",
       "      <td>10</td>\n",
       "      <td>[753]</td>\n",
       "      <td>[-1.957721, -1.858082, -1.657983, -1.420794, -...</td>\n",
       "    </tr>\n",
       "    <tr>\n",
       "      <th>2</th>\n",
       "      <td>Beef</td>\n",
       "      <td>50</td>\n",
       "      <td>[705]</td>\n",
       "      <td>[-0.380818, -0.352238, -0.295392, -0.225041, -...</td>\n",
       "    </tr>\n",
       "    <tr>\n",
       "      <th>3</th>\n",
       "      <td>BeetleFly</td>\n",
       "      <td>10</td>\n",
       "      <td>[1280]</td>\n",
       "      <td>[1.114805, 0.774403, 0.477129, 0.115781, -0.24...</td>\n",
       "    </tr>\n",
       "    <tr>\n",
       "      <th>4</th>\n",
       "      <td>BirdChicken</td>\n",
       "      <td>20</td>\n",
       "      <td>[1280]</td>\n",
       "      <td>[1.697714, 1.439032, 1.22287, 0.99708, 0.76479...</td>\n",
       "    </tr>\n",
       "    <tr>\n",
       "      <th>...</th>\n",
       "      <td>...</td>\n",
       "      <td>...</td>\n",
       "      <td>...</td>\n",
       "      <td>...</td>\n",
       "    </tr>\n",
       "    <tr>\n",
       "      <th>70</th>\n",
       "      <td>UWaveGestureLibraryX</td>\n",
       "      <td>10</td>\n",
       "      <td>[600, 1131, 1652, 2193]</td>\n",
       "      <td>[-0.889766, 0.722005, 0.869297, -0.553167, -0....</td>\n",
       "    </tr>\n",
       "    <tr>\n",
       "      <th>71</th>\n",
       "      <td>UWaveGestureLibraryY</td>\n",
       "      <td>10</td>\n",
       "      <td>[600, 1131, 1652, 2193]</td>\n",
       "      <td>[-1.523467, -0.106794, 0.190361, 0.979247, 0.3...</td>\n",
       "    </tr>\n",
       "    <tr>\n",
       "      <th>72</th>\n",
       "      <td>UWaveGestureLibraryZ</td>\n",
       "      <td>10</td>\n",
       "      <td>[600, 1131, 1652, 2193]</td>\n",
       "      <td>[-0.527058, 0.416111, -0.524027, 0.41141, 0.12...</td>\n",
       "    </tr>\n",
       "    <tr>\n",
       "      <th>73</th>\n",
       "      <td>WordSynonyms</td>\n",
       "      <td>10</td>\n",
       "      <td>[202, 2227]</td>\n",
       "      <td>[-1.183581, -0.514028, -0.480539, -0.394855, -...</td>\n",
       "    </tr>\n",
       "    <tr>\n",
       "      <th>74</th>\n",
       "      <td>Yoga</td>\n",
       "      <td>10</td>\n",
       "      <td>[7295]</td>\n",
       "      <td>[-0.155803, -0.33899, -0.564977, -0.667323, -0...</td>\n",
       "    </tr>\n",
       "  </tbody>\n",
       "</table>\n",
       "<p>75 rows × 4 columns</p>\n",
       "</div>"
      ],
      "text/plain": [
       "                 dataset  window_size            change_points  \\\n",
       "0                  Adiac           10        [572, 1012, 1232]   \n",
       "1              ArrowHead           10                    [753]   \n",
       "2                   Beef           50                    [705]   \n",
       "3              BeetleFly           10                   [1280]   \n",
       "4            BirdChicken           20                   [1280]   \n",
       "..                   ...          ...                      ...   \n",
       "70  UWaveGestureLibraryX           10  [600, 1131, 1652, 2193]   \n",
       "71  UWaveGestureLibraryY           10  [600, 1131, 1652, 2193]   \n",
       "72  UWaveGestureLibraryZ           10  [600, 1131, 1652, 2193]   \n",
       "73          WordSynonyms           10              [202, 2227]   \n",
       "74                  Yoga           10                   [7295]   \n",
       "\n",
       "                                          time_series  \n",
       "0   [1.681146, 1.383394, 1.029389, 0.688386, 0.354...  \n",
       "1   [-1.957721, -1.858082, -1.657983, -1.420794, -...  \n",
       "2   [-0.380818, -0.352238, -0.295392, -0.225041, -...  \n",
       "3   [1.114805, 0.774403, 0.477129, 0.115781, -0.24...  \n",
       "4   [1.697714, 1.439032, 1.22287, 0.99708, 0.76479...  \n",
       "..                                                ...  \n",
       "70  [-0.889766, 0.722005, 0.869297, -0.553167, -0....  \n",
       "71  [-1.523467, -0.106794, 0.190361, 0.979247, 0.3...  \n",
       "72  [-0.527058, 0.416111, -0.524027, 0.41141, 0.12...  \n",
       "73  [-1.183581, -0.514028, -0.480539, -0.394855, -...  \n",
       "74  [-0.155803, -0.33899, -0.564977, -0.667323, -0...  \n",
       "\n",
       "[75 rows x 4 columns]"
      ]
     },
     "execution_count": 4,
     "metadata": {},
     "output_type": "execute_result"
    }
   ],
   "source": [
    "tssb"
   ]
  },
  {
   "cell_type": "markdown",
   "metadata": {},
   "source": [
    "<h3>Evaluate Algorithms</h3>"
   ]
  },
  {
   "cell_type": "code",
   "execution_count": 5,
   "metadata": {},
   "outputs": [],
   "source": [
    "results={}\n",
    "def evaluate_and_save(all_cps_true,all_cps_found,all_ts_len,algorithm_name):\n",
    "    # Initialize lists to store metric values for each time series\n",
    "    covering_scores = []\n",
    "    f_measure_scores = []\n",
    "    nab_scores = []\n",
    "    i=0\n",
    "    # Iterate over each time series\n",
    "    for cps_true,cps_found,ts_len in zip(all_cps_true,all_cps_found,all_ts_len):\n",
    "        i=i+1\n",
    "        score_covering = covering({0: cps_true}, cps_found, ts_len)\n",
    "        covering_scores.append(score_covering)\n",
    "        \n",
    "        # Calculate F-measure\n",
    "        score_F = f_measure({0: cps_true}, cps_found, ts_len) \n",
    "        f_measure_scores.append(score_F)\n",
    "        \n",
    "        # Format true and predicted change points as Series\n",
    "        true_cp, predicted_cp = formate_data(cps_true, cps_found,ts_len)\n",
    "    \n",
    "        # Evaluate change points using the evaluating_change_point function\n",
    "        score_NAB = evaluating_change_point(true_cp, predicted_cp, metric='nab')\n",
    "        nab_scores.append(score_NAB)\n",
    "        # print(score_NAB)\n",
    "\n",
    "    # Calculate mean scores across all time series\n",
    "    mean_covering = sum(covering_scores) / len(covering_scores)\n",
    "    mean_f_measure = sum(f_measure_scores) / len(f_measure_scores)\n",
    "\n",
    "    # Calculate mean NAB scores\n",
    "    nab_scores_filtered = [score for score in nab_scores if not np.isnan(score['Standart']) and not np.isinf(score['Standart'])]\n",
    "    mean_nab_standard = sum(score['Standart'] for score in nab_scores_filtered) / len(nab_scores_filtered)\n",
    "    mean_nab_lowFP = sum(score['LowFP'] for score in nab_scores_filtered) / len(nab_scores_filtered)\n",
    "    mean_nab_lowFN = sum(score['LowFN'] for score in nab_scores_filtered) / len(nab_scores_filtered)\n",
    "\n",
    "\n",
    "    # Print mean scores\n",
    "    print(f\"Mean Covering: {mean_covering}\")\n",
    "    print(f\"Mean F-measure: {mean_f_measure}\")\n",
    "    print(f\"Mean NAB (Standard): {mean_nab_standard}\")\n",
    "    print(f\"Mean NAB (LowFP): {mean_nab_lowFP}\")\n",
    "    print(f\"Mean NAB (LowFN): {mean_nab_lowFN}\")\n",
    "\n",
    "    results[algorithm_name]={\"Covering\":mean_covering,\n",
    "                                        \"F-measure\":mean_f_measure,\n",
    "                                        \"NAB (Standard)\":mean_nab_standard,\n",
    "                                        \"NAB (LowFP)\":mean_nab_lowFP,\n",
    "                                        \"NAB (LowFN)\":mean_nab_lowFN\n",
    "    }\n"
   ]
  },
  {
   "cell_type": "markdown",
   "metadata": {},
   "source": [
    "<h3>BinaryClaSPSegmentation</h3>"
   ]
  },
  {
   "cell_type": "code",
   "execution_count": 6,
   "metadata": {},
   "outputs": [
    {
     "name": "stderr",
     "output_type": "stream",
     "text": [
      "0it [00:00, ?it/s]"
     ]
    },
    {
     "name": "stderr",
     "output_type": "stream",
     "text": [
      "75it [03:54,  3.12s/it]\n",
      "d:\\Time_Series_Segmenation\\benchmark\\Evaluating\\evaluating_file.py:379: RuntimeWarning: invalid value encountered in scalar divide\n",
      "  results[profile_name] = round(100*(matrix[0,t]-matrix[1,t])/(matrix[2,t]-matrix[1,t]), 2)\n",
      "d:\\Time_Series_Segmenation\\benchmark\\Evaluating\\evaluating_file.py:379: RuntimeWarning: invalid value encountered in scalar divide\n",
      "  results[profile_name] = round(100*(matrix[0,t]-matrix[1,t])/(matrix[2,t]-matrix[1,t]), 2)\n",
      "d:\\Time_Series_Segmenation\\benchmark\\Evaluating\\evaluating_file.py:379: RuntimeWarning: invalid value encountered in scalar divide\n",
      "  results[profile_name] = round(100*(matrix[0,t]-matrix[1,t])/(matrix[2,t]-matrix[1,t]), 2)\n",
      "d:\\Time_Series_Segmenation\\benchmark\\Evaluating\\evaluating_file.py:379: RuntimeWarning: invalid value encountered in scalar divide\n",
      "  results[profile_name] = round(100*(matrix[0,t]-matrix[1,t])/(matrix[2,t]-matrix[1,t]), 2)\n",
      "d:\\Time_Series_Segmenation\\benchmark\\Evaluating\\evaluating_file.py:379: RuntimeWarning: invalid value encountered in scalar divide\n",
      "  results[profile_name] = round(100*(matrix[0,t]-matrix[1,t])/(matrix[2,t]-matrix[1,t]), 2)\n",
      "d:\\Time_Series_Segmenation\\benchmark\\Evaluating\\evaluating_file.py:379: RuntimeWarning: invalid value encountered in scalar divide\n",
      "  results[profile_name] = round(100*(matrix[0,t]-matrix[1,t])/(matrix[2,t]-matrix[1,t]), 2)\n"
     ]
    },
    {
     "name": "stdout",
     "output_type": "stream",
     "text": [
      "Mean Covering: 0.8547707161202618\n",
      "Mean F-measure: 0.8955997727762428\n",
      "Mean NAB (Standard): 49.383043478260866\n",
      "Mean NAB (LowFP): 43.30811594202898\n",
      "Mean NAB (LowFN): 51.57260869565218\n"
     ]
    }
   ],
   "source": [
    "all_cps_true=[]\n",
    "all_cps_found=[]\n",
    "all_ts_len=[]\n",
    "# Iterate over each time series\n",
    "for _, (ts_name, window_size, cps_true, ts) in tqdm(tssb.iterrows()):\n",
    "    # Fit the BinaryClaSPSegmentation algorithm and predict change points\n",
    "    cps_found = BinaryClaSPSegmentation().fit_predict(ts)\n",
    "    all_cps_true.append(cps_true)\n",
    "    all_cps_found.append(cps_found)\n",
    "    all_ts_len.append(ts.shape[0])\n",
    "\n",
    "evaluate_and_save(all_cps_true,all_cps_found,all_ts_len,\"BinaryClaSPSegmentation\")"
   ]
  },
  {
   "cell_type": "markdown",
   "metadata": {},
   "source": [
    "<h3>DynamicProgramming</h3>"
   ]
  },
  {
   "cell_type": "code",
   "execution_count": 7,
   "metadata": {},
   "outputs": [
    {
     "name": "stderr",
     "output_type": "stream",
     "text": [
      "75it [1:17:11, 61.75s/it] \n",
      "d:\\Time_Series_Segmenation\\benchmark\\Evaluating\\evaluating_file.py:379: RuntimeWarning: invalid value encountered in scalar divide\n",
      "  results[profile_name] = round(100*(matrix[0,t]-matrix[1,t])/(matrix[2,t]-matrix[1,t]), 2)\n",
      "d:\\Time_Series_Segmenation\\benchmark\\Evaluating\\evaluating_file.py:379: RuntimeWarning: invalid value encountered in scalar divide\n",
      "  results[profile_name] = round(100*(matrix[0,t]-matrix[1,t])/(matrix[2,t]-matrix[1,t]), 2)\n",
      "d:\\Time_Series_Segmenation\\benchmark\\Evaluating\\evaluating_file.py:379: RuntimeWarning: invalid value encountered in scalar divide\n",
      "  results[profile_name] = round(100*(matrix[0,t]-matrix[1,t])/(matrix[2,t]-matrix[1,t]), 2)\n",
      "d:\\Time_Series_Segmenation\\benchmark\\Evaluating\\evaluating_file.py:379: RuntimeWarning: invalid value encountered in scalar divide\n",
      "  results[profile_name] = round(100*(matrix[0,t]-matrix[1,t])/(matrix[2,t]-matrix[1,t]), 2)\n",
      "d:\\Time_Series_Segmenation\\benchmark\\Evaluating\\evaluating_file.py:379: RuntimeWarning: invalid value encountered in scalar divide\n",
      "  results[profile_name] = round(100*(matrix[0,t]-matrix[1,t])/(matrix[2,t]-matrix[1,t]), 2)\n",
      "d:\\Time_Series_Segmenation\\benchmark\\Evaluating\\evaluating_file.py:379: RuntimeWarning: invalid value encountered in scalar divide\n",
      "  results[profile_name] = round(100*(matrix[0,t]-matrix[1,t])/(matrix[2,t]-matrix[1,t]), 2)\n"
     ]
    },
    {
     "name": "stdout",
     "output_type": "stream",
     "text": [
      "Mean Covering: 0.46785517407284694\n",
      "Mean F-measure: 1.0\n",
      "Mean NAB (Standard): 29.161884057971005\n",
      "Mean NAB (LowFP): 23.32536231884058\n",
      "Mean NAB (LowFN): 32.52753623188404\n"
     ]
    }
   ],
   "source": [
    "all_cps_true=[]\n",
    "all_cps_found=[]\n",
    "all_ts_len=[]\n",
    "# Iterate over each time series\n",
    "for _, (ts_name, window_size, cps_true, ts) in tqdm(tssb.iterrows()):\n",
    "    # Fit the DynamicProgramming algorithm and predict change points\n",
    "    cps_found = DynamicProgramming().fit_predict(np.array(ts), len(cps_true))[:-1]\n",
    "    all_cps_true.append(cps_true)\n",
    "    all_cps_found.append(cps_found)\n",
    "    all_ts_len.append(ts.shape[0])\n",
    "\n",
    "evaluate_and_save(all_cps_true,all_cps_found,all_ts_len,\"DynamicProgramming\")"
   ]
  },
  {
   "cell_type": "markdown",
   "metadata": {},
   "source": [
    "<h3>FLOSS</h3>"
   ]
  },
  {
   "cell_type": "code",
   "execution_count": 11,
   "metadata": {},
   "outputs": [
    {
     "name": "stderr",
     "output_type": "stream",
     "text": [
      "75it [18:26, 14.75s/it]\n",
      "d:\\Time_Series_Segmenation\\benchmark\\Evaluating\\evaluating_file.py:379: RuntimeWarning: invalid value encountered in scalar divide\n",
      "  results[profile_name] = round(100*(matrix[0,t]-matrix[1,t])/(matrix[2,t]-matrix[1,t]), 2)\n",
      "d:\\Time_Series_Segmenation\\benchmark\\Evaluating\\evaluating_file.py:379: RuntimeWarning: divide by zero encountered in scalar divide\n",
      "  results[profile_name] = round(100*(matrix[0,t]-matrix[1,t])/(matrix[2,t]-matrix[1,t]), 2)\n",
      "d:\\Time_Series_Segmenation\\benchmark\\Evaluating\\evaluating_file.py:379: RuntimeWarning: divide by zero encountered in scalar divide\n",
      "  results[profile_name] = round(100*(matrix[0,t]-matrix[1,t])/(matrix[2,t]-matrix[1,t]), 2)\n",
      "d:\\Time_Series_Segmenation\\benchmark\\Evaluating\\evaluating_file.py:379: RuntimeWarning: divide by zero encountered in scalar divide\n",
      "  results[profile_name] = round(100*(matrix[0,t]-matrix[1,t])/(matrix[2,t]-matrix[1,t]), 2)\n",
      "d:\\Time_Series_Segmenation\\benchmark\\Evaluating\\evaluating_file.py:379: RuntimeWarning: divide by zero encountered in scalar divide\n",
      "  results[profile_name] = round(100*(matrix[0,t]-matrix[1,t])/(matrix[2,t]-matrix[1,t]), 2)\n",
      "d:\\Time_Series_Segmenation\\benchmark\\Evaluating\\evaluating_file.py:379: RuntimeWarning: divide by zero encountered in scalar divide\n",
      "  results[profile_name] = round(100*(matrix[0,t]-matrix[1,t])/(matrix[2,t]-matrix[1,t]), 2)\n"
     ]
    },
    {
     "name": "stdout",
     "output_type": "stream",
     "text": [
      "Mean Covering: 0.5193691811281659\n",
      "Mean F-measure: 0.5146524852335557\n",
      "Mean NAB (Standard): 51.01507246376811\n",
      "Mean NAB (LowFP): 19.708115942028986\n",
      "Mean NAB (LowFN): 61.46652173913044\n"
     ]
    }
   ],
   "source": [
    "all_cps_true=[]\n",
    "all_cps_found=[]\n",
    "all_ts_len=[]\n",
    "# Iterate over each time series\n",
    "for _, (ts_name, window_size, cps_true, ts) in tqdm(tssb.iterrows()):\n",
    "    floss_detector = FLOSS(n_timepoints=len(ts), window_size=20, n_prerun=500, threshold=0.7, excl_factor=5, verbose=0)\n",
    "    # Update FLOSS with each time point\n",
    "    for timepoint in ts:\n",
    "        floss_detector.update(timepoint)\n",
    "\n",
    "    # Get the change points detected by FLOSS\n",
    "    cps_found = floss_detector.change_points\n",
    "    all_cps_true.append(cps_true)\n",
    "    all_cps_found.append(cps_found)\n",
    "    all_ts_len.append(ts.shape[0])\n",
    "\n",
    "evaluate_and_save(all_cps_true,all_cps_found,all_ts_len,\"FLOSS\")\n"
   ]
  },
  {
   "cell_type": "markdown",
   "metadata": {},
   "source": [
    "<h3>Pelt</h3>"
   ]
  },
  {
   "cell_type": "code",
   "execution_count": 17,
   "metadata": {},
   "outputs": [
    {
     "name": "stderr",
     "output_type": "stream",
     "text": [
      "d:\\Time_Series_Segmenation\\benchmark\\Evaluating\\evaluating_file.py:379: RuntimeWarning: invalid value encountered in scalar divide\n",
      "  results[profile_name] = round(100*(matrix[0,t]-matrix[1,t])/(matrix[2,t]-matrix[1,t]), 2)\n",
      "d:\\Time_Series_Segmenation\\benchmark\\Evaluating\\evaluating_file.py:379: RuntimeWarning: divide by zero encountered in scalar divide\n",
      "  results[profile_name] = round(100*(matrix[0,t]-matrix[1,t])/(matrix[2,t]-matrix[1,t]), 2)\n",
      "d:\\Time_Series_Segmenation\\benchmark\\Evaluating\\evaluating_file.py:379: RuntimeWarning: invalid value encountered in scalar divide\n",
      "  results[profile_name] = round(100*(matrix[0,t]-matrix[1,t])/(matrix[2,t]-matrix[1,t]), 2)\n",
      "d:\\Time_Series_Segmenation\\benchmark\\Evaluating\\evaluating_file.py:379: RuntimeWarning: invalid value encountered in scalar divide\n",
      "  results[profile_name] = round(100*(matrix[0,t]-matrix[1,t])/(matrix[2,t]-matrix[1,t]), 2)\n",
      "d:\\Time_Series_Segmenation\\benchmark\\Evaluating\\evaluating_file.py:379: RuntimeWarning: invalid value encountered in scalar divide\n",
      "  results[profile_name] = round(100*(matrix[0,t]-matrix[1,t])/(matrix[2,t]-matrix[1,t]), 2)\n"
     ]
    },
    {
     "name": "stdout",
     "output_type": "stream",
     "text": [
      "Mean Covering: 0.3759451685693726\n",
      "Mean F-measure: 0.4834183328866255\n",
      "Mean NAB (Standard): 2.68768115942029\n",
      "Mean NAB (LowFP): -2.9402898550724643\n",
      "Mean NAB (LowFN): 4.690579710144928\n"
     ]
    },
    {
     "name": "stderr",
     "output_type": "stream",
     "text": [
      "d:\\Time_Series_Segmenation\\benchmark\\Evaluating\\evaluating_file.py:379: RuntimeWarning: divide by zero encountered in scalar divide\n",
      "  results[profile_name] = round(100*(matrix[0,t]-matrix[1,t])/(matrix[2,t]-matrix[1,t]), 2)\n"
     ]
    }
   ],
   "source": [
    "all_cps_true=[]\n",
    "all_cps_found=[]\n",
    "all_ts_len=[]\n",
    "# Iterate over each time series\n",
    "for _, (ts_name, window_size, cps_true, ts) in tqdm(tssb.iterrows()):\n",
    "     # Predict change points using the Pelt algorithm&\n",
    "    cps_found = Pelt().fit_predict(np.array(ts), pen=45)[:-1]\n",
    "    all_cps_true.append(cps_true)\n",
    "    all_cps_found.append(cps_found)\n",
    "    all_ts_len.append(ts.shape[0])\n",
    "\n",
    "evaluate_and_save(all_cps_true,all_cps_found,all_ts_len,\"Pelt\")\n"
   ]
  },
  {
   "cell_type": "markdown",
   "metadata": {},
   "source": [
    "<h3>BOCD</h3>"
   ]
  },
  {
   "cell_type": "code",
   "execution_count": 19,
   "metadata": {},
   "outputs": [
    {
     "name": "stderr",
     "output_type": "stream",
     "text": [
      "d:\\Time_Series_Segmenation\\benchmark\\Evaluating\\evaluating_file.py:379: RuntimeWarning: invalid value encountered in scalar divide\n",
      "  results[profile_name] = round(100*(matrix[0,t]-matrix[1,t])/(matrix[2,t]-matrix[1,t]), 2)\n",
      "d:\\Time_Series_Segmenation\\benchmark\\Evaluating\\evaluating_file.py:379: RuntimeWarning: invalid value encountered in scalar divide\n",
      "  results[profile_name] = round(100*(matrix[0,t]-matrix[1,t])/(matrix[2,t]-matrix[1,t]), 2)\n",
      "d:\\Time_Series_Segmenation\\benchmark\\Evaluating\\evaluating_file.py:379: RuntimeWarning: invalid value encountered in scalar divide\n",
      "  results[profile_name] = round(100*(matrix[0,t]-matrix[1,t])/(matrix[2,t]-matrix[1,t]), 2)\n",
      "d:\\Time_Series_Segmenation\\benchmark\\Evaluating\\evaluating_file.py:379: RuntimeWarning: invalid value encountered in scalar divide\n",
      "  results[profile_name] = round(100*(matrix[0,t]-matrix[1,t])/(matrix[2,t]-matrix[1,t]), 2)\n",
      "d:\\Time_Series_Segmenation\\benchmark\\Evaluating\\evaluating_file.py:379: RuntimeWarning: invalid value encountered in scalar divide\n",
      "  results[profile_name] = round(100*(matrix[0,t]-matrix[1,t])/(matrix[2,t]-matrix[1,t]), 2)\n"
     ]
    },
    {
     "name": "stdout",
     "output_type": "stream",
     "text": [
      "Mean Covering: 0.5455411250579468\n",
      "Mean F-measure: 1.0\n",
      "Mean NAB (Standard): 27.403478260869555\n",
      "Mean NAB (LowFP): 21.974637681159415\n",
      "Mean NAB (LowFN): 29.386666666666656\n"
     ]
    },
    {
     "name": "stderr",
     "output_type": "stream",
     "text": [
      "d:\\Time_Series_Segmenation\\benchmark\\Evaluating\\evaluating_file.py:379: RuntimeWarning: invalid value encountered in scalar divide\n",
      "  results[profile_name] = round(100*(matrix[0,t]-matrix[1,t])/(matrix[2,t]-matrix[1,t]), 2)\n"
     ]
    }
   ],
   "source": [
    "all_cps_true=[]\n",
    "all_cps_found=[]\n",
    "all_ts_len=[]\n",
    "# Iterate over each time series\n",
    "for _, (ts_name, window_size, cps_true, ts) in tqdm(tssb.iterrows()):\n",
    "    # Fit the BinaryClaSPSegmentation algorithm and predict change points\n",
    "    cps_found = bocd(ts,len(cps_true))\n",
    "    all_cps_true.append(cps_true)\n",
    "    all_cps_found.append(cps_found)\n",
    "    all_ts_len.append(ts.shape[0])\n",
    "\n",
    "evaluate_and_save(all_cps_true,all_cps_found,all_ts_len,\"BOCD\")"
   ]
  },
  {
   "cell_type": "markdown",
   "metadata": {},
   "source": [
    "<h3>Fluss</h3>"
   ]
  },
  {
   "cell_type": "code",
   "execution_count": 19,
   "metadata": {},
   "outputs": [
    {
     "name": "stderr",
     "output_type": "stream",
     "text": [
      "75it [03:28,  2.77s/it]\n",
      "d:\\Time_Series_Segmenation\\benchmark\\Evaluating\\evaluating_file.py:379: RuntimeWarning: divide by zero encountered in scalar divide\n",
      "  results[profile_name] = round(100*(matrix[0,t]-matrix[1,t])/(matrix[2,t]-matrix[1,t]), 2)\n",
      "d:\\Time_Series_Segmenation\\benchmark\\Evaluating\\evaluating_file.py:379: RuntimeWarning: divide by zero encountered in scalar divide\n",
      "  results[profile_name] = round(100*(matrix[0,t]-matrix[1,t])/(matrix[2,t]-matrix[1,t]), 2)\n",
      "d:\\Time_Series_Segmenation\\benchmark\\Evaluating\\evaluating_file.py:379: RuntimeWarning: divide by zero encountered in scalar divide\n",
      "  results[profile_name] = round(100*(matrix[0,t]-matrix[1,t])/(matrix[2,t]-matrix[1,t]), 2)\n",
      "d:\\Time_Series_Segmenation\\benchmark\\Evaluating\\evaluating_file.py:379: RuntimeWarning: divide by zero encountered in scalar divide\n",
      "  results[profile_name] = round(100*(matrix[0,t]-matrix[1,t])/(matrix[2,t]-matrix[1,t]), 2)\n",
      "d:\\Time_Series_Segmenation\\benchmark\\Evaluating\\evaluating_file.py:379: RuntimeWarning: divide by zero encountered in scalar divide\n",
      "  results[profile_name] = round(100*(matrix[0,t]-matrix[1,t])/(matrix[2,t]-matrix[1,t]), 2)\n",
      "d:\\Time_Series_Segmenation\\benchmark\\Evaluating\\evaluating_file.py:379: RuntimeWarning: divide by zero encountered in scalar divide\n",
      "  results[profile_name] = round(100*(matrix[0,t]-matrix[1,t])/(matrix[2,t]-matrix[1,t]), 2)\n"
     ]
    },
    {
     "name": "stdout",
     "output_type": "stream",
     "text": [
      "Mean Covering: 0.6661554089503763\n",
      "Mean F-measure: 0.7953333333333329\n",
      "Mean NAB (Standard): 40.27768115942028\n",
      "Mean NAB (LowFP): 34.56942028985507\n",
      "Mean NAB (LowFN): 42.38014492753623\n"
     ]
    }
   ],
   "source": [
    "all_cps_true=[]\n",
    "all_cps_found=[]\n",
    "all_ts_len=[]\n",
    "# Iterate over each time series\n",
    "for _, (ts_name, window_size, cps_true, ts) in tqdm(tssb.iterrows()):\n",
    "    # Parameters\n",
    "    window_size = 50\n",
    "    n_cps = 3\n",
    "    # Using FLUSS function to predict change points\n",
    "    cps_found = fluss(ts, window_size, n_cps)\n",
    "\n",
    "    all_cps_true.append(cps_true)\n",
    "    all_cps_found.append(cps_found)\n",
    "    all_ts_len.append(ts.shape[0])\n",
    "\n",
    "evaluate_and_save(all_cps_true,all_cps_found,all_ts_len,\"Fluss\")\n",
    "\n"
   ]
  },
  {
   "cell_type": "code",
   "execution_count": 20,
   "metadata": {},
   "outputs": [
    {
     "name": "stdout",
     "output_type": "stream",
     "text": [
      "DataFrame saved as 'TSSB.csv'\n"
     ]
    },
    {
     "data": {
      "text/html": [
       "<div>\n",
       "<style scoped>\n",
       "    .dataframe tbody tr th:only-of-type {\n",
       "        vertical-align: middle;\n",
       "    }\n",
       "\n",
       "    .dataframe tbody tr th {\n",
       "        vertical-align: top;\n",
       "    }\n",
       "\n",
       "    .dataframe thead th {\n",
       "        text-align: right;\n",
       "    }\n",
       "</style>\n",
       "<table border=\"1\" class=\"dataframe\">\n",
       "  <thead>\n",
       "    <tr style=\"text-align: right;\">\n",
       "      <th></th>\n",
       "      <th>name_algo</th>\n",
       "      <th>Covering</th>\n",
       "      <th>F-measure</th>\n",
       "      <th>NAB (Standard)</th>\n",
       "      <th>NAB (LowFP)</th>\n",
       "      <th>NAB (LowFN)</th>\n",
       "    </tr>\n",
       "  </thead>\n",
       "  <tbody>\n",
       "    <tr>\n",
       "      <th>0</th>\n",
       "      <td>BinaryClaSPSegmentation</td>\n",
       "      <td>0.854771</td>\n",
       "      <td>0.895600</td>\n",
       "      <td>49.383043</td>\n",
       "      <td>43.308116</td>\n",
       "      <td>51.572609</td>\n",
       "    </tr>\n",
       "    <tr>\n",
       "      <th>1</th>\n",
       "      <td>DynamicProgramming</td>\n",
       "      <td>0.467855</td>\n",
       "      <td>1.000000</td>\n",
       "      <td>29.161884</td>\n",
       "      <td>23.325362</td>\n",
       "      <td>32.527536</td>\n",
       "    </tr>\n",
       "    <tr>\n",
       "      <th>2</th>\n",
       "      <td>FLOSS</td>\n",
       "      <td>0.519369</td>\n",
       "      <td>0.514652</td>\n",
       "      <td>51.015072</td>\n",
       "      <td>19.708116</td>\n",
       "      <td>61.466522</td>\n",
       "    </tr>\n",
       "    <tr>\n",
       "      <th>3</th>\n",
       "      <td>Pelt</td>\n",
       "      <td>0.375945</td>\n",
       "      <td>0.483418</td>\n",
       "      <td>2.687681</td>\n",
       "      <td>-2.940290</td>\n",
       "      <td>4.690580</td>\n",
       "    </tr>\n",
       "    <tr>\n",
       "      <th>4</th>\n",
       "      <td>Window</td>\n",
       "      <td>0.401032</td>\n",
       "      <td>0.512508</td>\n",
       "      <td>0.000000</td>\n",
       "      <td>0.000000</td>\n",
       "      <td>0.000000</td>\n",
       "    </tr>\n",
       "    <tr>\n",
       "      <th>5</th>\n",
       "      <td>Fluss</td>\n",
       "      <td>0.666155</td>\n",
       "      <td>0.795333</td>\n",
       "      <td>40.277681</td>\n",
       "      <td>34.569420</td>\n",
       "      <td>42.380145</td>\n",
       "    </tr>\n",
       "  </tbody>\n",
       "</table>\n",
       "</div>"
      ],
      "text/plain": [
       "                 name_algo  Covering  F-measure  NAB (Standard)  NAB (LowFP)  \\\n",
       "0  BinaryClaSPSegmentation  0.854771   0.895600       49.383043    43.308116   \n",
       "1       DynamicProgramming  0.467855   1.000000       29.161884    23.325362   \n",
       "2                    FLOSS  0.519369   0.514652       51.015072    19.708116   \n",
       "3                     Pelt  0.375945   0.483418        2.687681    -2.940290   \n",
       "4                   Window  0.401032   0.512508        0.000000     0.000000   \n",
       "5                    Fluss  0.666155   0.795333       40.277681    34.569420   \n",
       "\n",
       "   NAB (LowFN)  \n",
       "0    51.572609  \n",
       "1    32.527536  \n",
       "2    61.466522  \n",
       "3     4.690580  \n",
       "4     0.000000  \n",
       "5    42.380145  "
      ]
     },
     "execution_count": 20,
     "metadata": {},
     "output_type": "execute_result"
    }
   ],
   "source": [
    "# Convert dictionary to DataFrame\n",
    "results_df = pd.DataFrame(results).T.reset_index()\n",
    "\n",
    "# Rename the 'index' column to 'name_algo'\n",
    "results_df = results_df.rename(columns={'index': 'name_algo'})\n",
    "# save the file\n",
    "results_df.to_csv('results/TSSB.csv', index=False)\n",
    "\n",
    "print(\"DataFrame saved as 'TSSB.csv'\")\n",
    "# Display the DataFrame\n",
    "results_df"
   ]
  }
 ],
 "metadata": {
  "kernelspec": {
   "display_name": "base",
   "language": "python",
   "name": "python3"
  },
  "language_info": {
   "codemirror_mode": {
    "name": "ipython",
    "version": 3
   },
   "file_extension": ".py",
   "mimetype": "text/x-python",
   "name": "python",
   "nbconvert_exporter": "python",
   "pygments_lexer": "ipython3",
   "version": "3.11.5"
  }
 },
 "nbformat": 4,
 "nbformat_minor": 2
}

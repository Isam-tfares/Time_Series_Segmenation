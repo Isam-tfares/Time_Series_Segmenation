{
 "cells": [
  {
   "cell_type": "code",
   "execution_count": 1,
   "metadata": {},
   "outputs": [],
   "source": [
    "import numpy as np\n",
    "import pandas as pd\n",
    "import matplotlib.pyplot as plt\n",
    "import sys\n",
    "from tqdm import tqdm"
   ]
  },
  {
   "cell_type": "code",
   "execution_count": 2,
   "metadata": {},
   "outputs": [],
   "source": [
    "sys.path.append('../../datasets/human_activity_segmentation_challenge-main')\n",
    "from utils import *\n",
    "sys.path.append('../../benchmark/utils')\n",
    "from evaluation import *\n",
    "sys.path.append('../')\n",
    "from ClassificationParScoreProfile import *\n",
    "from DynamicProgramming import *\n",
    "from FLOSS import *\n",
    "from Pelt import *\n",
    "from Window import *\n",
    "from BayesianOnlineChangePointDetection import *\n",
    "from Fluss import *"
   ]
  },
  {
   "cell_type": "markdown",
   "metadata": {},
   "source": [
    "<h3>Load Dataset</h3>"
   ]
  },
  {
   "cell_type": "code",
   "execution_count": 3,
   "metadata": {},
   "outputs": [
    {
     "data": {
      "text/html": [
       "<div>\n",
       "<style scoped>\n",
       "    .dataframe tbody tr th:only-of-type {\n",
       "        vertical-align: middle;\n",
       "    }\n",
       "\n",
       "    .dataframe tbody tr th {\n",
       "        vertical-align: top;\n",
       "    }\n",
       "\n",
       "    .dataframe thead th {\n",
       "        text-align: right;\n",
       "    }\n",
       "</style>\n",
       "<table border=\"1\" class=\"dataframe\">\n",
       "  <thead>\n",
       "    <tr style=\"text-align: right;\">\n",
       "      <th></th>\n",
       "      <th>ts_id</th>\n",
       "      <th>ts_challenge_id</th>\n",
       "      <th>group</th>\n",
       "      <th>subject</th>\n",
       "      <th>routine</th>\n",
       "      <th>change_points</th>\n",
       "      <th>activities</th>\n",
       "      <th>split</th>\n",
       "      <th>x-acc</th>\n",
       "      <th>y-acc</th>\n",
       "      <th>z-acc</th>\n",
       "      <th>x-gyro</th>\n",
       "      <th>y-gyro</th>\n",
       "      <th>z-gyro</th>\n",
       "      <th>x-mag</th>\n",
       "      <th>y-mag</th>\n",
       "      <th>z-mag</th>\n",
       "      <th>lat</th>\n",
       "      <th>lon</th>\n",
       "      <th>speed</th>\n",
       "    </tr>\n",
       "  </thead>\n",
       "  <tbody>\n",
       "    <tr>\n",
       "      <th>0</th>\n",
       "      <td>0</td>\n",
       "      <td>125</td>\n",
       "      <td>indoor</td>\n",
       "      <td>1</td>\n",
       "      <td>1</td>\n",
       "      <td>[1461, 2952, 4473, 5022, 6460]</td>\n",
       "      <td>[jumping jacks, downtoplank, jumping jacks, re...</td>\n",
       "      <td>private</td>\n",
       "      <td>[0.406, 0.7786, 0.70785, 0.5649, 0.268, -0.035...</td>\n",
       "      <td>[-0.4804, -0.19365, 0.4704, 0.6985, 0.45065, 0...</td>\n",
       "      <td>[1.775, 2.5445, 2.3076499999999998, 1.85993333...</td>\n",
       "      <td>[-0.2425, -0.1857, -0.0446, 0.0733, -0.0122, -...</td>\n",
       "      <td>[1.2022, 1.204, 1.2584, 1.4465, 1.6316, 1.5009...</td>\n",
       "      <td>[-0.0538, -0.0324, 0.0147, 0.0568, 0.0531, -0....</td>\n",
       "      <td>[-24.9, -23.4, -23.4, -23.4, -21.3, -21.3, -21...</td>\n",
       "      <td>[60.3, 62.0, 62.0, 62.0, 61.2, 61.2, 61.2, 62....</td>\n",
       "      <td>[-24.4, -26.1, -26.1, -26.1, -26.9, -26.9, -26...</td>\n",
       "      <td>[]</td>\n",
       "      <td>[]</td>\n",
       "      <td>[]</td>\n",
       "    </tr>\n",
       "    <tr>\n",
       "      <th>1</th>\n",
       "      <td>1</td>\n",
       "      <td>140</td>\n",
       "      <td>indoor</td>\n",
       "      <td>1</td>\n",
       "      <td>1</td>\n",
       "      <td>[772, 2056, 3521, 4835, 5283, 6893]</td>\n",
       "      <td>[rest, plank, sit ups, plank, rest, jumping ja...</td>\n",
       "      <td>public</td>\n",
       "      <td>[-0.2274, -0.2274, 0.1261, 0.1261, 0.1261, -0....</td>\n",
       "      <td>[0.5969, 0.5969, 0.1466, 0.1466, 0.1466, 0.515...</td>\n",
       "      <td>[-0.5992, -0.5992, -0.0643, -0.0643, -0.0643, ...</td>\n",
       "      <td>[-0.15955714285714287, -0.1613, -0.10250000000...</td>\n",
       "      <td>[-0.045385714285714286, -0.0391, -0.0080599999...</td>\n",
       "      <td>[-0.1735142857142857, -0.1772, -0.195, -0.2097...</td>\n",
       "      <td>[-29.4, -28.7, -28.7, -28.7, -29.1, -29.1, -29...</td>\n",
       "      <td>[-63.5, -62.4, -62.4, -62.4, -62.7, -62.7, -62...</td>\n",
       "      <td>[-52.2, -52.4, -52.4, -52.4, -52.2, -52.2, -52...</td>\n",
       "      <td>[]</td>\n",
       "      <td>[]</td>\n",
       "      <td>[]</td>\n",
       "    </tr>\n",
       "    <tr>\n",
       "      <th>2</th>\n",
       "      <td>2</td>\n",
       "      <td>93</td>\n",
       "      <td>indoor</td>\n",
       "      <td>1</td>\n",
       "      <td>1</td>\n",
       "      <td>[1211, 2043, 2836, 3529, 4036]</td>\n",
       "      <td>[plank, squat jump, lunges left, lunges right,...</td>\n",
       "      <td>public</td>\n",
       "      <td>[4.8883, 4.8883, 4.8883, 4.4134, 4.4134, 4.413...</td>\n",
       "      <td>[5.4784, 5.4784, 5.4784, 5.8291, 5.8291, 5.829...</td>\n",
       "      <td>[-6.4445, -6.4445, -6.4445, -6.0946, -6.0946, ...</td>\n",
       "      <td>[0.060823076923076924, 0.08336, 0.0929, 0.2059...</td>\n",
       "      <td>[0.01392307692307692, -0.00486, -0.0012, 0.018...</td>\n",
       "      <td>[0.054430769230769234, 0.04057, 0.0391, 0.0824...</td>\n",
       "      <td>[-34.2, -34.2, -34.0, -34.0, -34.0, -34.0, -34...</td>\n",
       "      <td>[3.0, 3.0, 2.8, 2.8, 2.8, 4.3, 4.3, 4.3, 4.0, ...</td>\n",
       "      <td>[63.9, 63.9, 64.8, 64.8, 64.8, 64.9, 64.9, 64....</td>\n",
       "      <td>[]</td>\n",
       "      <td>[]</td>\n",
       "      <td>[]</td>\n",
       "    </tr>\n",
       "    <tr>\n",
       "      <th>3</th>\n",
       "      <td>3</td>\n",
       "      <td>52</td>\n",
       "      <td>indoor</td>\n",
       "      <td>1</td>\n",
       "      <td>1</td>\n",
       "      <td>[739, 1433, 2044, 2875, 3589]</td>\n",
       "      <td>[lunges left, lunges right, rest, squat jump, ...</td>\n",
       "      <td>private</td>\n",
       "      <td>[-1.2656, -1.2656, -1.2656, -6.6303, -6.6303, ...</td>\n",
       "      <td>[-0.5253, -0.5253, -0.5253, -0.0624, -0.0624, ...</td>\n",
       "      <td>[-3.9209, -3.9209, -3.9209, -4.8733, -4.8733, ...</td>\n",
       "      <td>[-0.47177142857142856, -0.46897142857142854, -...</td>\n",
       "      <td>[0.7421142857142857, 0.44257142857142856, 0.26...</td>\n",
       "      <td>[-0.16341428571428573, -0.4535285714285714, -0...</td>\n",
       "      <td>[-1.7, -2.9, -2.9, -2.9, -4.9, -4.9, -4.9, -5....</td>\n",
       "      <td>[76.8, 75.4, 75.4, 75.4, 74.8, 74.8, 74.8, 74....</td>\n",
       "      <td>[-5.0, -3.7, -3.7, -3.7, -1.2, -1.2, -1.2, 1.5...</td>\n",
       "      <td>[]</td>\n",
       "      <td>[]</td>\n",
       "      <td>[]</td>\n",
       "    </tr>\n",
       "    <tr>\n",
       "      <th>4</th>\n",
       "      <td>4</td>\n",
       "      <td>221</td>\n",
       "      <td>indoor</td>\n",
       "      <td>1</td>\n",
       "      <td>1</td>\n",
       "      <td>[1506, 3033, 4477, 5348, 6805]</td>\n",
       "      <td>[hiptrust, diagonal, hiptrust, rest, diagonal,...</td>\n",
       "      <td>private</td>\n",
       "      <td>[-0.8136, -0.8136, -0.8136, -0.1624, -0.1624, ...</td>\n",
       "      <td>[-0.1392, -0.1392, -0.1392, -1.0283, -1.0283, ...</td>\n",
       "      <td>[0.844, 0.844, 0.844, 1.1861, 1.1861, 1.1861, ...</td>\n",
       "      <td>[-0.654675, -0.7183900000000001, -0.7294, -0.7...</td>\n",
       "      <td>[-0.021399999999999995, -0.11534, -0.1124, 0.0...</td>\n",
       "      <td>[0.032975, 0.05033, 0.0452, 0.03444, 0.0851099...</td>\n",
       "      <td>[10.6, 10.6, 10.6, 11.3, 11.3, 11.3, 12.1, 12....</td>\n",
       "      <td>[-69.2, -69.2, -69.2, -64.5, -64.5, -64.5, -60...</td>\n",
       "      <td>[-50.3, -50.3, -50.3, -53.5, -53.5, -53.5, -57...</td>\n",
       "      <td>[]</td>\n",
       "      <td>[]</td>\n",
       "      <td>[]</td>\n",
       "    </tr>\n",
       "  </tbody>\n",
       "</table>\n",
       "</div>"
      ],
      "text/plain": [
       "   ts_id  ts_challenge_id   group  subject  routine  \\\n",
       "0      0              125  indoor        1        1   \n",
       "1      1              140  indoor        1        1   \n",
       "2      2               93  indoor        1        1   \n",
       "3      3               52  indoor        1        1   \n",
       "4      4              221  indoor        1        1   \n",
       "\n",
       "                         change_points  \\\n",
       "0       [1461, 2952, 4473, 5022, 6460]   \n",
       "1  [772, 2056, 3521, 4835, 5283, 6893]   \n",
       "2       [1211, 2043, 2836, 3529, 4036]   \n",
       "3        [739, 1433, 2044, 2875, 3589]   \n",
       "4       [1506, 3033, 4477, 5348, 6805]   \n",
       "\n",
       "                                          activities    split  \\\n",
       "0  [jumping jacks, downtoplank, jumping jacks, re...  private   \n",
       "1  [rest, plank, sit ups, plank, rest, jumping ja...   public   \n",
       "2  [plank, squat jump, lunges left, lunges right,...   public   \n",
       "3  [lunges left, lunges right, rest, squat jump, ...  private   \n",
       "4  [hiptrust, diagonal, hiptrust, rest, diagonal,...  private   \n",
       "\n",
       "                                               x-acc  \\\n",
       "0  [0.406, 0.7786, 0.70785, 0.5649, 0.268, -0.035...   \n",
       "1  [-0.2274, -0.2274, 0.1261, 0.1261, 0.1261, -0....   \n",
       "2  [4.8883, 4.8883, 4.8883, 4.4134, 4.4134, 4.413...   \n",
       "3  [-1.2656, -1.2656, -1.2656, -6.6303, -6.6303, ...   \n",
       "4  [-0.8136, -0.8136, -0.8136, -0.1624, -0.1624, ...   \n",
       "\n",
       "                                               y-acc  \\\n",
       "0  [-0.4804, -0.19365, 0.4704, 0.6985, 0.45065, 0...   \n",
       "1  [0.5969, 0.5969, 0.1466, 0.1466, 0.1466, 0.515...   \n",
       "2  [5.4784, 5.4784, 5.4784, 5.8291, 5.8291, 5.829...   \n",
       "3  [-0.5253, -0.5253, -0.5253, -0.0624, -0.0624, ...   \n",
       "4  [-0.1392, -0.1392, -0.1392, -1.0283, -1.0283, ...   \n",
       "\n",
       "                                               z-acc  \\\n",
       "0  [1.775, 2.5445, 2.3076499999999998, 1.85993333...   \n",
       "1  [-0.5992, -0.5992, -0.0643, -0.0643, -0.0643, ...   \n",
       "2  [-6.4445, -6.4445, -6.4445, -6.0946, -6.0946, ...   \n",
       "3  [-3.9209, -3.9209, -3.9209, -4.8733, -4.8733, ...   \n",
       "4  [0.844, 0.844, 0.844, 1.1861, 1.1861, 1.1861, ...   \n",
       "\n",
       "                                              x-gyro  \\\n",
       "0  [-0.2425, -0.1857, -0.0446, 0.0733, -0.0122, -...   \n",
       "1  [-0.15955714285714287, -0.1613, -0.10250000000...   \n",
       "2  [0.060823076923076924, 0.08336, 0.0929, 0.2059...   \n",
       "3  [-0.47177142857142856, -0.46897142857142854, -...   \n",
       "4  [-0.654675, -0.7183900000000001, -0.7294, -0.7...   \n",
       "\n",
       "                                              y-gyro  \\\n",
       "0  [1.2022, 1.204, 1.2584, 1.4465, 1.6316, 1.5009...   \n",
       "1  [-0.045385714285714286, -0.0391, -0.0080599999...   \n",
       "2  [0.01392307692307692, -0.00486, -0.0012, 0.018...   \n",
       "3  [0.7421142857142857, 0.44257142857142856, 0.26...   \n",
       "4  [-0.021399999999999995, -0.11534, -0.1124, 0.0...   \n",
       "\n",
       "                                              z-gyro  \\\n",
       "0  [-0.0538, -0.0324, 0.0147, 0.0568, 0.0531, -0....   \n",
       "1  [-0.1735142857142857, -0.1772, -0.195, -0.2097...   \n",
       "2  [0.054430769230769234, 0.04057, 0.0391, 0.0824...   \n",
       "3  [-0.16341428571428573, -0.4535285714285714, -0...   \n",
       "4  [0.032975, 0.05033, 0.0452, 0.03444, 0.0851099...   \n",
       "\n",
       "                                               x-mag  \\\n",
       "0  [-24.9, -23.4, -23.4, -23.4, -21.3, -21.3, -21...   \n",
       "1  [-29.4, -28.7, -28.7, -28.7, -29.1, -29.1, -29...   \n",
       "2  [-34.2, -34.2, -34.0, -34.0, -34.0, -34.0, -34...   \n",
       "3  [-1.7, -2.9, -2.9, -2.9, -4.9, -4.9, -4.9, -5....   \n",
       "4  [10.6, 10.6, 10.6, 11.3, 11.3, 11.3, 12.1, 12....   \n",
       "\n",
       "                                               y-mag  \\\n",
       "0  [60.3, 62.0, 62.0, 62.0, 61.2, 61.2, 61.2, 62....   \n",
       "1  [-63.5, -62.4, -62.4, -62.4, -62.7, -62.7, -62...   \n",
       "2  [3.0, 3.0, 2.8, 2.8, 2.8, 4.3, 4.3, 4.3, 4.0, ...   \n",
       "3  [76.8, 75.4, 75.4, 75.4, 74.8, 74.8, 74.8, 74....   \n",
       "4  [-69.2, -69.2, -69.2, -64.5, -64.5, -64.5, -60...   \n",
       "\n",
       "                                               z-mag lat lon speed  \n",
       "0  [-24.4, -26.1, -26.1, -26.1, -26.9, -26.9, -26...  []  []    []  \n",
       "1  [-52.2, -52.4, -52.4, -52.4, -52.2, -52.2, -52...  []  []    []  \n",
       "2  [63.9, 63.9, 64.8, 64.8, 64.8, 64.9, 64.9, 64....  []  []    []  \n",
       "3  [-5.0, -3.7, -3.7, -3.7, -1.2, -1.2, -1.2, 1.5...  []  []    []  \n",
       "4  [-50.3, -50.3, -50.3, -53.5, -53.5, -53.5, -57...  []  []    []  "
      ]
     },
     "execution_count": 3,
     "metadata": {},
     "output_type": "execute_result"
    }
   ],
   "source": [
    "# sys.path.append(\"../../datasets/human_activity_segmentation_challenge-main/datasets\")\n",
    "df = load_master_data(\"../../datasets/human_activity_segmentation_challenge-main/datasets/has2023_master.csv.zip\")\n",
    "df.head() \t"
   ]
  },
  {
   "cell_type": "code",
   "execution_count": 4,
   "metadata": {},
   "outputs": [
    {
     "data": {
      "text/html": [
       "<div>\n",
       "<style scoped>\n",
       "    .dataframe tbody tr th:only-of-type {\n",
       "        vertical-align: middle;\n",
       "    }\n",
       "\n",
       "    .dataframe tbody tr th {\n",
       "        vertical-align: top;\n",
       "    }\n",
       "\n",
       "    .dataframe thead th {\n",
       "        text-align: right;\n",
       "    }\n",
       "</style>\n",
       "<table border=\"1\" class=\"dataframe\">\n",
       "  <thead>\n",
       "    <tr style=\"text-align: right;\">\n",
       "      <th></th>\n",
       "      <th>change_points</th>\n",
       "      <th>x-mag</th>\n",
       "    </tr>\n",
       "  </thead>\n",
       "  <tbody>\n",
       "    <tr>\n",
       "      <th>0</th>\n",
       "      <td>[1461, 2952, 4473, 5022, 6460]</td>\n",
       "      <td>[-24.9, -23.4, -23.4, -23.4, -21.3, -21.3, -21...</td>\n",
       "    </tr>\n",
       "    <tr>\n",
       "      <th>1</th>\n",
       "      <td>[772, 2056, 3521, 4835, 5283, 6893]</td>\n",
       "      <td>[-29.4, -28.7, -28.7, -28.7, -29.1, -29.1, -29...</td>\n",
       "    </tr>\n",
       "    <tr>\n",
       "      <th>2</th>\n",
       "      <td>[1211, 2043, 2836, 3529, 4036]</td>\n",
       "      <td>[-34.2, -34.2, -34.0, -34.0, -34.0, -34.0, -34...</td>\n",
       "    </tr>\n",
       "    <tr>\n",
       "      <th>3</th>\n",
       "      <td>[739, 1433, 2044, 2875, 3589]</td>\n",
       "      <td>[-1.7, -2.9, -2.9, -2.9, -4.9, -4.9, -4.9, -5....</td>\n",
       "    </tr>\n",
       "    <tr>\n",
       "      <th>4</th>\n",
       "      <td>[1506, 3033, 4477, 5348, 6805]</td>\n",
       "      <td>[10.6, 10.6, 10.6, 11.3, 11.3, 11.3, 12.1, 12....</td>\n",
       "    </tr>\n",
       "  </tbody>\n",
       "</table>\n",
       "</div>"
      ],
      "text/plain": [
       "                         change_points  \\\n",
       "0       [1461, 2952, 4473, 5022, 6460]   \n",
       "1  [772, 2056, 3521, 4835, 5283, 6893]   \n",
       "2       [1211, 2043, 2836, 3529, 4036]   \n",
       "3        [739, 1433, 2044, 2875, 3589]   \n",
       "4       [1506, 3033, 4477, 5348, 6805]   \n",
       "\n",
       "                                               x-mag  \n",
       "0  [-24.9, -23.4, -23.4, -23.4, -21.3, -21.3, -21...  \n",
       "1  [-29.4, -28.7, -28.7, -28.7, -29.1, -29.1, -29...  \n",
       "2  [-34.2, -34.2, -34.0, -34.0, -34.0, -34.0, -34...  \n",
       "3  [-1.7, -2.9, -2.9, -2.9, -4.9, -4.9, -4.9, -5....  \n",
       "4  [10.6, 10.6, 10.6, 11.3, 11.3, 11.3, 12.1, 12....  "
      ]
     },
     "execution_count": 4,
     "metadata": {},
     "output_type": "execute_result"
    }
   ],
   "source": [
    "cols = [5,14]\n",
    "df=df[df.columns[cols]]\n",
    "df.head()"
   ]
  },
  {
   "cell_type": "code",
   "execution_count": 5,
   "metadata": {},
   "outputs": [],
   "source": [
    "results={}\n",
    "def evaluate_and_save(all_cps_true,all_cps_found,all_ts_len,algorithm_name):\n",
    "    # Initialize lists to store metric values for each time series\n",
    "    covering_scores = []\n",
    "    f_measure_scores = []\n",
    "    nab_scores = []\n",
    "    i=0\n",
    "    # Iterate over each time series\n",
    "    for cps_true,cps_found,ts_len in zip(all_cps_true,all_cps_found,all_ts_len):\n",
    "        i=i+1\n",
    "        score_covering = covering({0: cps_true}, cps_found, ts_len)\n",
    "        covering_scores.append(score_covering)\n",
    "        \n",
    "        # Calculate F-measure\n",
    "        score_F = f_measure({0: cps_true}, cps_found, ts_len) \n",
    "        f_measure_scores.append(score_F)\n",
    "        \n",
    "        # Format true and predicted change points as Series\n",
    "        true_cp, predicted_cp = formate_data(cps_true, cps_found,ts_len)\n",
    "    \n",
    "        # Evaluate change points using the evaluating_change_point function\n",
    "        score_NAB = evaluating_change_point(true_cp, predicted_cp, metric='nab')\n",
    "        nab_scores.append(score_NAB)\n",
    "        # print(score_NAB)\n",
    "\n",
    "    # Calculate mean scores across all time series\n",
    "    mean_covering = sum(covering_scores) / len(covering_scores)\n",
    "    mean_f_measure = sum(f_measure_scores) / len(f_measure_scores)\n",
    "\n",
    "    # Calculate mean NAB scores\n",
    "    nab_scores_filtered = [score for score in nab_scores if not np.isnan(score['Standart']) and not np.isinf(score['Standart'])]\n",
    "    mean_nab_standard = sum(score['Standart'] for score in nab_scores_filtered) / len(nab_scores_filtered)\n",
    "    mean_nab_lowFP = sum(score['LowFP'] for score in nab_scores_filtered) / len(nab_scores_filtered)\n",
    "    mean_nab_lowFN = sum(score['LowFN'] for score in nab_scores_filtered) / len(nab_scores_filtered)\n",
    "\n",
    "\n",
    "    # Print mean scores\n",
    "    print(f\"Mean Covering: {mean_covering}\")\n",
    "    print(f\"Mean F-measure: {mean_f_measure}\")\n",
    "    print(f\"Mean NAB (Standard): {mean_nab_standard}\")\n",
    "    print(f\"Mean NAB (LowFP): {mean_nab_lowFP}\")\n",
    "    print(f\"Mean NAB (LowFN): {mean_nab_lowFN}\")\n",
    "\n",
    "    results[algorithm_name]={\"Covering\":mean_covering,\n",
    "                                        \"F-measure\":mean_f_measure,\n",
    "                                        \"NAB (Standard)\":mean_nab_standard,\n",
    "                                        \"NAB (LowFP)\":mean_nab_lowFP,\n",
    "                                        \"NAB (LowFN)\":mean_nab_lowFN\n",
    "    }\n"
   ]
  },
  {
   "cell_type": "markdown",
   "metadata": {},
   "source": [
    "<h3>BinaryClaSPSegmentation</h3>"
   ]
  },
  {
   "cell_type": "code",
   "execution_count": 6,
   "metadata": {},
   "outputs": [
    {
     "name": "stderr",
     "output_type": "stream",
     "text": [
      "118it [11:38,  6.76s/it]d:\\Time_Series_Segmenation\\benchmark\\Evaluating\\..\\ClassificationParScoreProfile.py:87: UserWarning: Time series must at least have 2*min_seg_size data points for segmentation. Try setting a smaller window size.\n",
      "  warnings.warn(\n",
      "152it [25:12, 68.55s/it]"
     ]
    }
   ],
   "source": [
    "all_cps_true=[]\n",
    "all_cps_found=[]\n",
    "all_ts_len=[]\n",
    "for _,(cps_true,ts) in tqdm(df.iterrows()):\n",
    "  cps_found = BinaryClaSPSegmentation().fit_predict(ts)\n",
    "  all_cps_true.append(cps_true)\n",
    "  all_cps_found.append(cps_found)\n",
    "  all_ts_len.append(ts.shape[0])\n",
    "\n",
    "evaluate_and_save(all_cps_true,all_cps_found,all_ts_len,\"BinaryClaSPSegmentation\")\n"
   ]
  },
  {
   "cell_type": "markdown",
   "metadata": {},
   "source": [
    "<h3>DynamicProgramming</h3>"
   ]
  },
  {
   "cell_type": "code",
   "execution_count": null,
   "metadata": {},
   "outputs": [
    {
     "name": "stderr",
     "output_type": "stream",
     "text": [
      "0it [05:18, ?it/s]\n"
     ]
    },
    {
     "ename": "KeyboardInterrupt",
     "evalue": "",
     "output_type": "error",
     "traceback": [
      "\u001b[1;31m---------------------------------------------------------------------------\u001b[0m",
      "\u001b[1;31mKeyboardInterrupt\u001b[0m                         Traceback (most recent call last)",
      "Cell \u001b[1;32mIn[55], line 5\u001b[0m\n\u001b[0;32m      3\u001b[0m all_ts_len\u001b[38;5;241m=\u001b[39m[]\n\u001b[0;32m      4\u001b[0m \u001b[38;5;28;01mfor\u001b[39;00m _,(cps_true,ts) \u001b[38;5;129;01min\u001b[39;00m tqdm(df\u001b[38;5;241m.\u001b[39miterrows()):\n\u001b[1;32m----> 5\u001b[0m   cps_found \u001b[38;5;241m=\u001b[39m DynamicProgramming()\u001b[38;5;241m.\u001b[39mfit_predict(np\u001b[38;5;241m.\u001b[39marray(ts),\u001b[38;5;28mlen\u001b[39m(cps_true))[:\u001b[38;5;241m-\u001b[39m\u001b[38;5;241m1\u001b[39m]\n\u001b[0;32m      6\u001b[0m   all_cps_true\u001b[38;5;241m.\u001b[39mappend(cps_true)\n\u001b[0;32m      7\u001b[0m   all_cps_found\u001b[38;5;241m.\u001b[39mappend(cps_found)\n",
      "File \u001b[1;32md:\\Time_Series_Segmenation\\benchmark\\Evaluating\\..\\DynamicProgramming.py:149\u001b[0m, in \u001b[0;36mDynamicProgramming.fit_predict\u001b[1;34m(self, signal, n_bkps)\u001b[0m\n\u001b[0;32m    137\u001b[0m \u001b[38;5;250m\u001b[39m\u001b[38;5;124;03m\"\"\"Fit to the signal and return the optimal breakpoints.\u001b[39;00m\n\u001b[0;32m    138\u001b[0m \n\u001b[0;32m    139\u001b[0m \u001b[38;5;124;03mHelper method to call fit and predict once\u001b[39;00m\n\u001b[1;32m   (...)\u001b[0m\n\u001b[0;32m    146\u001b[0m \u001b[38;5;124;03m    list: sorted list of breakpoints\u001b[39;00m\n\u001b[0;32m    147\u001b[0m \u001b[38;5;124;03m\"\"\"\u001b[39;00m\n\u001b[0;32m    148\u001b[0m \u001b[38;5;28mself\u001b[39m\u001b[38;5;241m.\u001b[39mfit(signal)\n\u001b[1;32m--> 149\u001b[0m \u001b[38;5;28;01mreturn\u001b[39;00m \u001b[38;5;28mself\u001b[39m\u001b[38;5;241m.\u001b[39mpredict(n_bkps)\n",
      "File \u001b[1;32md:\\Time_Series_Segmenation\\benchmark\\Evaluating\\..\\DynamicProgramming.py:132\u001b[0m, in \u001b[0;36mDynamicProgramming.predict\u001b[1;34m(self, n_bkps)\u001b[0m\n\u001b[0;32m    125\u001b[0m \u001b[38;5;28;01mif\u001b[39;00m \u001b[38;5;129;01mnot\u001b[39;00m sanity_check(\n\u001b[0;32m    126\u001b[0m     n_samples\u001b[38;5;241m=\u001b[39m\u001b[38;5;28mself\u001b[39m\u001b[38;5;241m.\u001b[39mcost\u001b[38;5;241m.\u001b[39msignal\u001b[38;5;241m.\u001b[39mshape[\u001b[38;5;241m0\u001b[39m],\n\u001b[0;32m    127\u001b[0m     n_bkps\u001b[38;5;241m=\u001b[39mn_bkps,\n\u001b[0;32m    128\u001b[0m     jump\u001b[38;5;241m=\u001b[39m\u001b[38;5;28mself\u001b[39m\u001b[38;5;241m.\u001b[39mjump,\n\u001b[0;32m    129\u001b[0m     min_size\u001b[38;5;241m=\u001b[39m\u001b[38;5;28mself\u001b[39m\u001b[38;5;241m.\u001b[39mmin_size,\n\u001b[0;32m    130\u001b[0m ):\n\u001b[0;32m    131\u001b[0m     \u001b[38;5;28;01mraise\u001b[39;00m BadSegmentationParameters\n\u001b[1;32m--> 132\u001b[0m partition \u001b[38;5;241m=\u001b[39m \u001b[38;5;28mself\u001b[39m\u001b[38;5;241m.\u001b[39mseg(\u001b[38;5;241m0\u001b[39m, \u001b[38;5;28mself\u001b[39m\u001b[38;5;241m.\u001b[39mn_samples, n_bkps)\n\u001b[0;32m    133\u001b[0m bkps \u001b[38;5;241m=\u001b[39m \u001b[38;5;28msorted\u001b[39m(e \u001b[38;5;28;01mfor\u001b[39;00m s, e \u001b[38;5;129;01min\u001b[39;00m partition\u001b[38;5;241m.\u001b[39mkeys())\n\u001b[0;32m    134\u001b[0m \u001b[38;5;28;01mreturn\u001b[39;00m bkps\n",
      "File \u001b[1;32md:\\Time_Series_Segmenation\\benchmark\\Evaluating\\..\\DynamicProgramming.py:80\u001b[0m, in \u001b[0;36mDynamicProgramming.seg\u001b[1;34m(self, start, end, n_bkps)\u001b[0m\n\u001b[0;32m     78\u001b[0m sub_problems \u001b[38;5;241m=\u001b[39m \u001b[38;5;28mlist\u001b[39m()\n\u001b[0;32m     79\u001b[0m \u001b[38;5;28;01mfor\u001b[39;00m bkp \u001b[38;5;129;01min\u001b[39;00m admissible_bkps:\n\u001b[1;32m---> 80\u001b[0m     left_partition \u001b[38;5;241m=\u001b[39m \u001b[38;5;28mself\u001b[39m\u001b[38;5;241m.\u001b[39mseg(start, bkp, n_bkps \u001b[38;5;241m-\u001b[39m \u001b[38;5;241m1\u001b[39m)\n\u001b[0;32m     81\u001b[0m     right_partition \u001b[38;5;241m=\u001b[39m \u001b[38;5;28mself\u001b[39m\u001b[38;5;241m.\u001b[39mseg(bkp, end, \u001b[38;5;241m0\u001b[39m)\n\u001b[0;32m     82\u001b[0m     tmp_partition \u001b[38;5;241m=\u001b[39m \u001b[38;5;28mdict\u001b[39m(left_partition)\n",
      "File \u001b[1;32md:\\Time_Series_Segmenation\\benchmark\\Evaluating\\..\\DynamicProgramming.py:81\u001b[0m, in \u001b[0;36mDynamicProgramming.seg\u001b[1;34m(self, start, end, n_bkps)\u001b[0m\n\u001b[0;32m     79\u001b[0m \u001b[38;5;28;01mfor\u001b[39;00m bkp \u001b[38;5;129;01min\u001b[39;00m admissible_bkps:\n\u001b[0;32m     80\u001b[0m     left_partition \u001b[38;5;241m=\u001b[39m \u001b[38;5;28mself\u001b[39m\u001b[38;5;241m.\u001b[39mseg(start, bkp, n_bkps \u001b[38;5;241m-\u001b[39m \u001b[38;5;241m1\u001b[39m)\n\u001b[1;32m---> 81\u001b[0m     right_partition \u001b[38;5;241m=\u001b[39m \u001b[38;5;28mself\u001b[39m\u001b[38;5;241m.\u001b[39mseg(bkp, end, \u001b[38;5;241m0\u001b[39m)\n\u001b[0;32m     82\u001b[0m     tmp_partition \u001b[38;5;241m=\u001b[39m \u001b[38;5;28mdict\u001b[39m(left_partition)\n\u001b[0;32m     83\u001b[0m     tmp_partition[(bkp, end)] \u001b[38;5;241m=\u001b[39m right_partition[(bkp, end)]\n",
      "File \u001b[1;32md:\\Time_Series_Segmenation\\benchmark\\Evaluating\\..\\DynamicProgramming.py:51\u001b[0m, in \u001b[0;36mDynamicProgramming.seg\u001b[1;34m(self, start, end, n_bkps)\u001b[0m\n\u001b[0;32m     48\u001b[0m jump, min_size \u001b[38;5;241m=\u001b[39m \u001b[38;5;28mself\u001b[39m\u001b[38;5;241m.\u001b[39mjump, \u001b[38;5;28mself\u001b[39m\u001b[38;5;241m.\u001b[39mmin_size\n\u001b[0;32m     50\u001b[0m \u001b[38;5;28;01mif\u001b[39;00m n_bkps \u001b[38;5;241m==\u001b[39m \u001b[38;5;241m0\u001b[39m:\n\u001b[1;32m---> 51\u001b[0m     cost \u001b[38;5;241m=\u001b[39m \u001b[38;5;28mself\u001b[39m\u001b[38;5;241m.\u001b[39mcost\u001b[38;5;241m.\u001b[39merror(start, end)\n\u001b[0;32m     52\u001b[0m     \u001b[38;5;28;01mreturn\u001b[39;00m {(start, end): cost}\n\u001b[0;32m     53\u001b[0m \u001b[38;5;28;01melif\u001b[39;00m n_bkps \u001b[38;5;241m>\u001b[39m \u001b[38;5;241m0\u001b[39m:\n\u001b[0;32m     54\u001b[0m     \u001b[38;5;66;03m# Let's fill the list of admissible last breakpoints\u001b[39;00m\n",
      "File \u001b[1;32md:\\Anaconda3\\Lib\\site-packages\\ruptures\\costs\\costl2.py:49\u001b[0m, in \u001b[0;36mCostL2.error\u001b[1;34m(self, start, end)\u001b[0m\n\u001b[0;32m     46\u001b[0m \u001b[38;5;28;01mif\u001b[39;00m end \u001b[38;5;241m-\u001b[39m start \u001b[38;5;241m<\u001b[39m \u001b[38;5;28mself\u001b[39m\u001b[38;5;241m.\u001b[39mmin_size:\n\u001b[0;32m     47\u001b[0m     \u001b[38;5;28;01mraise\u001b[39;00m NotEnoughPoints\n\u001b[1;32m---> 49\u001b[0m \u001b[38;5;28;01mreturn\u001b[39;00m \u001b[38;5;28mself\u001b[39m\u001b[38;5;241m.\u001b[39msignal[start:end]\u001b[38;5;241m.\u001b[39mvar(axis\u001b[38;5;241m=\u001b[39m\u001b[38;5;241m0\u001b[39m)\u001b[38;5;241m.\u001b[39msum() \u001b[38;5;241m*\u001b[39m (end \u001b[38;5;241m-\u001b[39m start)\n",
      "File \u001b[1;32md:\\Anaconda3\\Lib\\site-packages\\numpy\\core\\_methods.py:215\u001b[0m, in \u001b[0;36m_var\u001b[1;34m(a, axis, dtype, out, ddof, keepdims, where)\u001b[0m\n\u001b[0;32m    210\u001b[0m     dtype \u001b[38;5;241m=\u001b[39m mu\u001b[38;5;241m.\u001b[39mdtype(\u001b[38;5;124m'\u001b[39m\u001b[38;5;124mf8\u001b[39m\u001b[38;5;124m'\u001b[39m)\n\u001b[0;32m    212\u001b[0m \u001b[38;5;66;03m# Compute the mean.\u001b[39;00m\n\u001b[0;32m    213\u001b[0m \u001b[38;5;66;03m# Note that if dtype is not of inexact type then arraymean will\u001b[39;00m\n\u001b[0;32m    214\u001b[0m \u001b[38;5;66;03m# not be either.\u001b[39;00m\n\u001b[1;32m--> 215\u001b[0m arrmean \u001b[38;5;241m=\u001b[39m umr_sum(arr, axis, dtype, keepdims\u001b[38;5;241m=\u001b[39m\u001b[38;5;28;01mTrue\u001b[39;00m, where\u001b[38;5;241m=\u001b[39mwhere)\n\u001b[0;32m    216\u001b[0m \u001b[38;5;66;03m# The shape of rcount has to match arrmean to not change the shape of out\u001b[39;00m\n\u001b[0;32m    217\u001b[0m \u001b[38;5;66;03m# in broadcasting. Otherwise, it cannot be stored back to arrmean.\u001b[39;00m\n\u001b[0;32m    218\u001b[0m \u001b[38;5;28;01mif\u001b[39;00m rcount\u001b[38;5;241m.\u001b[39mndim \u001b[38;5;241m==\u001b[39m \u001b[38;5;241m0\u001b[39m:\n\u001b[0;32m    219\u001b[0m     \u001b[38;5;66;03m# fast-path for default case when where is True\u001b[39;00m\n",
      "\u001b[1;31mKeyboardInterrupt\u001b[0m: "
     ]
    }
   ],
   "source": [
    "all_cps_true=[]\n",
    "all_cps_found=[]\n",
    "all_ts_len=[]\n",
    "for _,(cps_true,ts) in tqdm(df.iterrows()):\n",
    "  cps_found = DynamicProgramming().fit_predict(np.array(ts),len(cps_true))[:-1]\n",
    "  all_cps_true.append(cps_true)\n",
    "  all_cps_found.append(cps_found)\n",
    "  all_ts_len.append(ts.shape[0])\n",
    "\n",
    "evaluate_and_save(all_cps_true,all_cps_found,all_ts_len,\"DynamicProgramming\")"
   ]
  },
  {
   "cell_type": "markdown",
   "metadata": {},
   "source": [
    "<h3>FLOSS</h3>"
   ]
  },
  {
   "cell_type": "code",
   "execution_count": null,
   "metadata": {},
   "outputs": [
    {
     "name": "stdout",
     "output_type": "stream",
     "text": [
      "Time Series: 0: True Change Points: [1461 2952 4473 5022 6460], Found Change Points: [198, 726, 966, 1088, 1207, 1405, 1641, 2000, 2963, 3084, 3443, 3890, 3756, 4128, 4416, 4547, 4969, 5299, 5650, 6188, 6413, 6515, 6700], Score: 0.49839917375386705\n",
      "Time Series: 1: True Change Points: [ 772 2056 3521 4835 5283 6893], Found Change Points: [596, 763, 1374, 1525, 2035, 2795, 3421, 3617, 4050, 4525, 5034, 5146, 5276, 5463, 5992, 6255, 6518, 6838, 6949, 7051], Score: 0.5204521335378668\n",
      "Time Series: 2: True Change Points: [1211 2043 2836 3529 4036], Found Change Points: [1186, 1577, 1982, 2092, 2931, 3060, 3275, 3587, 3982, 4134], Score: 0.748345869074771\n",
      "Time Series: 3: True Change Points: [ 739 1433 2044 2875 3589], Found Change Points: [827, 964, 1438, 1571, 2006, 2815, 2925, 3078, 3239, 3482], Score: 0.7350647878676698\n",
      "Time Series: 4: True Change Points: [1506 3033 4477 5348 6805], Found Change Points: [962, 1225, 1366, 1699, 2420, 2565, 2843, 3303, 3583, 3699, 4228, 4345, 4505, 4816, 5170, 5874, 6197, 6845, 6626, 7062, 7771], Score: 0.44722675524975736\n",
      "Time Series: 5: True Change Points: [1458 1887], Found Change Points: [368, 825, 1058, 1443, 1591, 1702, 2064, 1894, 2393, 2684, 3086], Score: 0.31001483517384204\n",
      "Time Series: 6: True Change Points: [1431 1746 3498 5240 6390], Found Change Points: [1294, 1503, 1954, 3606, 4050, 4332, 4803, 5187, 5305, 5498, 6295, 6844, 7167], Score: 0.6114467071492545\n",
      "Time Series: 7: True Change Points: [1605 2846 4136 5300], Found Change Points: [2049, 2314, 2517, 2884, 3083, 3372, 3550, 3661, 4631, 5264, 5501, 5703, 6047], Score: 0.45438640335631325\n",
      "Time Series: 8: True Change Points: [1239 2342 3513 3885], Found Change Points: [1646, 1966, 2169, 2272, 2488, 3850, 4080], Score: 0.5822533652077414\n",
      "Time Series: 9: True Change Points: [ 816 2102 2795 3416 4024 5190], Found Change Points: [869, 1569, 2157, 2345, 3254, 4197, 4784], Score: 0.5757794572680746\n"
     ]
    }
   ],
   "source": [
    "all_cps_true=[]\n",
    "all_cps_found=[]\n",
    "all_ts_len=[]\n",
    "for _,(cps_true,ts) in tqdm(df.iterrows()):\n",
    "    floss_detector = FLOSS(n_timepoints=len(ts), window_size=20, n_prerun=500, threshold=0.7, excl_factor=5, verbose=0)\n",
    "    # Update FLOSS with each time point\n",
    "    for timepoint in ts:\n",
    "        floss_detector.update(timepoint)\n",
    "\n",
    "    cps_found = floss_detector.change_points\n",
    "    all_cps_true.append(cps_true)\n",
    "    all_cps_found.append(cps_found)\n",
    "    all_ts_len.append(ts.shape[0])\n",
    "\n",
    "evaluate_and_save(all_cps_true,all_cps_found,all_ts_len,\"FLOSS\")\n"
   ]
  },
  {
   "cell_type": "markdown",
   "metadata": {},
   "source": [
    "<h3>Pelt</h3>"
   ]
  },
  {
   "cell_type": "code",
   "execution_count": null,
   "metadata": {},
   "outputs": [
    {
     "name": "stdout",
     "output_type": "stream",
     "text": [
      "Time Series: 0: True Change Points: [1461 2952 4473 5022 6460], Found Change Points: [1490, 1550, 1640, 1705, 1745, 1840, 1930, 1990, 2050, 2125, 2230, 2300, 2355, 2430, 2525, 2590, 2665, 2740, 2840, 2880, 5045, 5105, 5170, 5220, 5300, 5345, 5410, 5470, 5525, 5585, 5645, 5705, 5760, 5820, 5875, 5945, 6015, 6125, 6180, 6235, 6300, 6350, 6410, 6460, 7791], Score: 0.5373307206149149\n",
      "Time Series: 1: True Change Points: [ 772 2056 3521 4835 5283 6893], Found Change Points: [4825, 5005, 5050, 8330], Score: 0.3422012112177856\n",
      "Time Series: 2: True Change Points: [1211 2043 2836 3529 4036], Found Change Points: [1240, 1255, 1320, 1330, 1405, 1415, 1490, 1505, 1565, 1580, 1640, 1660, 1720, 1745, 1795, 1825, 1880, 1905, 1965, 1990, 2025, 4050, 4095, 4120, 4170, 4190, 4250, 4280, 4335, 4360, 4430, 4460, 4525, 4555, 4625, 4655, 4715, 4750, 4805, 4840, 4905, 4935, 4964], Score: 0.4033679934797768\n",
      "Time Series: 3: True Change Points: [ 739 1433 2044 2875 3589], Found Change Points: [2030, 2055, 2075, 2135, 2150, 2215, 2235, 2300, 2325, 2390, 2410, 2475, 2500, 2555, 2580, 2635, 2665, 2720, 2750, 2815, 2840, 2915, 2960, 4306], Score: 0.3356991824249338\n",
      "Time Series: 4: True Change Points: [1506 3033 4477 5348 6805], Found Change Points: [1525, 1560, 1620, 1970, 2015, 2345, 2395, 2755, 2805, 4690, 4790, 5145, 5180, 5430, 5470, 5770, 5815, 6130, 6165, 6450, 6500, 6825, 6895, 7005, 7070, 7120, 7205, 7310, 7370, 7435, 7505, 7570, 7630, 7695, 7755, 7880, 7965, 8035, 8090, 8210, 8325, 8371], Score: 0.4477851709005564\n",
      "Time Series: 5: True Change Points: [1458 1887], Found Change Points: [1570, 1605, 1975, 2020, 2290, 2335, 2605, 2645, 2950, 2995, 3295, 3358], Score: 0.5637253749008926\n",
      "Time Series: 6: True Change Points: [1431 1746 3498 5240 6390], Found Change Points: [7732], Score: 0.19026079696742051\n",
      "Time Series: 7: True Change Points: [1605 2846 4136 5300], Found Change Points: [6375], Score: 0.20400097193387157\n",
      "Time Series: 8: True Change Points: [1239 2342 3513 3885], Found Change Points: [4648], Score: 0.22419670074445805\n",
      "Time Series: 9: True Change Points: [ 816 2102 2795 3416 4024 5190], Found Change Points: [5766], Score: 0.1578060127129396\n"
     ]
    }
   ],
   "source": [
    "all_cps_true=[]\n",
    "all_cps_found=[]\n",
    "all_ts_len=[]\n",
    "for _,(cps_true,ts) in tqdm(df.iterrows()):\n",
    "  cps_found = Pelt().fit_predict(np.array(ts),pen=45)\n",
    "  all_cps_true.append(cps_true)\n",
    "  all_cps_found.append(cps_found)\n",
    "  all_ts_len.append(ts.shape[0])\n",
    "\n",
    "evaluate_and_save(all_cps_true,all_cps_found,all_ts_len,\"Pelt\")"
   ]
  },
  {
   "cell_type": "markdown",
   "metadata": {},
   "source": [
    "<h3>BOCD</h3>"
   ]
  },
  {
   "cell_type": "code",
   "execution_count": 6,
   "metadata": {},
   "outputs": [
    {
     "name": "stderr",
     "output_type": "stream",
     "text": [
      "0it [00:00, ?it/s]"
     ]
    },
    {
     "name": "stderr",
     "output_type": "stream",
     "text": [
      "10it [03:16, 19.61s/it]\n"
     ]
    },
    {
     "name": "stdout",
     "output_type": "stream",
     "text": [
      "Mean Covering: 0.4758520019207311\n",
      "Mean F-measure: 1.0\n",
      "Mean NAB (Standard): 45.196\n",
      "Mean NAB (LowFP): 39.7\n",
      "Mean NAB (LowFN): 47.297\n"
     ]
    }
   ],
   "source": [
    "all_cps_true=[]\n",
    "all_cps_found=[]\n",
    "all_ts_len=[]\n",
    "# Iterate over each time series\n",
    "for _,(cps_true,ts) in tqdm(df.iterrows()):\n",
    "    # Fit the BinaryClaSPSegmentation algorithm and predict change points\n",
    "    cps_found = bocd(ts,len(cps_true))\n",
    "    all_cps_true.append(cps_true)\n",
    "    all_cps_found.append(cps_found)\n",
    "    all_ts_len.append(ts.shape[0])\n",
    "\n",
    "evaluate_and_save(all_cps_true,all_cps_found,all_ts_len,\"BOCD\")"
   ]
  },
  {
   "cell_type": "markdown",
   "metadata": {},
   "source": [
    "<h3>Fluss</h3>"
   ]
  },
  {
   "cell_type": "code",
   "execution_count": null,
   "metadata": {},
   "outputs": [
    {
     "name": "stderr",
     "output_type": "stream",
     "text": [
      "250it [23:06,  5.55s/it]\n",
      "d:\\Time_Series_Segmenation\\benchmark\\Evaluating\\../../benchmark/utils\\evaluation.py:378: RuntimeWarning: invalid value encountered in scalar divide\n",
      "  results[profile_name] = round(100*(matrix[0,t]-matrix[1,t])/(matrix[2,t]-matrix[1,t]), 2)\n",
      "d:\\Time_Series_Segmenation\\benchmark\\Evaluating\\../../benchmark/utils\\evaluation.py:378: RuntimeWarning: invalid value encountered in scalar divide\n",
      "  results[profile_name] = round(100*(matrix[0,t]-matrix[1,t])/(matrix[2,t]-matrix[1,t]), 2)\n",
      "d:\\Time_Series_Segmenation\\benchmark\\Evaluating\\../../benchmark/utils\\evaluation.py:378: RuntimeWarning: invalid value encountered in scalar divide\n",
      "  results[profile_name] = round(100*(matrix[0,t]-matrix[1,t])/(matrix[2,t]-matrix[1,t]), 2)\n",
      "d:\\Time_Series_Segmenation\\benchmark\\Evaluating\\../../benchmark/utils\\evaluation.py:378: RuntimeWarning: invalid value encountered in scalar divide\n",
      "  results[profile_name] = round(100*(matrix[0,t]-matrix[1,t])/(matrix[2,t]-matrix[1,t]), 2)\n",
      "d:\\Time_Series_Segmenation\\benchmark\\Evaluating\\../../benchmark/utils\\evaluation.py:378: RuntimeWarning: invalid value encountered in scalar divide\n",
      "  results[profile_name] = round(100*(matrix[0,t]-matrix[1,t])/(matrix[2,t]-matrix[1,t]), 2)\n",
      "d:\\Time_Series_Segmenation\\benchmark\\Evaluating\\../../benchmark/utils\\evaluation.py:378: RuntimeWarning: invalid value encountered in scalar divide\n",
      "  results[profile_name] = round(100*(matrix[0,t]-matrix[1,t])/(matrix[2,t]-matrix[1,t]), 2)\n",
      "d:\\Time_Series_Segmenation\\benchmark\\Evaluating\\../../benchmark/utils\\evaluation.py:378: RuntimeWarning: invalid value encountered in scalar divide\n",
      "  results[profile_name] = round(100*(matrix[0,t]-matrix[1,t])/(matrix[2,t]-matrix[1,t]), 2)\n",
      "d:\\Time_Series_Segmenation\\benchmark\\Evaluating\\../../benchmark/utils\\evaluation.py:378: RuntimeWarning: invalid value encountered in scalar divide\n",
      "  results[profile_name] = round(100*(matrix[0,t]-matrix[1,t])/(matrix[2,t]-matrix[1,t]), 2)\n",
      "d:\\Time_Series_Segmenation\\benchmark\\Evaluating\\../../benchmark/utils\\evaluation.py:378: RuntimeWarning: invalid value encountered in scalar divide\n",
      "  results[profile_name] = round(100*(matrix[0,t]-matrix[1,t])/(matrix[2,t]-matrix[1,t]), 2)\n",
      "d:\\Time_Series_Segmenation\\benchmark\\Evaluating\\../../benchmark/utils\\evaluation.py:378: RuntimeWarning: invalid value encountered in scalar divide\n",
      "  results[profile_name] = round(100*(matrix[0,t]-matrix[1,t])/(matrix[2,t]-matrix[1,t]), 2)\n",
      "d:\\Time_Series_Segmenation\\benchmark\\Evaluating\\../../benchmark/utils\\evaluation.py:378: RuntimeWarning: invalid value encountered in scalar divide\n",
      "  results[profile_name] = round(100*(matrix[0,t]-matrix[1,t])/(matrix[2,t]-matrix[1,t]), 2)\n",
      "d:\\Time_Series_Segmenation\\benchmark\\Evaluating\\../../benchmark/utils\\evaluation.py:378: RuntimeWarning: invalid value encountered in scalar divide\n",
      "  results[profile_name] = round(100*(matrix[0,t]-matrix[1,t])/(matrix[2,t]-matrix[1,t]), 2)\n",
      "d:\\Time_Series_Segmenation\\benchmark\\Evaluating\\../../benchmark/utils\\evaluation.py:378: RuntimeWarning: invalid value encountered in scalar divide\n",
      "  results[profile_name] = round(100*(matrix[0,t]-matrix[1,t])/(matrix[2,t]-matrix[1,t]), 2)\n",
      "d:\\Time_Series_Segmenation\\benchmark\\Evaluating\\../../benchmark/utils\\evaluation.py:378: RuntimeWarning: invalid value encountered in scalar divide\n",
      "  results[profile_name] = round(100*(matrix[0,t]-matrix[1,t])/(matrix[2,t]-matrix[1,t]), 2)\n",
      "d:\\Time_Series_Segmenation\\benchmark\\Evaluating\\../../benchmark/utils\\evaluation.py:378: RuntimeWarning: invalid value encountered in scalar divide\n",
      "  results[profile_name] = round(100*(matrix[0,t]-matrix[1,t])/(matrix[2,t]-matrix[1,t]), 2)\n",
      "d:\\Time_Series_Segmenation\\benchmark\\Evaluating\\../../benchmark/utils\\evaluation.py:378: RuntimeWarning: invalid value encountered in scalar divide\n",
      "  results[profile_name] = round(100*(matrix[0,t]-matrix[1,t])/(matrix[2,t]-matrix[1,t]), 2)\n",
      "d:\\Time_Series_Segmenation\\benchmark\\Evaluating\\../../benchmark/utils\\evaluation.py:378: RuntimeWarning: invalid value encountered in scalar divide\n",
      "  results[profile_name] = round(100*(matrix[0,t]-matrix[1,t])/(matrix[2,t]-matrix[1,t]), 2)\n",
      "d:\\Time_Series_Segmenation\\benchmark\\Evaluating\\../../benchmark/utils\\evaluation.py:378: RuntimeWarning: invalid value encountered in scalar divide\n",
      "  results[profile_name] = round(100*(matrix[0,t]-matrix[1,t])/(matrix[2,t]-matrix[1,t]), 2)\n",
      "d:\\Time_Series_Segmenation\\benchmark\\Evaluating\\../../benchmark/utils\\evaluation.py:378: RuntimeWarning: invalid value encountered in scalar divide\n",
      "  results[profile_name] = round(100*(matrix[0,t]-matrix[1,t])/(matrix[2,t]-matrix[1,t]), 2)\n",
      "d:\\Time_Series_Segmenation\\benchmark\\Evaluating\\../../benchmark/utils\\evaluation.py:378: RuntimeWarning: invalid value encountered in scalar divide\n",
      "  results[profile_name] = round(100*(matrix[0,t]-matrix[1,t])/(matrix[2,t]-matrix[1,t]), 2)\n",
      "d:\\Time_Series_Segmenation\\benchmark\\Evaluating\\../../benchmark/utils\\evaluation.py:378: RuntimeWarning: invalid value encountered in scalar divide\n",
      "  results[profile_name] = round(100*(matrix[0,t]-matrix[1,t])/(matrix[2,t]-matrix[1,t]), 2)\n",
      "d:\\Time_Series_Segmenation\\benchmark\\Evaluating\\../../benchmark/utils\\evaluation.py:378: RuntimeWarning: invalid value encountered in scalar divide\n",
      "  results[profile_name] = round(100*(matrix[0,t]-matrix[1,t])/(matrix[2,t]-matrix[1,t]), 2)\n",
      "d:\\Time_Series_Segmenation\\benchmark\\Evaluating\\../../benchmark/utils\\evaluation.py:378: RuntimeWarning: invalid value encountered in scalar divide\n",
      "  results[profile_name] = round(100*(matrix[0,t]-matrix[1,t])/(matrix[2,t]-matrix[1,t]), 2)\n",
      "d:\\Time_Series_Segmenation\\benchmark\\Evaluating\\../../benchmark/utils\\evaluation.py:378: RuntimeWarning: invalid value encountered in scalar divide\n",
      "  results[profile_name] = round(100*(matrix[0,t]-matrix[1,t])/(matrix[2,t]-matrix[1,t]), 2)\n",
      "d:\\Time_Series_Segmenation\\benchmark\\Evaluating\\../../benchmark/utils\\evaluation.py:378: RuntimeWarning: invalid value encountered in scalar divide\n",
      "  results[profile_name] = round(100*(matrix[0,t]-matrix[1,t])/(matrix[2,t]-matrix[1,t]), 2)\n",
      "d:\\Time_Series_Segmenation\\benchmark\\Evaluating\\../../benchmark/utils\\evaluation.py:378: RuntimeWarning: invalid value encountered in scalar divide\n",
      "  results[profile_name] = round(100*(matrix[0,t]-matrix[1,t])/(matrix[2,t]-matrix[1,t]), 2)\n",
      "d:\\Time_Series_Segmenation\\benchmark\\Evaluating\\../../benchmark/utils\\evaluation.py:378: RuntimeWarning: invalid value encountered in scalar divide\n",
      "  results[profile_name] = round(100*(matrix[0,t]-matrix[1,t])/(matrix[2,t]-matrix[1,t]), 2)\n",
      "d:\\Time_Series_Segmenation\\benchmark\\Evaluating\\../../benchmark/utils\\evaluation.py:378: RuntimeWarning: invalid value encountered in scalar divide\n",
      "  results[profile_name] = round(100*(matrix[0,t]-matrix[1,t])/(matrix[2,t]-matrix[1,t]), 2)\n"
     ]
    },
    {
     "name": "stdout",
     "output_type": "stream",
     "text": [
      "Mean Covering: 0.6477299605369065\n",
      "Mean F-measure: 0.9939809523809525\n",
      "Mean NAB (Standard): 43.828401826484004\n",
      "Mean NAB (LowFP): 38.87054794520546\n",
      "Mean NAB (LowFN): 45.60296803652966\n"
     ]
    },
    {
     "name": "stderr",
     "output_type": "stream",
     "text": [
      "d:\\Time_Series_Segmenation\\benchmark\\Evaluating\\../../benchmark/utils\\evaluation.py:378: RuntimeWarning: invalid value encountered in scalar divide\n",
      "  results[profile_name] = round(100*(matrix[0,t]-matrix[1,t])/(matrix[2,t]-matrix[1,t]), 2)\n",
      "d:\\Time_Series_Segmenation\\benchmark\\Evaluating\\../../benchmark/utils\\evaluation.py:378: RuntimeWarning: invalid value encountered in scalar divide\n",
      "  results[profile_name] = round(100*(matrix[0,t]-matrix[1,t])/(matrix[2,t]-matrix[1,t]), 2)\n",
      "d:\\Time_Series_Segmenation\\benchmark\\Evaluating\\../../benchmark/utils\\evaluation.py:378: RuntimeWarning: invalid value encountered in scalar divide\n",
      "  results[profile_name] = round(100*(matrix[0,t]-matrix[1,t])/(matrix[2,t]-matrix[1,t]), 2)\n"
     ]
    }
   ],
   "source": [
    "all_cps_true=[]\n",
    "all_cps_found=[]\n",
    "all_ts_len=[]\n",
    "for _,(cps_true,ts) in tqdm(df.iterrows()):\n",
    "    window_size = 50\n",
    "    n_cps = len(cps_true)\n",
    "    # Using fluss function\n",
    "    cps_found = fluss(ts, window_size, n_cps)\n",
    "    all_cps_true.append(cps_true)\n",
    "    all_cps_found.append(cps_found)\n",
    "    all_ts_len.append(ts.shape[0])\n",
    "\n",
    "evaluate_and_save(all_cps_true,all_cps_found,all_ts_len,\"Fluss\")"
   ]
  },
  {
   "cell_type": "markdown",
   "metadata": {},
   "source": [
    "<h3>Save the results</h3>"
   ]
  },
  {
   "cell_type": "code",
   "execution_count": null,
   "metadata": {},
   "outputs": [
    {
     "name": "stdout",
     "output_type": "stream",
     "text": [
      "DataFrame saved as 'results_human_activity_segmentation.csv'\n"
     ]
    },
    {
     "data": {
      "text/html": [
       "<div>\n",
       "<style scoped>\n",
       "    .dataframe tbody tr th:only-of-type {\n",
       "        vertical-align: middle;\n",
       "    }\n",
       "\n",
       "    .dataframe tbody tr th {\n",
       "        vertical-align: top;\n",
       "    }\n",
       "\n",
       "    .dataframe thead th {\n",
       "        text-align: right;\n",
       "    }\n",
       "</style>\n",
       "<table border=\"1\" class=\"dataframe\">\n",
       "  <thead>\n",
       "    <tr style=\"text-align: right;\">\n",
       "      <th></th>\n",
       "      <th>name_algo</th>\n",
       "      <th>Covering</th>\n",
       "      <th>F-measure</th>\n",
       "      <th>NAB (Standard)</th>\n",
       "      <th>NAB (LowFP)</th>\n",
       "      <th>NAB (LowFN)</th>\n",
       "    </tr>\n",
       "  </thead>\n",
       "  <tbody>\n",
       "    <tr>\n",
       "      <th>0</th>\n",
       "      <td>BinaryClaSPSegmentation</td>\n",
       "      <td>0.61252</td>\n",
       "      <td>0.721318</td>\n",
       "      <td>40.931127</td>\n",
       "      <td>36.440986</td>\n",
       "      <td>42.537324</td>\n",
       "    </tr>\n",
       "    <tr>\n",
       "      <th>1</th>\n",
       "      <td>Fluss</td>\n",
       "      <td>0.64773</td>\n",
       "      <td>0.993981</td>\n",
       "      <td>43.828402</td>\n",
       "      <td>38.870548</td>\n",
       "      <td>45.602968</td>\n",
       "    </tr>\n",
       "  </tbody>\n",
       "</table>\n",
       "</div>"
      ],
      "text/plain": [
       "                 name_algo  Covering  F-measure  NAB (Standard)  NAB (LowFP)  \\\n",
       "0  BinaryClaSPSegmentation   0.61252   0.721318       40.931127    36.440986   \n",
       "1                    Fluss   0.64773   0.993981       43.828402    38.870548   \n",
       "\n",
       "   NAB (LowFN)  \n",
       "0    42.537324  \n",
       "1    45.602968  "
      ]
     },
     "execution_count": 60,
     "metadata": {},
     "output_type": "execute_result"
    }
   ],
   "source": [
    "# Convert dictionary to DataFrame\n",
    "results_df = pd.DataFrame(results).T.reset_index()\n",
    "\n",
    "# Rename the 'index' column to 'name_algo'\n",
    "results_df = results_df.rename(columns={'index': 'name_algo'})\n",
    "# save the file\n",
    "results_df.to_csv('results/results_human_activity_segmentation.csv', index=False)\n",
    "\n",
    "print(\"DataFrame saved as 'results_human_activity_segmentation.csv'\")\n",
    "# Display the DataFrame\n",
    "results_df"
   ]
  }
 ],
 "metadata": {
  "kernelspec": {
   "display_name": "base",
   "language": "python",
   "name": "python3"
  },
  "language_info": {
   "codemirror_mode": {
    "name": "ipython",
    "version": 3
   },
   "file_extension": ".py",
   "mimetype": "text/x-python",
   "name": "python",
   "nbconvert_exporter": "python",
   "pygments_lexer": "ipython3",
   "version": "3.11.5"
  }
 },
 "nbformat": 4,
 "nbformat_minor": 2
}

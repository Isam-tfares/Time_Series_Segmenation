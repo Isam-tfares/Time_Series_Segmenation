{
 "cells": [
  {
   "cell_type": "code",
   "execution_count": 1,
   "metadata": {},
   "outputs": [],
   "source": [
    "import numpy as np\n",
    "import pandas as pd\n",
    "import matplotlib.pyplot as plt\n",
    "import sys\n",
    "from tqdm import tqdm"
   ]
  },
  {
   "cell_type": "code",
   "execution_count": 3,
   "metadata": {},
   "outputs": [],
   "source": [
    "sys.path.append('../../datasets/mobile-sensing-human-activity-data-set-main/src')\n",
    "from utils import *\n",
    "sys.path.append('../../benchmark/utils')\n",
    "from evaluation import *\n",
    "sys.path.append('../')\n",
    "from ClassificationParScoreProfile import *\n",
    "from DynamicProgramming import *\n",
    "from FLOSS import *\n",
    "from Pelt import *\n",
    "from Window import *\n",
    "from BayesianOnlineChangePointDetection import *\n",
    "from Fluss import *"
   ]
  },
  {
   "cell_type": "code",
   "execution_count": 4,
   "metadata": {},
   "outputs": [
    {
     "data": {
      "text/html": [
       "<div>\n",
       "<style scoped>\n",
       "    .dataframe tbody tr th:only-of-type {\n",
       "        vertical-align: middle;\n",
       "    }\n",
       "\n",
       "    .dataframe tbody tr th {\n",
       "        vertical-align: top;\n",
       "    }\n",
       "\n",
       "    .dataframe thead th {\n",
       "        text-align: right;\n",
       "    }\n",
       "</style>\n",
       "<table border=\"1\" class=\"dataframe\">\n",
       "  <thead>\n",
       "    <tr style=\"text-align: right;\">\n",
       "      <th></th>\n",
       "      <th>dataset</th>\n",
       "      <th>routine</th>\n",
       "      <th>subject</th>\n",
       "      <th>sensor</th>\n",
       "      <th>sample_rate</th>\n",
       "      <th>change_points</th>\n",
       "      <th>activities</th>\n",
       "      <th>time_series</th>\n",
       "      <th>ts_length</th>\n",
       "      <th>cp_length</th>\n",
       "    </tr>\n",
       "  </thead>\n",
       "  <tbody>\n",
       "    <tr>\n",
       "      <th>0</th>\n",
       "      <td>Routine1_Subject1_X-Acc</td>\n",
       "      <td>1</td>\n",
       "      <td>1</td>\n",
       "      <td>X-Acc</td>\n",
       "      <td>50</td>\n",
       "      <td>[738, 1722, 11356, 14124, 20558, 29858, 32736,...</td>\n",
       "      <td>[descend stairs, climb stairs, vacuum, lie, ir...</td>\n",
       "      <td>[-0.1986, -0.454326, -0.5473, -0.496056, -0.48...</td>\n",
       "      <td>59637</td>\n",
       "      <td>12</td>\n",
       "    </tr>\n",
       "    <tr>\n",
       "      <th>1</th>\n",
       "      <td>Routine1_Subject1_X-Gyro</td>\n",
       "      <td>1</td>\n",
       "      <td>1</td>\n",
       "      <td>X-Gyro</td>\n",
       "      <td>50</td>\n",
       "      <td>[738, 1722, 11356, 14124, 20558, 29858, 32736,...</td>\n",
       "      <td>[descend stairs, climb stairs, vacuum, lie, ir...</td>\n",
       "      <td>[0.0174, 0.0358, 0.0431, 0.0358, 0.0168, 0.008...</td>\n",
       "      <td>59637</td>\n",
       "      <td>12</td>\n",
       "    </tr>\n",
       "    <tr>\n",
       "      <th>2</th>\n",
       "      <td>Routine1_Subject1_X-Mag</td>\n",
       "      <td>1</td>\n",
       "      <td>1</td>\n",
       "      <td>X-Mag</td>\n",
       "      <td>50</td>\n",
       "      <td>[738, 1722, 11356, 14124, 20558, 29858, 32736,...</td>\n",
       "      <td>[descend stairs, climb stairs, vacuum, lie, ir...</td>\n",
       "      <td>[-31.02, -30.84, -30.65, -30.58, -31.52, -30.7...</td>\n",
       "      <td>59637</td>\n",
       "      <td>12</td>\n",
       "    </tr>\n",
       "    <tr>\n",
       "      <th>3</th>\n",
       "      <td>Routine1_Subject1_Y-Acc</td>\n",
       "      <td>1</td>\n",
       "      <td>1</td>\n",
       "      <td>Y-Acc</td>\n",
       "      <td>50</td>\n",
       "      <td>[738, 1722, 11356, 14124, 20558, 29858, 32736,...</td>\n",
       "      <td>[descend stairs, climb stairs, vacuum, lie, ir...</td>\n",
       "      <td>[-0.0161, -0.100877, -0.1434, -0.13972, -0.081...</td>\n",
       "      <td>59637</td>\n",
       "      <td>12</td>\n",
       "    </tr>\n",
       "    <tr>\n",
       "      <th>4</th>\n",
       "      <td>Routine1_Subject1_Y-Gyro</td>\n",
       "      <td>1</td>\n",
       "      <td>1</td>\n",
       "      <td>Y-Gyro</td>\n",
       "      <td>50</td>\n",
       "      <td>[738, 1722, 11356, 14124, 20558, 29858, 32736,...</td>\n",
       "      <td>[descend stairs, climb stairs, vacuum, lie, ir...</td>\n",
       "      <td>[-0.0525, -0.0568, -0.0482, -0.0012, 0.0153, 0...</td>\n",
       "      <td>59637</td>\n",
       "      <td>12</td>\n",
       "    </tr>\n",
       "  </tbody>\n",
       "</table>\n",
       "</div>"
      ],
      "text/plain": [
       "                    dataset  routine  subject  sensor  sample_rate  \\\n",
       "0   Routine1_Subject1_X-Acc        1        1   X-Acc           50   \n",
       "1  Routine1_Subject1_X-Gyro        1        1  X-Gyro           50   \n",
       "2   Routine1_Subject1_X-Mag        1        1   X-Mag           50   \n",
       "3   Routine1_Subject1_Y-Acc        1        1   Y-Acc           50   \n",
       "4  Routine1_Subject1_Y-Gyro        1        1  Y-Gyro           50   \n",
       "\n",
       "                                       change_points  \\\n",
       "0  [738, 1722, 11356, 14124, 20558, 29858, 32736,...   \n",
       "1  [738, 1722, 11356, 14124, 20558, 29858, 32736,...   \n",
       "2  [738, 1722, 11356, 14124, 20558, 29858, 32736,...   \n",
       "3  [738, 1722, 11356, 14124, 20558, 29858, 32736,...   \n",
       "4  [738, 1722, 11356, 14124, 20558, 29858, 32736,...   \n",
       "\n",
       "                                          activities  \\\n",
       "0  [descend stairs, climb stairs, vacuum, lie, ir...   \n",
       "1  [descend stairs, climb stairs, vacuum, lie, ir...   \n",
       "2  [descend stairs, climb stairs, vacuum, lie, ir...   \n",
       "3  [descend stairs, climb stairs, vacuum, lie, ir...   \n",
       "4  [descend stairs, climb stairs, vacuum, lie, ir...   \n",
       "\n",
       "                                         time_series  ts_length  cp_length  \n",
       "0  [-0.1986, -0.454326, -0.5473, -0.496056, -0.48...      59637         12  \n",
       "1  [0.0174, 0.0358, 0.0431, 0.0358, 0.0168, 0.008...      59637         12  \n",
       "2  [-31.02, -30.84, -30.65, -30.58, -31.52, -30.7...      59637         12  \n",
       "3  [-0.0161, -0.100877, -0.1434, -0.13972, -0.081...      59637         12  \n",
       "4  [-0.0525, -0.0568, -0.0482, -0.0012, 0.0153, 0...      59637         12  "
      ]
     },
     "execution_count": 4,
     "metadata": {},
     "output_type": "execute_result"
    }
   ],
   "source": [
    "# from src.utils import load_mosad_dataset\n",
    "df_mosad = load_mosad_dataset()\n",
    "df_mosad['ts_length']=df_mosad.time_series.apply(len)\n",
    "df_mosad['cp_length']=df_mosad.change_points.apply(len)\n",
    "df_mosad.head()"
   ]
  },
  {
   "cell_type": "code",
   "execution_count": 4,
   "metadata": {},
   "outputs": [],
   "source": [
    "mosad=df_mosad[['dataset','change_points','time_series']]"
   ]
  },
  {
   "cell_type": "code",
   "execution_count": 5,
   "metadata": {},
   "outputs": [],
   "source": [
    "results={}\n",
    "def evaluate_and_save(all_cps_true,all_cps_found,all_ts_len,algorithm_name):\n",
    "    # Initialize lists to store metric values for each time series\n",
    "    covering_scores = []\n",
    "    f_measure_scores = []\n",
    "    nab_scores = []\n",
    "    i=0\n",
    "    # Iterate over each time series\n",
    "    for cps_true,cps_found,ts_len in zip(all_cps_true,all_cps_found,all_ts_len):\n",
    "        i=i+1\n",
    "        score_covering = covering({0: cps_true}, cps_found, ts_len)\n",
    "        covering_scores.append(score_covering)\n",
    "        \n",
    "        # Calculate F-measure\n",
    "        score_F = f_measure({0: cps_true}, cps_found, ts_len) \n",
    "        f_measure_scores.append(score_F)\n",
    "        \n",
    "        # Format true and predicted change points as Series\n",
    "        true_cp, predicted_cp = formate_data(cps_true, cps_found,ts_len)\n",
    "    \n",
    "        # Evaluate change points using the evaluating_change_point function\n",
    "        score_NAB = evaluating_change_point(true_cp, predicted_cp, metric='nab')\n",
    "        nab_scores.append(score_NAB)\n",
    "        # print(score_NAB)\n",
    "\n",
    "    # Calculate mean scores across all time series\n",
    "    mean_covering = sum(covering_scores) / len(covering_scores)\n",
    "    mean_f_measure = sum(f_measure_scores) / len(f_measure_scores)\n",
    "\n",
    "    # Calculate mean NAB scores\n",
    "    nab_scores_filtered = [score for score in nab_scores if not np.isnan(score['Standart']) and not np.isinf(score['Standart'])]\n",
    "    mean_nab_standard = sum(score['Standart'] for score in nab_scores_filtered) / len(nab_scores_filtered)\n",
    "    mean_nab_lowFP = sum(score['LowFP'] for score in nab_scores_filtered) / len(nab_scores_filtered)\n",
    "    mean_nab_lowFN = sum(score['LowFN'] for score in nab_scores_filtered) / len(nab_scores_filtered)\n",
    "\n",
    "\n",
    "    # Print mean scores\n",
    "    print(f\"Mean Covering: {mean_covering}\")\n",
    "    print(f\"Mean F-measure: {mean_f_measure}\")\n",
    "    print(f\"Mean NAB (Standard): {mean_nab_standard}\")\n",
    "    print(f\"Mean NAB (LowFP): {mean_nab_lowFP}\")\n",
    "    print(f\"Mean NAB (LowFN): {mean_nab_lowFN}\")\n",
    "\n",
    "    results[algorithm_name]={\"Covering\":mean_covering,\n",
    "                                        \"F-measure\":mean_f_measure,\n",
    "                                        \"NAB (Standard)\":mean_nab_standard,\n",
    "                                        \"NAB (LowFP)\":mean_nab_lowFP,\n",
    "                                        \"NAB (LowFN)\":mean_nab_lowFN\n",
    "    }\n"
   ]
  },
  {
   "cell_type": "markdown",
   "metadata": {},
   "source": [
    "<h3>BinaryClaSPSegmentation</h3>"
   ]
  },
  {
   "cell_type": "code",
   "execution_count": 6,
   "metadata": {},
   "outputs": [
    {
     "name": "stderr",
     "output_type": "stream",
     "text": [
      "0it [00:00, ?it/s]"
     ]
    }
   ],
   "source": [
    "all_cps_true=[]\n",
    "all_cps_found=[]\n",
    "all_ts_len=[]\n",
    "for _,(ts_name,cps_true,ts) in tqdm(mosad.iterrows()):\n",
    "  cps_found = BinaryClaSPSegmentation().fit_predict(ts)\n",
    "  all_cps_true.append(cps_true)\n",
    "  all_cps_found.append(cps_found)\n",
    "  all_ts_len.append(ts.shape[0])\n",
    "\n",
    "evaluate_and_save(all_cps_true,all_cps_found,all_ts_len,\"BinaryClaSPSegmentation\")"
   ]
  },
  {
   "cell_type": "markdown",
   "metadata": {},
   "source": [
    "<h3>DynamicProgramming</h3>"
   ]
  },
  {
   "cell_type": "code",
   "execution_count": null,
   "metadata": {},
   "outputs": [],
   "source": [
    "def filter_cp(cp,maxi):\n",
    "    new_cp=[]\n",
    "    for pt in cp:\n",
    "        if pt<maxi:\n",
    "            new_cp.append(pt)\n",
    "    return new_cp"
   ]
  },
  {
   "cell_type": "code",
   "execution_count": null,
   "metadata": {},
   "outputs": [
    {
     "name": "stderr",
     "output_type": "stream",
     "text": [
      "0it [00:00, ?it/s]"
     ]
    },
    {
     "name": "stderr",
     "output_type": "stream",
     "text": [
      "126it [00:02, 48.80it/s]\n",
      "d:\\Time_Series_Segmenation\\benchmark\\Evaluating\\../../benchmark/utils\\evaluation.py:378: RuntimeWarning: invalid value encountered in scalar divide\n",
      "  results[profile_name] = round(100*(matrix[0,t]-matrix[1,t])/(matrix[2,t]-matrix[1,t]), 2)\n",
      "d:\\Time_Series_Segmenation\\benchmark\\Evaluating\\../../benchmark/utils\\evaluation.py:378: RuntimeWarning: invalid value encountered in scalar divide\n",
      "  results[profile_name] = round(100*(matrix[0,t]-matrix[1,t])/(matrix[2,t]-matrix[1,t]), 2)\n",
      "d:\\Time_Series_Segmenation\\benchmark\\Evaluating\\../../benchmark/utils\\evaluation.py:378: RuntimeWarning: invalid value encountered in scalar divide\n",
      "  results[profile_name] = round(100*(matrix[0,t]-matrix[1,t])/(matrix[2,t]-matrix[1,t]), 2)\n",
      "d:\\Time_Series_Segmenation\\benchmark\\Evaluating\\../../benchmark/utils\\evaluation.py:378: RuntimeWarning: invalid value encountered in scalar divide\n",
      "  results[profile_name] = round(100*(matrix[0,t]-matrix[1,t])/(matrix[2,t]-matrix[1,t]), 2)\n",
      "d:\\Time_Series_Segmenation\\benchmark\\Evaluating\\../../benchmark/utils\\evaluation.py:378: RuntimeWarning: invalid value encountered in scalar divide\n",
      "  results[profile_name] = round(100*(matrix[0,t]-matrix[1,t])/(matrix[2,t]-matrix[1,t]), 2)\n",
      "d:\\Time_Series_Segmenation\\benchmark\\Evaluating\\../../benchmark/utils\\evaluation.py:378: RuntimeWarning: invalid value encountered in scalar divide\n",
      "  results[profile_name] = round(100*(matrix[0,t]-matrix[1,t])/(matrix[2,t]-matrix[1,t]), 2)\n",
      "d:\\Time_Series_Segmenation\\benchmark\\Evaluating\\../../benchmark/utils\\evaluation.py:378: RuntimeWarning: invalid value encountered in scalar divide\n",
      "  results[profile_name] = round(100*(matrix[0,t]-matrix[1,t])/(matrix[2,t]-matrix[1,t]), 2)\n",
      "d:\\Time_Series_Segmenation\\benchmark\\Evaluating\\../../benchmark/utils\\evaluation.py:378: RuntimeWarning: invalid value encountered in scalar divide\n",
      "  results[profile_name] = round(100*(matrix[0,t]-matrix[1,t])/(matrix[2,t]-matrix[1,t]), 2)\n",
      "d:\\Time_Series_Segmenation\\benchmark\\Evaluating\\../../benchmark/utils\\evaluation.py:378: RuntimeWarning: invalid value encountered in scalar divide\n",
      "  results[profile_name] = round(100*(matrix[0,t]-matrix[1,t])/(matrix[2,t]-matrix[1,t]), 2)\n",
      "d:\\Time_Series_Segmenation\\benchmark\\Evaluating\\../../benchmark/utils\\evaluation.py:378: RuntimeWarning: invalid value encountered in scalar divide\n",
      "  results[profile_name] = round(100*(matrix[0,t]-matrix[1,t])/(matrix[2,t]-matrix[1,t]), 2)\n",
      "d:\\Time_Series_Segmenation\\benchmark\\Evaluating\\../../benchmark/utils\\evaluation.py:378: RuntimeWarning: invalid value encountered in scalar divide\n",
      "  results[profile_name] = round(100*(matrix[0,t]-matrix[1,t])/(matrix[2,t]-matrix[1,t]), 2)\n",
      "d:\\Time_Series_Segmenation\\benchmark\\Evaluating\\../../benchmark/utils\\evaluation.py:378: RuntimeWarning: invalid value encountered in scalar divide\n",
      "  results[profile_name] = round(100*(matrix[0,t]-matrix[1,t])/(matrix[2,t]-matrix[1,t]), 2)\n",
      "d:\\Time_Series_Segmenation\\benchmark\\Evaluating\\../../benchmark/utils\\evaluation.py:378: RuntimeWarning: invalid value encountered in scalar divide\n",
      "  results[profile_name] = round(100*(matrix[0,t]-matrix[1,t])/(matrix[2,t]-matrix[1,t]), 2)\n",
      "d:\\Time_Series_Segmenation\\benchmark\\Evaluating\\../../benchmark/utils\\evaluation.py:378: RuntimeWarning: invalid value encountered in scalar divide\n",
      "  results[profile_name] = round(100*(matrix[0,t]-matrix[1,t])/(matrix[2,t]-matrix[1,t]), 2)\n",
      "d:\\Time_Series_Segmenation\\benchmark\\Evaluating\\../../benchmark/utils\\evaluation.py:378: RuntimeWarning: invalid value encountered in scalar divide\n",
      "  results[profile_name] = round(100*(matrix[0,t]-matrix[1,t])/(matrix[2,t]-matrix[1,t]), 2)\n",
      "d:\\Time_Series_Segmenation\\benchmark\\Evaluating\\../../benchmark/utils\\evaluation.py:378: RuntimeWarning: invalid value encountered in scalar divide\n",
      "  results[profile_name] = round(100*(matrix[0,t]-matrix[1,t])/(matrix[2,t]-matrix[1,t]), 2)\n",
      "d:\\Time_Series_Segmenation\\benchmark\\Evaluating\\../../benchmark/utils\\evaluation.py:378: RuntimeWarning: invalid value encountered in scalar divide\n",
      "  results[profile_name] = round(100*(matrix[0,t]-matrix[1,t])/(matrix[2,t]-matrix[1,t]), 2)\n",
      "d:\\Time_Series_Segmenation\\benchmark\\Evaluating\\../../benchmark/utils\\evaluation.py:378: RuntimeWarning: invalid value encountered in scalar divide\n",
      "  results[profile_name] = round(100*(matrix[0,t]-matrix[1,t])/(matrix[2,t]-matrix[1,t]), 2)\n",
      "d:\\Time_Series_Segmenation\\benchmark\\Evaluating\\../../benchmark/utils\\evaluation.py:378: RuntimeWarning: invalid value encountered in scalar divide\n",
      "  results[profile_name] = round(100*(matrix[0,t]-matrix[1,t])/(matrix[2,t]-matrix[1,t]), 2)\n",
      "d:\\Time_Series_Segmenation\\benchmark\\Evaluating\\../../benchmark/utils\\evaluation.py:378: RuntimeWarning: invalid value encountered in scalar divide\n",
      "  results[profile_name] = round(100*(matrix[0,t]-matrix[1,t])/(matrix[2,t]-matrix[1,t]), 2)\n",
      "d:\\Time_Series_Segmenation\\benchmark\\Evaluating\\../../benchmark/utils\\evaluation.py:378: RuntimeWarning: invalid value encountered in scalar divide\n",
      "  results[profile_name] = round(100*(matrix[0,t]-matrix[1,t])/(matrix[2,t]-matrix[1,t]), 2)\n",
      "d:\\Time_Series_Segmenation\\benchmark\\Evaluating\\../../benchmark/utils\\evaluation.py:378: RuntimeWarning: invalid value encountered in scalar divide\n",
      "  results[profile_name] = round(100*(matrix[0,t]-matrix[1,t])/(matrix[2,t]-matrix[1,t]), 2)\n",
      "d:\\Time_Series_Segmenation\\benchmark\\Evaluating\\../../benchmark/utils\\evaluation.py:378: RuntimeWarning: invalid value encountered in scalar divide\n",
      "  results[profile_name] = round(100*(matrix[0,t]-matrix[1,t])/(matrix[2,t]-matrix[1,t]), 2)\n",
      "d:\\Time_Series_Segmenation\\benchmark\\Evaluating\\../../benchmark/utils\\evaluation.py:378: RuntimeWarning: invalid value encountered in scalar divide\n",
      "  results[profile_name] = round(100*(matrix[0,t]-matrix[1,t])/(matrix[2,t]-matrix[1,t]), 2)\n",
      "d:\\Time_Series_Segmenation\\benchmark\\Evaluating\\../../benchmark/utils\\evaluation.py:378: RuntimeWarning: invalid value encountered in scalar divide\n",
      "  results[profile_name] = round(100*(matrix[0,t]-matrix[1,t])/(matrix[2,t]-matrix[1,t]), 2)\n",
      "d:\\Time_Series_Segmenation\\benchmark\\Evaluating\\../../benchmark/utils\\evaluation.py:378: RuntimeWarning: invalid value encountered in scalar divide\n",
      "  results[profile_name] = round(100*(matrix[0,t]-matrix[1,t])/(matrix[2,t]-matrix[1,t]), 2)\n",
      "d:\\Time_Series_Segmenation\\benchmark\\Evaluating\\../../benchmark/utils\\evaluation.py:378: RuntimeWarning: invalid value encountered in scalar divide\n",
      "  results[profile_name] = round(100*(matrix[0,t]-matrix[1,t])/(matrix[2,t]-matrix[1,t]), 2)\n",
      "d:\\Time_Series_Segmenation\\benchmark\\Evaluating\\../../benchmark/utils\\evaluation.py:378: RuntimeWarning: invalid value encountered in scalar divide\n",
      "  results[profile_name] = round(100*(matrix[0,t]-matrix[1,t])/(matrix[2,t]-matrix[1,t]), 2)\n",
      "d:\\Time_Series_Segmenation\\benchmark\\Evaluating\\../../benchmark/utils\\evaluation.py:378: RuntimeWarning: invalid value encountered in scalar divide\n",
      "  results[profile_name] = round(100*(matrix[0,t]-matrix[1,t])/(matrix[2,t]-matrix[1,t]), 2)\n",
      "d:\\Time_Series_Segmenation\\benchmark\\Evaluating\\../../benchmark/utils\\evaluation.py:378: RuntimeWarning: invalid value encountered in scalar divide\n",
      "  results[profile_name] = round(100*(matrix[0,t]-matrix[1,t])/(matrix[2,t]-matrix[1,t]), 2)\n",
      "d:\\Time_Series_Segmenation\\benchmark\\Evaluating\\../../benchmark/utils\\evaluation.py:378: RuntimeWarning: invalid value encountered in scalar divide\n",
      "  results[profile_name] = round(100*(matrix[0,t]-matrix[1,t])/(matrix[2,t]-matrix[1,t]), 2)\n",
      "d:\\Time_Series_Segmenation\\benchmark\\Evaluating\\../../benchmark/utils\\evaluation.py:378: RuntimeWarning: invalid value encountered in scalar divide\n",
      "  results[profile_name] = round(100*(matrix[0,t]-matrix[1,t])/(matrix[2,t]-matrix[1,t]), 2)\n",
      "d:\\Time_Series_Segmenation\\benchmark\\Evaluating\\../../benchmark/utils\\evaluation.py:378: RuntimeWarning: invalid value encountered in scalar divide\n",
      "  results[profile_name] = round(100*(matrix[0,t]-matrix[1,t])/(matrix[2,t]-matrix[1,t]), 2)\n",
      "d:\\Time_Series_Segmenation\\benchmark\\Evaluating\\../../benchmark/utils\\evaluation.py:378: RuntimeWarning: invalid value encountered in scalar divide\n",
      "  results[profile_name] = round(100*(matrix[0,t]-matrix[1,t])/(matrix[2,t]-matrix[1,t]), 2)\n",
      "d:\\Time_Series_Segmenation\\benchmark\\Evaluating\\../../benchmark/utils\\evaluation.py:378: RuntimeWarning: invalid value encountered in scalar divide\n",
      "  results[profile_name] = round(100*(matrix[0,t]-matrix[1,t])/(matrix[2,t]-matrix[1,t]), 2)\n",
      "d:\\Time_Series_Segmenation\\benchmark\\Evaluating\\../../benchmark/utils\\evaluation.py:378: RuntimeWarning: invalid value encountered in scalar divide\n",
      "  results[profile_name] = round(100*(matrix[0,t]-matrix[1,t])/(matrix[2,t]-matrix[1,t]), 2)\n",
      "d:\\Time_Series_Segmenation\\benchmark\\Evaluating\\../../benchmark/utils\\evaluation.py:378: RuntimeWarning: invalid value encountered in scalar divide\n",
      "  results[profile_name] = round(100*(matrix[0,t]-matrix[1,t])/(matrix[2,t]-matrix[1,t]), 2)\n",
      "d:\\Time_Series_Segmenation\\benchmark\\Evaluating\\../../benchmark/utils\\evaluation.py:378: RuntimeWarning: invalid value encountered in scalar divide\n",
      "  results[profile_name] = round(100*(matrix[0,t]-matrix[1,t])/(matrix[2,t]-matrix[1,t]), 2)\n",
      "d:\\Time_Series_Segmenation\\benchmark\\Evaluating\\../../benchmark/utils\\evaluation.py:378: RuntimeWarning: invalid value encountered in scalar divide\n",
      "  results[profile_name] = round(100*(matrix[0,t]-matrix[1,t])/(matrix[2,t]-matrix[1,t]), 2)\n",
      "d:\\Time_Series_Segmenation\\benchmark\\Evaluating\\../../benchmark/utils\\evaluation.py:378: RuntimeWarning: invalid value encountered in scalar divide\n",
      "  results[profile_name] = round(100*(matrix[0,t]-matrix[1,t])/(matrix[2,t]-matrix[1,t]), 2)\n",
      "d:\\Time_Series_Segmenation\\benchmark\\Evaluating\\../../benchmark/utils\\evaluation.py:378: RuntimeWarning: invalid value encountered in scalar divide\n",
      "  results[profile_name] = round(100*(matrix[0,t]-matrix[1,t])/(matrix[2,t]-matrix[1,t]), 2)\n",
      "d:\\Time_Series_Segmenation\\benchmark\\Evaluating\\../../benchmark/utils\\evaluation.py:378: RuntimeWarning: invalid value encountered in scalar divide\n",
      "  results[profile_name] = round(100*(matrix[0,t]-matrix[1,t])/(matrix[2,t]-matrix[1,t]), 2)\n",
      "d:\\Time_Series_Segmenation\\benchmark\\Evaluating\\../../benchmark/utils\\evaluation.py:378: RuntimeWarning: invalid value encountered in scalar divide\n",
      "  results[profile_name] = round(100*(matrix[0,t]-matrix[1,t])/(matrix[2,t]-matrix[1,t]), 2)\n",
      "d:\\Time_Series_Segmenation\\benchmark\\Evaluating\\../../benchmark/utils\\evaluation.py:378: RuntimeWarning: invalid value encountered in scalar divide\n",
      "  results[profile_name] = round(100*(matrix[0,t]-matrix[1,t])/(matrix[2,t]-matrix[1,t]), 2)\n",
      "d:\\Time_Series_Segmenation\\benchmark\\Evaluating\\../../benchmark/utils\\evaluation.py:378: RuntimeWarning: invalid value encountered in scalar divide\n",
      "  results[profile_name] = round(100*(matrix[0,t]-matrix[1,t])/(matrix[2,t]-matrix[1,t]), 2)\n",
      "d:\\Time_Series_Segmenation\\benchmark\\Evaluating\\../../benchmark/utils\\evaluation.py:378: RuntimeWarning: invalid value encountered in scalar divide\n",
      "  results[profile_name] = round(100*(matrix[0,t]-matrix[1,t])/(matrix[2,t]-matrix[1,t]), 2)\n",
      "d:\\Time_Series_Segmenation\\benchmark\\Evaluating\\../../benchmark/utils\\evaluation.py:378: RuntimeWarning: invalid value encountered in scalar divide\n",
      "  results[profile_name] = round(100*(matrix[0,t]-matrix[1,t])/(matrix[2,t]-matrix[1,t]), 2)\n",
      "d:\\Time_Series_Segmenation\\benchmark\\Evaluating\\../../benchmark/utils\\evaluation.py:378: RuntimeWarning: invalid value encountered in scalar divide\n",
      "  results[profile_name] = round(100*(matrix[0,t]-matrix[1,t])/(matrix[2,t]-matrix[1,t]), 2)\n"
     ]
    },
    {
     "name": "stdout",
     "output_type": "stream",
     "text": [
      "Mean Covering: 0.8563848617908071\n",
      "Mean F-measure: 1.0\n",
      "Mean NAB (Standard): 25.767592592592592\n",
      "Mean NAB (LowFP): 20.06259259259259\n",
      "Mean NAB (LowFN): 28.28685185185184\n"
     ]
    },
    {
     "name": "stderr",
     "output_type": "stream",
     "text": [
      "d:\\Time_Series_Segmenation\\benchmark\\Evaluating\\../../benchmark/utils\\evaluation.py:378: RuntimeWarning: invalid value encountered in scalar divide\n",
      "  results[profile_name] = round(100*(matrix[0,t]-matrix[1,t])/(matrix[2,t]-matrix[1,t]), 2)\n",
      "d:\\Time_Series_Segmenation\\benchmark\\Evaluating\\../../benchmark/utils\\evaluation.py:378: RuntimeWarning: invalid value encountered in scalar divide\n",
      "  results[profile_name] = round(100*(matrix[0,t]-matrix[1,t])/(matrix[2,t]-matrix[1,t]), 2)\n",
      "d:\\Time_Series_Segmenation\\benchmark\\Evaluating\\../../benchmark/utils\\evaluation.py:378: RuntimeWarning: invalid value encountered in scalar divide\n",
      "  results[profile_name] = round(100*(matrix[0,t]-matrix[1,t])/(matrix[2,t]-matrix[1,t]), 2)\n",
      "d:\\Time_Series_Segmenation\\benchmark\\Evaluating\\../../benchmark/utils\\evaluation.py:378: RuntimeWarning: invalid value encountered in scalar divide\n",
      "  results[profile_name] = round(100*(matrix[0,t]-matrix[1,t])/(matrix[2,t]-matrix[1,t]), 2)\n",
      "d:\\Time_Series_Segmenation\\benchmark\\Evaluating\\../../benchmark/utils\\evaluation.py:378: RuntimeWarning: invalid value encountered in scalar divide\n",
      "  results[profile_name] = round(100*(matrix[0,t]-matrix[1,t])/(matrix[2,t]-matrix[1,t]), 2)\n",
      "d:\\Time_Series_Segmenation\\benchmark\\Evaluating\\../../benchmark/utils\\evaluation.py:378: RuntimeWarning: invalid value encountered in scalar divide\n",
      "  results[profile_name] = round(100*(matrix[0,t]-matrix[1,t])/(matrix[2,t]-matrix[1,t]), 2)\n",
      "d:\\Time_Series_Segmenation\\benchmark\\Evaluating\\../../benchmark/utils\\evaluation.py:378: RuntimeWarning: invalid value encountered in scalar divide\n",
      "  results[profile_name] = round(100*(matrix[0,t]-matrix[1,t])/(matrix[2,t]-matrix[1,t]), 2)\n",
      "d:\\Time_Series_Segmenation\\benchmark\\Evaluating\\../../benchmark/utils\\evaluation.py:378: RuntimeWarning: invalid value encountered in scalar divide\n",
      "  results[profile_name] = round(100*(matrix[0,t]-matrix[1,t])/(matrix[2,t]-matrix[1,t]), 2)\n",
      "d:\\Time_Series_Segmenation\\benchmark\\Evaluating\\../../benchmark/utils\\evaluation.py:378: RuntimeWarning: invalid value encountered in scalar divide\n",
      "  results[profile_name] = round(100*(matrix[0,t]-matrix[1,t])/(matrix[2,t]-matrix[1,t]), 2)\n",
      "d:\\Time_Series_Segmenation\\benchmark\\Evaluating\\../../benchmark/utils\\evaluation.py:378: RuntimeWarning: invalid value encountered in scalar divide\n",
      "  results[profile_name] = round(100*(matrix[0,t]-matrix[1,t])/(matrix[2,t]-matrix[1,t]), 2)\n",
      "d:\\Time_Series_Segmenation\\benchmark\\Evaluating\\../../benchmark/utils\\evaluation.py:378: RuntimeWarning: invalid value encountered in scalar divide\n",
      "  results[profile_name] = round(100*(matrix[0,t]-matrix[1,t])/(matrix[2,t]-matrix[1,t]), 2)\n",
      "d:\\Time_Series_Segmenation\\benchmark\\Evaluating\\../../benchmark/utils\\evaluation.py:378: RuntimeWarning: invalid value encountered in scalar divide\n",
      "  results[profile_name] = round(100*(matrix[0,t]-matrix[1,t])/(matrix[2,t]-matrix[1,t]), 2)\n",
      "d:\\Time_Series_Segmenation\\benchmark\\Evaluating\\../../benchmark/utils\\evaluation.py:378: RuntimeWarning: invalid value encountered in scalar divide\n",
      "  results[profile_name] = round(100*(matrix[0,t]-matrix[1,t])/(matrix[2,t]-matrix[1,t]), 2)\n",
      "d:\\Time_Series_Segmenation\\benchmark\\Evaluating\\../../benchmark/utils\\evaluation.py:378: RuntimeWarning: invalid value encountered in scalar divide\n",
      "  results[profile_name] = round(100*(matrix[0,t]-matrix[1,t])/(matrix[2,t]-matrix[1,t]), 2)\n",
      "d:\\Time_Series_Segmenation\\benchmark\\Evaluating\\../../benchmark/utils\\evaluation.py:378: RuntimeWarning: invalid value encountered in scalar divide\n",
      "  results[profile_name] = round(100*(matrix[0,t]-matrix[1,t])/(matrix[2,t]-matrix[1,t]), 2)\n",
      "d:\\Time_Series_Segmenation\\benchmark\\Evaluating\\../../benchmark/utils\\evaluation.py:378: RuntimeWarning: invalid value encountered in scalar divide\n",
      "  results[profile_name] = round(100*(matrix[0,t]-matrix[1,t])/(matrix[2,t]-matrix[1,t]), 2)\n",
      "d:\\Time_Series_Segmenation\\benchmark\\Evaluating\\../../benchmark/utils\\evaluation.py:378: RuntimeWarning: invalid value encountered in scalar divide\n",
      "  results[profile_name] = round(100*(matrix[0,t]-matrix[1,t])/(matrix[2,t]-matrix[1,t]), 2)\n",
      "d:\\Time_Series_Segmenation\\benchmark\\Evaluating\\../../benchmark/utils\\evaluation.py:378: RuntimeWarning: invalid value encountered in scalar divide\n",
      "  results[profile_name] = round(100*(matrix[0,t]-matrix[1,t])/(matrix[2,t]-matrix[1,t]), 2)\n",
      "d:\\Time_Series_Segmenation\\benchmark\\Evaluating\\../../benchmark/utils\\evaluation.py:378: RuntimeWarning: invalid value encountered in scalar divide\n",
      "  results[profile_name] = round(100*(matrix[0,t]-matrix[1,t])/(matrix[2,t]-matrix[1,t]), 2)\n",
      "d:\\Time_Series_Segmenation\\benchmark\\Evaluating\\../../benchmark/utils\\evaluation.py:378: RuntimeWarning: invalid value encountered in scalar divide\n",
      "  results[profile_name] = round(100*(matrix[0,t]-matrix[1,t])/(matrix[2,t]-matrix[1,t]), 2)\n",
      "d:\\Time_Series_Segmenation\\benchmark\\Evaluating\\../../benchmark/utils\\evaluation.py:378: RuntimeWarning: invalid value encountered in scalar divide\n",
      "  results[profile_name] = round(100*(matrix[0,t]-matrix[1,t])/(matrix[2,t]-matrix[1,t]), 2)\n",
      "d:\\Time_Series_Segmenation\\benchmark\\Evaluating\\../../benchmark/utils\\evaluation.py:378: RuntimeWarning: invalid value encountered in scalar divide\n",
      "  results[profile_name] = round(100*(matrix[0,t]-matrix[1,t])/(matrix[2,t]-matrix[1,t]), 2)\n",
      "d:\\Time_Series_Segmenation\\benchmark\\Evaluating\\../../benchmark/utils\\evaluation.py:378: RuntimeWarning: invalid value encountered in scalar divide\n",
      "  results[profile_name] = round(100*(matrix[0,t]-matrix[1,t])/(matrix[2,t]-matrix[1,t]), 2)\n",
      "d:\\Time_Series_Segmenation\\benchmark\\Evaluating\\../../benchmark/utils\\evaluation.py:378: RuntimeWarning: invalid value encountered in scalar divide\n",
      "  results[profile_name] = round(100*(matrix[0,t]-matrix[1,t])/(matrix[2,t]-matrix[1,t]), 2)\n"
     ]
    }
   ],
   "source": [
    "all_cps_true=[]\n",
    "all_cps_found=[]\n",
    "all_ts_len=[]\n",
    "for _,(ts_name,cps_true,ts) in tqdm(mosad.iterrows()):\n",
    "  cps_found = DynamicProgramming().fit_predict(np.array(ts),len(cps_true))[:-1]\n",
    "  all_cps_true.append(cps_true)\n",
    "  all_cps_found.append(cps_found)\n",
    "  all_ts_len.append(ts.shape[0])\n",
    "\n",
    "evaluate_and_save(all_cps_true,all_cps_found,all_ts_len,\"DynamicProgramming\")"
   ]
  },
  {
   "cell_type": "markdown",
   "metadata": {},
   "source": [
    "<h3>FLOSS</h3>"
   ]
  },
  {
   "cell_type": "code",
   "execution_count": null,
   "metadata": {},
   "outputs": [
    {
     "name": "stderr",
     "output_type": "stream",
     "text": [
      "10it [00:38,  3.83s/it]"
     ]
    },
    {
     "name": "stdout",
     "output_type": "stream",
     "text": [
      "Mean Covering: 0.6849932661331528\n",
      "Mean F-measure: 0.8438095238095238\n",
      "Mean NAB (Standard): 9.55\n",
      "Mean NAB (LowFP): -0.9\n",
      "Mean NAB (LowFN): 13.032999999999998\n"
     ]
    },
    {
     "name": "stderr",
     "output_type": "stream",
     "text": [
      "\n"
     ]
    }
   ],
   "source": [
    "all_cps_true=[]\n",
    "all_cps_found=[]\n",
    "all_ts_len=[]\n",
    "for _,(ts_name,cps_true,ts) in tqdm(mosad.iterrows()):\n",
    "    # Instantiate FLOSS\n",
    "    floss_detector = FLOSS(n_timepoints=len(ts), window_size=20, n_prerun=500, threshold=0.7, excl_factor=5, verbose=0)\n",
    "    # Update FLOSS with each time point\n",
    "    for timepoint in ts:\n",
    "        floss_detector.update(timepoint)\n",
    "\n",
    "    cps_found = floss_detector.change_points\n",
    "    all_cps_true.append(cps_true)\n",
    "    all_cps_found.append(cps_found)\n",
    "    all_ts_len.append(ts.shape[0])\n",
    "\n",
    "evaluate_and_save(all_cps_true,all_cps_found,all_ts_len,\"FLOSS\")\n"
   ]
  },
  {
   "cell_type": "markdown",
   "metadata": {},
   "source": [
    "<h3>Pelt</h3>"
   ]
  },
  {
   "cell_type": "code",
   "execution_count": null,
   "metadata": {},
   "outputs": [
    {
     "ename": "NameError",
     "evalue": "name 'mosad' is not defined",
     "output_type": "error",
     "traceback": [
      "\u001b[1;31m---------------------------------------------------------------------------\u001b[0m",
      "\u001b[1;31mNameError\u001b[0m                                 Traceback (most recent call last)",
      "Cell \u001b[1;32mIn[3], line 1\u001b[0m\n\u001b[1;32m----> 1\u001b[0m \u001b[38;5;28;01mfor\u001b[39;00m _,(ts_name,cps,ts) \u001b[38;5;129;01min\u001b[39;00m mosad\u001b[38;5;241m.\u001b[39miterrows():\n\u001b[0;32m      2\u001b[0m   found_cps \u001b[38;5;241m=\u001b[39m Pelt()\u001b[38;5;241m.\u001b[39mfit_predict(np\u001b[38;5;241m.\u001b[39marray(ts),pen\u001b[38;5;241m=\u001b[39m\u001b[38;5;241m45\u001b[39m)\n\u001b[0;32m      3\u001b[0m   score \u001b[38;5;241m=\u001b[39m covering({\u001b[38;5;241m0\u001b[39m: cps}, found_cps, ts\u001b[38;5;241m.\u001b[39mshape[\u001b[38;5;241m0\u001b[39m])\n",
      "\u001b[1;31mNameError\u001b[0m: name 'mosad' is not defined"
     ]
    }
   ],
   "source": [
    "all_cps_true=[]\n",
    "all_cps_found=[]\n",
    "all_ts_len=[]\n",
    "for _,(ts_name,cps_true,ts) in tqdm(mosad.iterrows()):\n",
    "  cps_found = Pelt().fit_predict(np.array(ts),pen=45)\n",
    "  all_cps_true.append(cps_true)\n",
    "  all_cps_found.append(cps_found)\n",
    "  all_ts_len.append(ts.shape[0])\n",
    "\n",
    "evaluate_and_save(all_cps_true,all_cps_found,all_ts_len,\"Pelt\")"
   ]
  },
  {
   "cell_type": "markdown",
   "metadata": {},
   "source": [
    "<h3>BOCD</h3>"
   ]
  },
  {
   "cell_type": "code",
   "execution_count": null,
   "metadata": {},
   "outputs": [
    {
     "ename": "NameError",
     "evalue": "name 'mosad' is not defined",
     "output_type": "error",
     "traceback": [
      "\u001b[1;31m---------------------------------------------------------------------------\u001b[0m",
      "\u001b[1;31mNameError\u001b[0m                                 Traceback (most recent call last)",
      "Cell \u001b[1;32mIn[1], line 1\u001b[0m\n\u001b[1;32m----> 1\u001b[0m \u001b[38;5;28;01mfor\u001b[39;00m _,(ts_name,cps,ts) \u001b[38;5;129;01min\u001b[39;00m mosad\u001b[38;5;241m.\u001b[39miterrows():\n\u001b[0;32m      2\u001b[0m     window_detector \u001b[38;5;241m=\u001b[39m Window(n_timepoints\u001b[38;5;241m=\u001b[39m\u001b[38;5;28mlen\u001b[39m(ts), window_size\u001b[38;5;241m=\u001b[39m\u001b[38;5;241m100\u001b[39m, cost_func\u001b[38;5;241m=\u001b[39m\u001b[38;5;124m\"\u001b[39m\u001b[38;5;124ml2\u001b[39m\u001b[38;5;124m\"\u001b[39m, threshold\u001b[38;5;241m=\u001b[39m\u001b[38;5;241m0.8\u001b[39m, excl_factor\u001b[38;5;241m=\u001b[39m\u001b[38;5;241m5\u001b[39m, verbose\u001b[38;5;241m=\u001b[39m\u001b[38;5;241m0\u001b[39m)\n\u001b[0;32m      3\u001b[0m     \u001b[38;5;66;03m# Update the detector with each data point\u001b[39;00m\n",
      "\u001b[1;31mNameError\u001b[0m: name 'mosad' is not defined"
     ]
    }
   ],
   "source": [
    "all_cps_true=[]\n",
    "all_cps_found=[]\n",
    "all_ts_len=[]\n",
    "# Iterate over each time series\n",
    "for _, (ts_name, window_size, cps_true, ts) in tqdm(tssb.iterrows()):\n",
    "    # Fit the BinaryClaSPSegmentation algorithm and predict change points\n",
    "    cps_found = bocd(ts,len(cps_true))\n",
    "    all_cps_true.append(cps_true)\n",
    "    all_cps_found.append(cps_found)\n",
    "    all_ts_len.append(ts.shape[0])\n",
    "\n",
    "evaluate_and_save(all_cps_true,all_cps_found,all_ts_len,\"BOCD\")\n",
    "results"
   ]
  },
  {
   "cell_type": "markdown",
   "metadata": {},
   "source": [
    "<h3>Fluss</h3>"
   ]
  },
  {
   "cell_type": "code",
   "execution_count": null,
   "metadata": {},
   "outputs": [],
   "source": [
    "all_cps_true=[]\n",
    "all_cps_found=[]\n",
    "all_ts_len=[]\n",
    "for _,(ts_name,cps_true,ts) in tqdm(mosad.iterrows()):\n",
    "        # Parameters\n",
    "    window_size = 50\n",
    "    n_cps = len(cps_true)\n",
    "    # Using fluss function\n",
    "    cps_found = fluss(ts, window_size, n_cps)\n",
    "    all_cps_true.append(cps_true)\n",
    "    all_cps_found.append(cps_found)\n",
    "    all_ts_len.append(ts.shape[0])\n",
    "\n",
    "evaluate_and_save(all_cps_true,all_cps_found,all_ts_len,\"fluss\")"
   ]
  },
  {
   "cell_type": "code",
   "execution_count": null,
   "metadata": {},
   "outputs": [
    {
     "name": "stdout",
     "output_type": "stream",
     "text": [
      "DataFrame saved as 'MOSAD.csv'\n"
     ]
    },
    {
     "data": {
      "text/html": [
       "<div>\n",
       "<style scoped>\n",
       "    .dataframe tbody tr th:only-of-type {\n",
       "        vertical-align: middle;\n",
       "    }\n",
       "\n",
       "    .dataframe tbody tr th {\n",
       "        vertical-align: top;\n",
       "    }\n",
       "\n",
       "    .dataframe thead th {\n",
       "        text-align: right;\n",
       "    }\n",
       "</style>\n",
       "<table border=\"1\" class=\"dataframe\">\n",
       "  <thead>\n",
       "    <tr style=\"text-align: right;\">\n",
       "      <th></th>\n",
       "      <th>name_algo</th>\n",
       "      <th>Covering</th>\n",
       "      <th>F-measure</th>\n",
       "      <th>NAB (Standard)</th>\n",
       "      <th>NAB (LowFP)</th>\n",
       "      <th>NAB (LowFN)</th>\n",
       "    </tr>\n",
       "  </thead>\n",
       "  <tbody>\n",
       "    <tr>\n",
       "      <th>0</th>\n",
       "      <td>DynamicProgramming</td>\n",
       "      <td>0.856385</td>\n",
       "      <td>1.00000</td>\n",
       "      <td>25.767593</td>\n",
       "      <td>20.062593</td>\n",
       "      <td>28.286852</td>\n",
       "    </tr>\n",
       "    <tr>\n",
       "      <th>1</th>\n",
       "      <td>FLOSS</td>\n",
       "      <td>0.684993</td>\n",
       "      <td>0.84381</td>\n",
       "      <td>9.550000</td>\n",
       "      <td>-0.900000</td>\n",
       "      <td>13.033000</td>\n",
       "    </tr>\n",
       "  </tbody>\n",
       "</table>\n",
       "</div>"
      ],
      "text/plain": [
       "            name_algo  Covering  F-measure  NAB (Standard)  NAB (LowFP)  \\\n",
       "0  DynamicProgramming  0.856385    1.00000       25.767593    20.062593   \n",
       "1               FLOSS  0.684993    0.84381        9.550000    -0.900000   \n",
       "\n",
       "   NAB (LowFN)  \n",
       "0    28.286852  \n",
       "1    13.033000  "
      ]
     },
     "execution_count": 14,
     "metadata": {},
     "output_type": "execute_result"
    }
   ],
   "source": [
    "# Convert dictionary to DataFrame\n",
    "results_df = pd.DataFrame(results).T.reset_index()\n",
    "\n",
    "# Rename the 'index' column to 'name_algo'\n",
    "results_df = results_df.rename(columns={'index': 'name_algo'})\n",
    "# save the file\n",
    "results_df.to_csv('results/MOSAD.csv', index=False)\n",
    "\n",
    "print(\"DataFrame saved as 'MOSAD.csv'\")\n",
    "# Display the DataFrame\n",
    "results_df"
   ]
  },
  {
   "cell_type": "code",
   "execution_count": null,
   "metadata": {},
   "outputs": [
    {
     "data": {
      "text/plain": [
       "{'DynamicProgramming': {'Covering': 0.8563848617908071,\n",
       "  'F-measure': 1.0,\n",
       "  'NAB (Standard)': 25.767592592592592,\n",
       "  'NAB (LowFP)': 20.06259259259259,\n",
       "  'NAB (LowFN)': 28.28685185185184},\n",
       " 'FLOSS': {'Covering': 0.6849932661331528,\n",
       "  'F-measure': 0.8438095238095238,\n",
       "  'NAB (Standard)': 9.55,\n",
       "  'NAB (LowFP)': -0.9,\n",
       "  'NAB (LowFN)': 13.032999999999998}}"
      ]
     },
     "execution_count": 15,
     "metadata": {},
     "output_type": "execute_result"
    }
   ],
   "source": [
    "results"
   ]
  }
 ],
 "metadata": {
  "kernelspec": {
   "display_name": "base",
   "language": "python",
   "name": "python3"
  },
  "language_info": {
   "codemirror_mode": {
    "name": "ipython",
    "version": 3
   },
   "file_extension": ".py",
   "mimetype": "text/x-python",
   "name": "python",
   "nbconvert_exporter": "python",
   "pygments_lexer": "ipython3",
   "version": "3.11.5"
  }
 },
 "nbformat": 4,
 "nbformat_minor": 2
}

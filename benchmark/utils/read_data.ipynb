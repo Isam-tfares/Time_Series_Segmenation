{
 "cells": [
  {
   "cell_type": "code",
   "execution_count": 1,
   "id": "c1ee9b41",
   "metadata": {},
   "outputs": [],
   "source": [
    "import pandas as pd\n",
    "import numpy as np\n",
    "import os\n",
    "from sklearn.preprocessing import StandardScaler\n",
    "from glob import glob\n",
    "import warnings\n",
    "warnings.filterwarnings(\"ignore\")\n",
    "from tqdm import tnrange, tqdm_notebook\n",
    "import ruptures as rpt\n",
    "# from utils.custom_cost import CostNew\n",
    "import json"
   ]
  },
  {
   "cell_type": "markdown",
   "id": "a89e7007",
   "metadata": {},
   "source": [
    "<h2>Data Preprocessing</h2>"
   ]
  },
  {
   "cell_type": "markdown",
   "id": "0171ba4b",
   "metadata": {},
   "source": [
    "<h3>SKAB</h3>"
   ]
  },
  {
   "cell_type": "code",
   "execution_count": 2,
   "id": "932707af",
   "metadata": {},
   "outputs": [
    {
     "name": "stdout",
     "output_type": "stream",
     "text": [
      "0.csv ['2020-03-09 10:24:33' 0.0270327 0.0405338 0.839896 0.382638 78.6736\n",
      " 25.9506 219.573 32.0 1.0 1.0]\n",
      "1.csv ['2020-03-09 10:44:33' 0.0267892 0.0419332 0.469496 0.054711 74.104\n",
      " 25.7334 207.717 32.0 1.0 1.0]\n",
      "10.csv ['2020-03-09 13:44:39' 0.0275172 0.0399709 0.859602 0.382638 67.5893\n",
      " 24.7813 227.36 32.0 1.0 1.0]\n",
      "11.csv ['2020-03-09 14:04:39' 0.0274333 0.0400381 0.418795 0.382638 68.9833\n",
      " 24.7429 217.114 32.0 1.0 1.0]\n",
      "12.csv ['2020-03-09 14:24:40' 0.0274274 0.0429959 1.30848 0.054711 66.3487\n",
      " 24.6733 233.079 32.9752 1.0 1.0]\n",
      "13.csv ['2020-03-09 14:44:41' 0.0279539 0.0410801 0.521702 -0.273216 68.0914\n",
      " 24.5743 217.118 32.028 1.0 1.0]\n",
      "14.csv ['2020-03-09 15:04:41' 0.0272609 0.0413681 0.911095 0.382638 68.3213\n",
      " 24.532 233.785 32.9707 1.0 1.0]\n",
      "15.csv ['2020-03-09 15:24:41' 0.0271094 0.0395289 0.709193 -0.601143 65.9262\n",
      " 24.5708 250.621 33.0 1.0 1.0]\n",
      "2.csv ['2020-03-09 11:05:40' 0.0266399 0.0408179 0.912087 0.382638 70.975\n",
      " 25.5324 233.296 31.9978 1.0 1.0]\n",
      "3.csv ['2020-03-09 11:24:34' 0.0270474 0.0395459 0.691925 0.054711 71.1663\n",
      " 25.499 234.245 31.0 1.0 1.0]\n",
      "4.csv ['2020-03-09 11:44:36' 0.0273374 0.0415901 1.22811 0.382638 70.0829\n",
      " 25.3546 242.263 32.0069 1.0 1.0]\n",
      "5.csv ['2020-03-09 12:04:36' 0.0272244 0.0412867 1.21436 -0.601143 71.0037\n",
      " 25.1762 226.545 32.9911 1.0 1.0]\n",
      "6.csv ['2020-03-09 12:24:36' 0.0281236 0.0409086 0.846909 0.054711 69.3003\n",
      " 25.0051 253.569 32.0117 1.0 1.0]\n",
      "7.csv ['2020-03-09 12:44:37' 0.0280386 0.0420909 0.902599 -0.273216 70.1531\n",
      " 24.91 231.508 32.0 1.0 1.0]\n",
      "8.csv ['2020-03-09 13:04:38' 0.0271429 0.0392057 1.48959 0.054711 69.4867\n",
      " 24.8321 246.281 32.0 1.0 1.0]\n",
      "9.csv ['2020-03-09 13:24:38' 0.0270688 0.0407577 1.39679 0.382638 69.819 24.7964\n",
      " 243.507 32.0186 1.0 1.0]\n"
     ]
    }
   ],
   "source": [
    "\n",
    "for file in os.listdir(\"../datasets/SKAB_data/valve1/\"):\n",
    "    df=pd.read_csv(\"../datasets/SKAB_data/valve1/\"+file,sep=\";\")\n",
    "    print(file,df[df.changepoint==1.0].values[0])"
   ]
  },
  {
   "cell_type": "code",
   "execution_count": 3,
   "id": "e02e3080",
   "metadata": {},
   "outputs": [
    {
     "name": "stdout",
     "output_type": "stream",
     "text": [
      "0.csv ['2020-03-09 16:06:30' 0.0306772 0.0407653 0.677648 -0.273216 70.1041\n",
      " 24.3535 223.897 32.0 1.0 1.0]\n",
      "1.csv ['2020-03-09 16:26:30' 0.0274886 0.0407966 1.16262 -0.273216 67.4538\n",
      " 24.2726 231.836 32.0 1.0 1.0]\n",
      "2.csv ['2020-03-09 16:46:31' 0.027637 0.0413034 0.690943 0.382638 66.9962\n",
      " 24.1923 238.751 31.0419 1.0 1.0]\n",
      "3.csv ['2020-03-09 17:06:31' 0.0276008 0.0397729 0.68399 0.382638 68.5863\n",
      " 24.1573 244.154 32.0 1.0 1.0]\n"
     ]
    }
   ],
   "source": [
    "\n",
    "for file in os.listdir(\"../datasets/SKAB_data/valve2/\"):\n",
    "    df=pd.read_csv(\"../datasets/SKAB_data/valve2/\"+file,sep=\";\")\n",
    "    print(file,df[df.changepoint==1.0].values[0])"
   ]
  },
  {
   "cell_type": "code",
   "execution_count": 4,
   "id": "04b8b0eb",
   "metadata": {},
   "outputs": [
    {
     "name": "stdout",
     "output_type": "stream",
     "text": [
      "1.csv ['2020-03-01 15:53:50' 0.0796652 0.130515 1.79592 0.054711 90.1938 22.2448\n",
      " 231.964 77.0 1.0 1.0]\n",
      "10.csv ['2020-02-08 17:57:44' 0.231654 0.27935 1.56497 0.054711 86.497 28.8499\n",
      " 209.119 126.0 1.0 1.0]\n",
      "11.csv ['2020-02-08 18:20:42' 0.239336 0.284693 2.72624 0.054711 84.8351 30.505\n",
      " 227.374 128.0 1.0 1.0]\n",
      "12.csv ['2020-02-08 18:44:51' 0.238124 0.290388 2.83561 0.382638 85.5066 29.3445\n",
      " 237.097 125.311 1.0 1.0]\n",
      "13.csv ['2020-02-08 18:57:29' 0.248972 0.290533 2.58946 0.382638 85.4198 29.0119\n",
      " 234.208 125.0 1.0 1.0]\n",
      "14.csv ['2020-02-08 19:26:28' 0.254313 0.2905 2.58967 0.382638 86.3658 28.7306\n",
      " 228.903 126.694 1.0 1.0]\n",
      "2.csv ['2020-03-01 16:34:10' 0.0815763 0.131967 2.32633 0.054711 86.6544 22.0971\n",
      " 252.483 76.0 1.0 1.0]\n",
      "3.csv ['2020-03-01 16:53:53' 0.0807452 0.135988 1.10632 0.054711 86.7114 22.104\n",
      " 206.323 76.0201 1.0 1.0]\n",
      "4.csv ['2020-03-01 17:13:53' 0.0810714 0.132863 1.6675 -0.273216 87.0175 22.0899\n",
      " 226.707 74.9789 1.0 1.0]\n",
      "5.csv ['2020-02-08 16:16:48' 0.637152 0.672305 2.09898 0.382638 89.002 29.3687\n",
      " 228.314 125.679 1.0 1.0]\n",
      "6.csv ['2020-02-08 16:37:09' 0.225659 0.268538 2.67718 0.054711 88.8769 29.5506\n",
      " 222.051 126.681 1.0 1.0]\n",
      "7.csv ['2020-02-08 16:57:11' 0.214147 0.260976 2.31346 -0.273216 88.7634 29.774\n",
      " 234.302 127.0 1.0 1.0]\n",
      "8.csv ['2020-02-08 17:17:12' 0.221073 0.261194 2.56773 0.054711 87.8923 29.8268\n",
      " 228.571 127.318 1.0 1.0]\n",
      "9.csv ['2020-02-08 17:37:18' 0.236206 0.27558 1.31823 -0.273216 87.2717 29.5679\n",
      " 215.293 128.0 1.0 1.0]\n"
     ]
    }
   ],
   "source": [
    "for file in os.listdir(\"../datasets/SKAB_data/other/\"):\n",
    "    df=pd.read_csv(\"../datasets/SKAB_data/other/\"+file,sep=\";\")\n",
    "    print(file,df[df.changepoint==1.0].values[0])"
   ]
  },
  {
   "cell_type": "markdown",
   "id": "580d1d7d",
   "metadata": {},
   "source": [
    "<h3>NAB</h3>"
   ]
  },
  {
   "cell_type": "code",
   "execution_count": 5,
   "id": "452a7e6d",
   "metadata": {},
   "outputs": [
    {
     "name": "stdout",
     "output_type": "stream",
     "text": [
      "artificialNoAnomaly\n",
      "artificialWithAnomaly\n",
      "realAdExchange\n",
      "realAWSCloudwatch\n",
      "realKnownCause\n",
      "realTraffic\n",
      "realTweets\n"
     ]
    }
   ],
   "source": [
    "nab_data={}\n",
    "for folder in os.listdir(\"../datasets/NAB data/\"):\n",
    "    if folder==\"README.md\" or folder==\"combined_windows.json\":\n",
    "            continue\n",
    "    print(folder)\n",
    "    data={}\n",
    "    for file in os.listdir(\"../datasets/NAB data/\"+folder):\n",
    "        df=pd.read_csv(\"../datasets/NAB data/\"+folder+\"/\"+file)\n",
    "        data[file]=df\n",
    "    nab_data[folder]=data"
   ]
  },
  {
   "cell_type": "code",
   "execution_count": 6,
   "id": "ea3d2066",
   "metadata": {},
   "outputs": [
    {
     "data": {
      "text/plain": [
       "dict_keys(['artificialNoAnomaly', 'artificialWithAnomaly', 'realAdExchange', 'realAWSCloudwatch', 'realKnownCause', 'realTraffic', 'realTweets'])"
      ]
     },
     "execution_count": 6,
     "metadata": {},
     "output_type": "execute_result"
    }
   ],
   "source": [
    "nab_data.keys()"
   ]
  },
  {
   "cell_type": "code",
   "execution_count": 7,
   "id": "263d6146",
   "metadata": {},
   "outputs": [
    {
     "data": {
      "text/plain": [
       "dict_keys(['artificialNoAnomaly/art_daily_no_noise.csv', 'artificialNoAnomaly/art_daily_perfect_square_wave.csv', 'artificialNoAnomaly/art_daily_small_noise.csv', 'artificialNoAnomaly/art_flatline.csv', 'artificialNoAnomaly/art_noisy.csv', 'artificialWithAnomaly/art_daily_flatmiddle.csv', 'artificialWithAnomaly/art_daily_jumpsdown.csv', 'artificialWithAnomaly/art_daily_jumpsup.csv', 'artificialWithAnomaly/art_daily_nojump.csv', 'artificialWithAnomaly/art_increase_spike_density.csv', 'artificialWithAnomaly/art_load_balancer_spikes.csv', 'realAWSCloudwatch/ec2_cpu_utilization_24ae8d.csv', 'realAWSCloudwatch/ec2_cpu_utilization_53ea38.csv', 'realAWSCloudwatch/ec2_cpu_utilization_5f5533.csv', 'realAWSCloudwatch/ec2_cpu_utilization_77c1ca.csv', 'realAWSCloudwatch/ec2_cpu_utilization_825cc2.csv', 'realAWSCloudwatch/ec2_cpu_utilization_ac20cd.csv', 'realAWSCloudwatch/ec2_cpu_utilization_c6585a.csv', 'realAWSCloudwatch/ec2_cpu_utilization_fe7f93.csv', 'realAWSCloudwatch/ec2_disk_write_bytes_1ef3de.csv', 'realAWSCloudwatch/ec2_disk_write_bytes_c0d644.csv', 'realAWSCloudwatch/ec2_network_in_257a54.csv', 'realAWSCloudwatch/ec2_network_in_5abac7.csv', 'realAWSCloudwatch/elb_request_count_8c0756.csv', 'realAWSCloudwatch/grok_asg_anomaly.csv', 'realAWSCloudwatch/iio_us-east-1_i-a2eb1cd9_NetworkIn.csv', 'realAWSCloudwatch/rds_cpu_utilization_cc0c53.csv', 'realAWSCloudwatch/rds_cpu_utilization_e47b3b.csv', 'realAdExchange/exchange-2_cpc_results.csv', 'realAdExchange/exchange-2_cpm_results.csv', 'realAdExchange/exchange-3_cpc_results.csv', 'realAdExchange/exchange-3_cpm_results.csv', 'realAdExchange/exchange-4_cpc_results.csv', 'realAdExchange/exchange-4_cpm_results.csv', 'realKnownCause/ambient_temperature_system_failure.csv', 'realKnownCause/cpu_utilization_asg_misconfiguration.csv', 'realKnownCause/ec2_request_latency_system_failure.csv', 'realKnownCause/machine_temperature_system_failure.csv', 'realKnownCause/nyc_taxi.csv', 'realKnownCause/rogue_agent_key_hold.csv', 'realKnownCause/rogue_agent_key_updown.csv', 'realTraffic/TravelTime_387.csv', 'realTraffic/TravelTime_451.csv', 'realTraffic/occupancy_6005.csv', 'realTraffic/occupancy_t4013.csv', 'realTraffic/speed_6005.csv', 'realTraffic/speed_7578.csv', 'realTraffic/speed_t4013.csv', 'realTweets/Twitter_volume_AAPL.csv', 'realTweets/Twitter_volume_AMZN.csv', 'realTweets/Twitter_volume_CRM.csv', 'realTweets/Twitter_volume_CVS.csv', 'realTweets/Twitter_volume_FB.csv', 'realTweets/Twitter_volume_GOOG.csv', 'realTweets/Twitter_volume_IBM.csv', 'realTweets/Twitter_volume_KO.csv', 'realTweets/Twitter_volume_PFE.csv', 'realTweets/Twitter_volume_UPS.csv'])"
      ]
     },
     "execution_count": 7,
     "metadata": {},
     "output_type": "execute_result"
    }
   ],
   "source": [
    "file_path=\"../datasets/NAB data/combined_windows.json\"\n",
    "\n",
    "# Load the JSON file\n",
    "with open(file_path, \"r\") as f:\n",
    "    nab_labels = json.load(f)\n",
    "nab_labels.keys()\n"
   ]
  },
  {
   "cell_type": "code",
   "execution_count": 8,
   "id": "7de6b5f4",
   "metadata": {},
   "outputs": [
    {
     "name": "stdout",
     "output_type": "stream",
     "text": [
      "artificialWithAnomaly/art_daily_flatmiddle.csv 1\n",
      "artificialWithAnomaly/art_daily_jumpsdown.csv 1\n",
      "artificialWithAnomaly/art_daily_jumpsup.csv 1\n",
      "artificialWithAnomaly/art_daily_nojump.csv 1\n",
      "artificialWithAnomaly/art_increase_spike_density.csv 1\n",
      "artificialWithAnomaly/art_load_balancer_spikes.csv 1\n",
      "realAWSCloudwatch/ec2_cpu_utilization_24ae8d.csv 2\n",
      "realAWSCloudwatch/ec2_cpu_utilization_53ea38.csv 2\n",
      "realAWSCloudwatch/ec2_cpu_utilization_5f5533.csv 2\n",
      "realAWSCloudwatch/ec2_cpu_utilization_77c1ca.csv 1\n",
      "realAWSCloudwatch/ec2_cpu_utilization_825cc2.csv 1\n",
      "realAWSCloudwatch/ec2_cpu_utilization_ac20cd.csv 1\n",
      "realAWSCloudwatch/ec2_cpu_utilization_fe7f93.csv 3\n",
      "realAWSCloudwatch/ec2_disk_write_bytes_1ef3de.csv 1\n",
      "realAWSCloudwatch/ec2_disk_write_bytes_c0d644.csv 3\n",
      "realAWSCloudwatch/ec2_network_in_257a54.csv 1\n",
      "realAWSCloudwatch/ec2_network_in_5abac7.csv 2\n",
      "realAWSCloudwatch/elb_request_count_8c0756.csv 2\n",
      "realAWSCloudwatch/grok_asg_anomaly.csv 3\n",
      "realAWSCloudwatch/iio_us-east-1_i-a2eb1cd9_NetworkIn.csv 2\n",
      "realAWSCloudwatch/rds_cpu_utilization_cc0c53.csv 2\n",
      "realAWSCloudwatch/rds_cpu_utilization_e47b3b.csv 2\n",
      "realAdExchange/exchange-2_cpc_results.csv 1\n",
      "realAdExchange/exchange-2_cpm_results.csv 2\n",
      "realAdExchange/exchange-3_cpc_results.csv 3\n",
      "realAdExchange/exchange-3_cpm_results.csv 1\n",
      "realAdExchange/exchange-4_cpc_results.csv 3\n",
      "realAdExchange/exchange-4_cpm_results.csv 4\n",
      "realKnownCause/ambient_temperature_system_failure.csv 2\n",
      "realKnownCause/cpu_utilization_asg_misconfiguration.csv 1\n",
      "realKnownCause/ec2_request_latency_system_failure.csv 3\n",
      "realKnownCause/machine_temperature_system_failure.csv 4\n",
      "realKnownCause/nyc_taxi.csv 5\n",
      "realKnownCause/rogue_agent_key_hold.csv 2\n",
      "realKnownCause/rogue_agent_key_updown.csv 2\n",
      "realTraffic/TravelTime_387.csv 3\n",
      "realTraffic/TravelTime_451.csv 1\n",
      "realTraffic/occupancy_6005.csv 1\n",
      "realTraffic/occupancy_t4013.csv 2\n",
      "realTraffic/speed_6005.csv 1\n",
      "realTraffic/speed_7578.csv 4\n",
      "realTraffic/speed_t4013.csv 2\n",
      "realTweets/Twitter_volume_AAPL.csv 4\n",
      "realTweets/Twitter_volume_AMZN.csv 4\n",
      "realTweets/Twitter_volume_CRM.csv 3\n",
      "realTweets/Twitter_volume_CVS.csv 3\n",
      "realTweets/Twitter_volume_FB.csv 2\n",
      "realTweets/Twitter_volume_GOOG.csv 3\n",
      "realTweets/Twitter_volume_IBM.csv 2\n",
      "realTweets/Twitter_volume_KO.csv 3\n",
      "realTweets/Twitter_volume_PFE.csv 4\n",
      "realTweets/Twitter_volume_UPS.csv 5\n"
     ]
    }
   ],
   "source": [
    "for key,value in nab_labels.items():\n",
    "    if len(value)>0:\n",
    "        print(key,len(value))"
   ]
  },
  {
   "cell_type": "code",
   "execution_count": 9,
   "id": "e9de32d1",
   "metadata": {},
   "outputs": [
    {
     "data": {
      "application/javascript": [
       "\n",
       "        if (window._pyforest_update_imports_cell) { window._pyforest_update_imports_cell('import matplotlib.pyplot as plt'); }\n",
       "    "
      ],
      "text/plain": [
       "<IPython.core.display.Javascript object>"
      ]
     },
     "metadata": {},
     "output_type": "display_data"
    },
    {
     "data": {
      "application/javascript": [
       "\n",
       "        if (window._pyforest_update_imports_cell) { window._pyforest_update_imports_cell('import matplotlib.pyplot as plt'); }\n",
       "    "
      ],
      "text/plain": [
       "<IPython.core.display.Javascript object>"
      ]
     },
     "metadata": {},
     "output_type": "display_data"
    },
    {
     "data": {
      "application/javascript": [
       "\n",
       "        if (window._pyforest_update_imports_cell) { window._pyforest_update_imports_cell('import matplotlib.pyplot as plt'); }\n",
       "    "
      ],
      "text/plain": [
       "<IPython.core.display.Javascript object>"
      ]
     },
     "metadata": {},
     "output_type": "display_data"
    },
    {
     "data": {
      "application/javascript": [
       "\n",
       "        if (window._pyforest_update_imports_cell) { window._pyforest_update_imports_cell('import matplotlib.pyplot as plt'); }\n",
       "    "
      ],
      "text/plain": [
       "<IPython.core.display.Javascript object>"
      ]
     },
     "metadata": {},
     "output_type": "display_data"
    },
    {
     "data": {
      "application/javascript": [
       "\n",
       "        if (window._pyforest_update_imports_cell) { window._pyforest_update_imports_cell('import matplotlib.pyplot as plt'); }\n",
       "    "
      ],
      "text/plain": [
       "<IPython.core.display.Javascript object>"
      ]
     },
     "metadata": {},
     "output_type": "display_data"
    },
    {
     "data": {
      "image/png": "[encoded data removed]",
      "text/plain": [
       "<Figure size 640x480 with 1 Axes>"
      ]
     },
     "metadata": {},
     "output_type": "display_data"
    }
   ],
   "source": [
    "df=pd.read_csv(\"../datasets/NAB data/realAWSCloudwatch/ec2_cpu_utilization_5f5533.csv\")\n",
    "df\n",
    "plt.plot(df.value)\n",
    "for pts in nab_labels['realAWSCloudwatch/ec2_cpu_utilization_5f5533.csv']:\n",
    "    for pt in pts:\n",
    "        plt.axvline(x=df[df.timestamp==pt.split('.')[0]].index[0],color=\"red\")"
   ]
  },
  {
   "cell_type": "markdown",
   "id": "b04f921b",
   "metadata": {},
   "source": [
    "<h3>Tep data</h3>"
   ]
  },
  {
   "cell_type": "code",
   "execution_count": 10,
   "id": "30830389",
   "metadata": {},
   "outputs": [
    {
     "data": {
      "text/plain": [
       "['../datasets/TEP_data\\\\d00_te.dat',\n",
       " '../datasets/TEP_data\\\\d01_te.dat',\n",
       " '../datasets/TEP_data\\\\d02_te.dat',\n",
       " '../datasets/TEP_data\\\\d03_te.dat',\n",
       " '../datasets/TEP_data\\\\d04_te.dat',\n",
       " '../datasets/TEP_data\\\\d05_te.dat',\n",
       " '../datasets/TEP_data\\\\d06_te.dat',\n",
       " '../datasets/TEP_data\\\\d07_te.dat',\n",
       " '../datasets/TEP_data\\\\d08_te.dat',\n",
       " '../datasets/TEP_data\\\\d09_te.dat',\n",
       " '../datasets/TEP_data\\\\d10_te.dat',\n",
       " '../datasets/TEP_data\\\\d11_te.dat',\n",
       " '../datasets/TEP_data\\\\d12_te.dat',\n",
       " '../datasets/TEP_data\\\\d13_te.dat',\n",
       " '../datasets/TEP_data\\\\d14_te.dat',\n",
       " '../datasets/TEP_data\\\\d15_te.dat',\n",
       " '../datasets/TEP_data\\\\d16_te.dat',\n",
       " '../datasets/TEP_data\\\\d17_te.dat',\n",
       " '../datasets/TEP_data\\\\d18_te.dat',\n",
       " '../datasets/TEP_data\\\\d19_te.dat',\n",
       " '../datasets/TEP_data\\\\d20_te.dat',\n",
       " '../datasets/TEP_data\\\\d21_te.dat']"
      ]
     },
     "execution_count": 10,
     "metadata": {},
     "output_type": "execute_result"
    }
   ],
   "source": [
    "files = sorted(glob('../datasets/TEP_data/*_te.dat'))\n",
    "files"
   ]
  },
  {
   "cell_type": "code",
   "execution_count": 11,
   "id": "1f7e3c56",
   "metadata": {},
   "outputs": [],
   "source": [
    "columns=[]\n",
    "for i in range(1, 42):\n",
    "    columns.append(\"XMEAS({})\".format(i))\n",
    "for i in range(1, 12):\n",
    "    columns.append(\"XMV({})\".format(i))"
   ]
  },
  {
   "cell_type": "code",
   "execution_count": 12,
   "id": "7367015b",
   "metadata": {},
   "outputs": [],
   "source": [
    "# We do not use the first file because it does not contain a defect\n",
    "test = {}\n",
    "for i, j in enumerate(files[1:], start=1):\n",
    "    test[i] = pd.read_table(j, sep=\"\\s+\", names=columns)"
   ]
  },
  {
   "cell_type": "code",
   "execution_count": 13,
   "id": "0745caac",
   "metadata": {},
   "outputs": [
    {
     "data": {
      "text/plain": [
       "52"
      ]
     },
     "execution_count": 13,
     "metadata": {},
     "output_type": "execute_result"
    }
   ],
   "source": [
    "len(test[1].columns)"
   ]
  },
  {
   "cell_type": "code",
   "execution_count": 14,
   "id": "9a7bd097",
   "metadata": {},
   "outputs": [
    {
     "data": {
      "text/html": [
       "<div>\n",
       "<style scoped>\n",
       "    .dataframe tbody tr th:only-of-type {\n",
       "        vertical-align: middle;\n",
       "    }\n",
       "\n",
       "    .dataframe tbody tr th {\n",
       "        vertical-align: top;\n",
       "    }\n",
       "\n",
       "    .dataframe thead th {\n",
       "        text-align: right;\n",
       "    }\n",
       "</style>\n",
       "<table border=\"1\" class=\"dataframe\">\n",
       "  <thead>\n",
       "    <tr style=\"text-align: right;\">\n",
       "      <th></th>\n",
       "      <th>XMEAS(1)</th>\n",
       "      <th>XMEAS(2)</th>\n",
       "      <th>XMEAS(3)</th>\n",
       "      <th>XMEAS(4)</th>\n",
       "      <th>XMEAS(5)</th>\n",
       "      <th>XMEAS(6)</th>\n",
       "      <th>XMEAS(7)</th>\n",
       "      <th>XMEAS(8)</th>\n",
       "      <th>XMEAS(9)</th>\n",
       "      <th>XMEAS(10)</th>\n",
       "      <th>...</th>\n",
       "      <th>XMV(2)</th>\n",
       "      <th>XMV(3)</th>\n",
       "      <th>XMV(4)</th>\n",
       "      <th>XMV(5)</th>\n",
       "      <th>XMV(6)</th>\n",
       "      <th>XMV(7)</th>\n",
       "      <th>XMV(8)</th>\n",
       "      <th>XMV(9)</th>\n",
       "      <th>XMV(10)</th>\n",
       "      <th>XMV(11)</th>\n",
       "    </tr>\n",
       "  </thead>\n",
       "  <tbody>\n",
       "    <tr>\n",
       "      <th>0</th>\n",
       "      <td>0.25025</td>\n",
       "      <td>3657.2</td>\n",
       "      <td>4520.1</td>\n",
       "      <td>9.3965</td>\n",
       "      <td>26.715</td>\n",
       "      <td>42.191</td>\n",
       "      <td>2704.5</td>\n",
       "      <td>74.593</td>\n",
       "      <td>120.42</td>\n",
       "      <td>0.33701</td>\n",
       "      <td>...</td>\n",
       "      <td>53.850</td>\n",
       "      <td>24.670</td>\n",
       "      <td>61.839</td>\n",
       "      <td>22.101</td>\n",
       "      <td>40.078</td>\n",
       "      <td>33.041</td>\n",
       "      <td>48.969</td>\n",
       "      <td>47.459</td>\n",
       "      <td>41.841</td>\n",
       "      <td>18.049</td>\n",
       "    </tr>\n",
       "    <tr>\n",
       "      <th>1</th>\n",
       "      <td>0.25135</td>\n",
       "      <td>3662.1</td>\n",
       "      <td>4532.3</td>\n",
       "      <td>9.4020</td>\n",
       "      <td>26.644</td>\n",
       "      <td>42.812</td>\n",
       "      <td>2704.9</td>\n",
       "      <td>75.044</td>\n",
       "      <td>120.39</td>\n",
       "      <td>0.33723</td>\n",
       "      <td>...</td>\n",
       "      <td>53.705</td>\n",
       "      <td>24.562</td>\n",
       "      <td>61.348</td>\n",
       "      <td>22.264</td>\n",
       "      <td>40.050</td>\n",
       "      <td>39.154</td>\n",
       "      <td>49.870</td>\n",
       "      <td>47.403</td>\n",
       "      <td>41.188</td>\n",
       "      <td>18.008</td>\n",
       "    </tr>\n",
       "    <tr>\n",
       "      <th>2</th>\n",
       "      <td>0.25045</td>\n",
       "      <td>3681.9</td>\n",
       "      <td>4493.6</td>\n",
       "      <td>9.2395</td>\n",
       "      <td>26.971</td>\n",
       "      <td>42.282</td>\n",
       "      <td>2705.0</td>\n",
       "      <td>75.405</td>\n",
       "      <td>120.42</td>\n",
       "      <td>0.33643</td>\n",
       "      <td>...</td>\n",
       "      <td>54.167</td>\n",
       "      <td>24.659</td>\n",
       "      <td>61.826</td>\n",
       "      <td>22.312</td>\n",
       "      <td>40.147</td>\n",
       "      <td>39.294</td>\n",
       "      <td>44.511</td>\n",
       "      <td>47.265</td>\n",
       "      <td>41.290</td>\n",
       "      <td>18.009</td>\n",
       "    </tr>\n",
       "    <tr>\n",
       "      <th>3</th>\n",
       "      <td>0.25056</td>\n",
       "      <td>3667.9</td>\n",
       "      <td>4466.0</td>\n",
       "      <td>9.3602</td>\n",
       "      <td>26.937</td>\n",
       "      <td>42.194</td>\n",
       "      <td>2705.9</td>\n",
       "      <td>75.397</td>\n",
       "      <td>120.41</td>\n",
       "      <td>0.33891</td>\n",
       "      <td>...</td>\n",
       "      <td>54.498</td>\n",
       "      <td>24.648</td>\n",
       "      <td>63.168</td>\n",
       "      <td>22.288</td>\n",
       "      <td>39.845</td>\n",
       "      <td>36.334</td>\n",
       "      <td>46.168</td>\n",
       "      <td>47.410</td>\n",
       "      <td>40.997</td>\n",
       "      <td>17.771</td>\n",
       "    </tr>\n",
       "    <tr>\n",
       "      <th>4</th>\n",
       "      <td>0.28659</td>\n",
       "      <td>3693.0</td>\n",
       "      <td>4502.5</td>\n",
       "      <td>9.5652</td>\n",
       "      <td>26.999</td>\n",
       "      <td>42.540</td>\n",
       "      <td>2704.3</td>\n",
       "      <td>74.749</td>\n",
       "      <td>120.39</td>\n",
       "      <td>0.34173</td>\n",
       "      <td>...</td>\n",
       "      <td>54.142</td>\n",
       "      <td>28.430</td>\n",
       "      <td>57.566</td>\n",
       "      <td>22.142</td>\n",
       "      <td>40.806</td>\n",
       "      <td>34.882</td>\n",
       "      <td>45.576</td>\n",
       "      <td>47.424</td>\n",
       "      <td>41.290</td>\n",
       "      <td>19.371</td>\n",
       "    </tr>\n",
       "    <tr>\n",
       "      <th>...</th>\n",
       "      <td>...</td>\n",
       "      <td>...</td>\n",
       "      <td>...</td>\n",
       "      <td>...</td>\n",
       "      <td>...</td>\n",
       "      <td>...</td>\n",
       "      <td>...</td>\n",
       "      <td>...</td>\n",
       "      <td>...</td>\n",
       "      <td>...</td>\n",
       "      <td>...</td>\n",
       "      <td>...</td>\n",
       "      <td>...</td>\n",
       "      <td>...</td>\n",
       "      <td>...</td>\n",
       "      <td>...</td>\n",
       "      <td>...</td>\n",
       "      <td>...</td>\n",
       "      <td>...</td>\n",
       "      <td>...</td>\n",
       "      <td>...</td>\n",
       "    </tr>\n",
       "    <tr>\n",
       "      <th>955</th>\n",
       "      <td>0.75426</td>\n",
       "      <td>3656.7</td>\n",
       "      <td>4536.1</td>\n",
       "      <td>8.8068</td>\n",
       "      <td>26.724</td>\n",
       "      <td>42.227</td>\n",
       "      <td>2700.9</td>\n",
       "      <td>74.242</td>\n",
       "      <td>120.39</td>\n",
       "      <td>0.28932</td>\n",
       "      <td>...</td>\n",
       "      <td>53.348</td>\n",
       "      <td>74.398</td>\n",
       "      <td>56.728</td>\n",
       "      <td>22.327</td>\n",
       "      <td>34.240</td>\n",
       "      <td>37.948</td>\n",
       "      <td>45.863</td>\n",
       "      <td>63.912</td>\n",
       "      <td>40.938</td>\n",
       "      <td>16.964</td>\n",
       "    </tr>\n",
       "    <tr>\n",
       "      <th>956</th>\n",
       "      <td>0.75962</td>\n",
       "      <td>3650.0</td>\n",
       "      <td>4459.2</td>\n",
       "      <td>8.8456</td>\n",
       "      <td>27.054</td>\n",
       "      <td>42.361</td>\n",
       "      <td>2701.4</td>\n",
       "      <td>75.182</td>\n",
       "      <td>120.41</td>\n",
       "      <td>0.29400</td>\n",
       "      <td>...</td>\n",
       "      <td>54.261</td>\n",
       "      <td>75.030</td>\n",
       "      <td>58.422</td>\n",
       "      <td>22.548</td>\n",
       "      <td>34.863</td>\n",
       "      <td>38.509</td>\n",
       "      <td>44.698</td>\n",
       "      <td>64.087</td>\n",
       "      <td>42.010</td>\n",
       "      <td>16.724</td>\n",
       "    </tr>\n",
       "    <tr>\n",
       "      <th>957</th>\n",
       "      <td>0.75920</td>\n",
       "      <td>3625.5</td>\n",
       "      <td>4501.2</td>\n",
       "      <td>8.8241</td>\n",
       "      <td>26.976</td>\n",
       "      <td>42.511</td>\n",
       "      <td>2704.0</td>\n",
       "      <td>75.614</td>\n",
       "      <td>120.40</td>\n",
       "      <td>0.29359</td>\n",
       "      <td>...</td>\n",
       "      <td>53.758</td>\n",
       "      <td>75.071</td>\n",
       "      <td>57.035</td>\n",
       "      <td>22.941</td>\n",
       "      <td>34.912</td>\n",
       "      <td>36.447</td>\n",
       "      <td>42.824</td>\n",
       "      <td>64.318</td>\n",
       "      <td>40.789</td>\n",
       "      <td>17.699</td>\n",
       "    </tr>\n",
       "    <tr>\n",
       "      <th>958</th>\n",
       "      <td>0.78204</td>\n",
       "      <td>3634.0</td>\n",
       "      <td>4508.1</td>\n",
       "      <td>8.8987</td>\n",
       "      <td>27.286</td>\n",
       "      <td>42.300</td>\n",
       "      <td>2702.0</td>\n",
       "      <td>74.805</td>\n",
       "      <td>120.39</td>\n",
       "      <td>0.33121</td>\n",
       "      <td>...</td>\n",
       "      <td>54.191</td>\n",
       "      <td>77.323</td>\n",
       "      <td>57.030</td>\n",
       "      <td>22.481</td>\n",
       "      <td>39.768</td>\n",
       "      <td>30.297</td>\n",
       "      <td>44.762</td>\n",
       "      <td>64.357</td>\n",
       "      <td>41.169</td>\n",
       "      <td>19.572</td>\n",
       "    </tr>\n",
       "    <tr>\n",
       "      <th>959</th>\n",
       "      <td>0.78337</td>\n",
       "      <td>3648.9</td>\n",
       "      <td>4532.8</td>\n",
       "      <td>8.9099</td>\n",
       "      <td>26.708</td>\n",
       "      <td>42.450</td>\n",
       "      <td>2703.6</td>\n",
       "      <td>74.938</td>\n",
       "      <td>120.39</td>\n",
       "      <td>0.33553</td>\n",
       "      <td>...</td>\n",
       "      <td>53.895</td>\n",
       "      <td>77.192</td>\n",
       "      <td>57.051</td>\n",
       "      <td>22.551</td>\n",
       "      <td>39.240</td>\n",
       "      <td>38.352</td>\n",
       "      <td>48.280</td>\n",
       "      <td>64.556</td>\n",
       "      <td>40.861</td>\n",
       "      <td>15.280</td>\n",
       "    </tr>\n",
       "  </tbody>\n",
       "</table>\n",
       "<p>960 rows × 52 columns</p>\n",
       "</div>"
      ],
      "text/plain": [
       "     XMEAS(1)  XMEAS(2)  XMEAS(3)  XMEAS(4)  XMEAS(5)  XMEAS(6)  XMEAS(7)  \\\n",
       "0     0.25025    3657.2    4520.1    9.3965    26.715    42.191    2704.5   \n",
       "1     0.25135    3662.1    4532.3    9.4020    26.644    42.812    2704.9   \n",
       "2     0.25045    3681.9    4493.6    9.2395    26.971    42.282    2705.0   \n",
       "3     0.25056    3667.9    4466.0    9.3602    26.937    42.194    2705.9   \n",
       "4     0.28659    3693.0    4502.5    9.5652    26.999    42.540    2704.3   \n",
       "..        ...       ...       ...       ...       ...       ...       ...   \n",
       "955   0.75426    3656.7    4536.1    8.8068    26.724    42.227    2700.9   \n",
       "956   0.75962    3650.0    4459.2    8.8456    27.054    42.361    2701.4   \n",
       "957   0.75920    3625.5    4501.2    8.8241    26.976    42.511    2704.0   \n",
       "958   0.78204    3634.0    4508.1    8.8987    27.286    42.300    2702.0   \n",
       "959   0.78337    3648.9    4532.8    8.9099    26.708    42.450    2703.6   \n",
       "\n",
       "     XMEAS(8)  XMEAS(9)  XMEAS(10)  ...  XMV(2)  XMV(3)  XMV(4)  XMV(5)  \\\n",
       "0      74.593    120.42    0.33701  ...  53.850  24.670  61.839  22.101   \n",
       "1      75.044    120.39    0.33723  ...  53.705  24.562  61.348  22.264   \n",
       "2      75.405    120.42    0.33643  ...  54.167  24.659  61.826  22.312   \n",
       "3      75.397    120.41    0.33891  ...  54.498  24.648  63.168  22.288   \n",
       "4      74.749    120.39    0.34173  ...  54.142  28.430  57.566  22.142   \n",
       "..        ...       ...        ...  ...     ...     ...     ...     ...   \n",
       "955    74.242    120.39    0.28932  ...  53.348  74.398  56.728  22.327   \n",
       "956    75.182    120.41    0.29400  ...  54.261  75.030  58.422  22.548   \n",
       "957    75.614    120.40    0.29359  ...  53.758  75.071  57.035  22.941   \n",
       "958    74.805    120.39    0.33121  ...  54.191  77.323  57.030  22.481   \n",
       "959    74.938    120.39    0.33553  ...  53.895  77.192  57.051  22.551   \n",
       "\n",
       "     XMV(6)  XMV(7)  XMV(8)  XMV(9)  XMV(10)  XMV(11)  \n",
       "0    40.078  33.041  48.969  47.459   41.841   18.049  \n",
       "1    40.050  39.154  49.870  47.403   41.188   18.008  \n",
       "2    40.147  39.294  44.511  47.265   41.290   18.009  \n",
       "3    39.845  36.334  46.168  47.410   40.997   17.771  \n",
       "4    40.806  34.882  45.576  47.424   41.290   19.371  \n",
       "..      ...     ...     ...     ...      ...      ...  \n",
       "955  34.240  37.948  45.863  63.912   40.938   16.964  \n",
       "956  34.863  38.509  44.698  64.087   42.010   16.724  \n",
       "957  34.912  36.447  42.824  64.318   40.789   17.699  \n",
       "958  39.768  30.297  44.762  64.357   41.169   19.572  \n",
       "959  39.240  38.352  48.280  64.556   40.861   15.280  \n",
       "\n",
       "[960 rows x 52 columns]"
      ]
     },
     "execution_count": 14,
     "metadata": {},
     "output_type": "execute_result"
    }
   ],
   "source": [
    "test[1]"
   ]
  },
  {
   "cell_type": "code",
   "execution_count": null,
   "id": "4da21ee7",
   "metadata": {},
   "outputs": [],
   "source": []
  },
  {
   "cell_type": "code",
   "execution_count": null,
   "id": "034d9dbd",
   "metadata": {},
   "outputs": [],
   "source": []
  },
  {
   "cell_type": "markdown",
   "id": "c0030983",
   "metadata": {},
   "source": [
    "<h3>MOSAD dataset</h3>"
   ]
  },
  {
   "cell_type": "code",
   "execution_count": 17,
   "id": "492e78d7",
   "metadata": {},
   "outputs": [
    {
     "data": {
      "text/html": [
       "<div>\n",
       "<style scoped>\n",
       "    .dataframe tbody tr th:only-of-type {\n",
       "        vertical-align: middle;\n",
       "    }\n",
       "\n",
       "    .dataframe tbody tr th {\n",
       "        vertical-align: top;\n",
       "    }\n",
       "\n",
       "    .dataframe thead th {\n",
       "        text-align: right;\n",
       "    }\n",
       "</style>\n",
       "<table border=\"1\" class=\"dataframe\">\n",
       "  <thead>\n",
       "    <tr style=\"text-align: right;\">\n",
       "      <th></th>\n",
       "      <th>dataset</th>\n",
       "      <th>routine</th>\n",
       "      <th>subject</th>\n",
       "      <th>sensor</th>\n",
       "      <th>sample_rate</th>\n",
       "      <th>change_points</th>\n",
       "      <th>activities</th>\n",
       "      <th>time_series</th>\n",
       "    </tr>\n",
       "  </thead>\n",
       "  <tbody>\n",
       "    <tr>\n",
       "      <th>0</th>\n",
       "      <td>Routine1_Subject1_X-Acc</td>\n",
       "      <td>1</td>\n",
       "      <td>1</td>\n",
       "      <td>X-Acc</td>\n",
       "      <td>50</td>\n",
       "      <td>[738, 1722, 11356, 14124, 20558, 29858, 32736,...</td>\n",
       "      <td>[descend stairs, climb stairs, vacuum, lie, ir...</td>\n",
       "      <td>[-0.1986, -0.454326, -0.5473, -0.496056, -0.48...</td>\n",
       "    </tr>\n",
       "    <tr>\n",
       "      <th>1</th>\n",
       "      <td>Routine1_Subject1_X-Gyro</td>\n",
       "      <td>1</td>\n",
       "      <td>1</td>\n",
       "      <td>X-Gyro</td>\n",
       "      <td>50</td>\n",
       "      <td>[738, 1722, 11356, 14124, 20558, 29858, 32736,...</td>\n",
       "      <td>[descend stairs, climb stairs, vacuum, lie, ir...</td>\n",
       "      <td>[0.0174, 0.0358, 0.0431, 0.0358, 0.0168, 0.008...</td>\n",
       "    </tr>\n",
       "    <tr>\n",
       "      <th>2</th>\n",
       "      <td>Routine1_Subject1_X-Mag</td>\n",
       "      <td>1</td>\n",
       "      <td>1</td>\n",
       "      <td>X-Mag</td>\n",
       "      <td>50</td>\n",
       "      <td>[738, 1722, 11356, 14124, 20558, 29858, 32736,...</td>\n",
       "      <td>[descend stairs, climb stairs, vacuum, lie, ir...</td>\n",
       "      <td>[-31.02, -30.84, -30.65, -30.58, -31.52, -30.7...</td>\n",
       "    </tr>\n",
       "    <tr>\n",
       "      <th>3</th>\n",
       "      <td>Routine1_Subject1_Y-Acc</td>\n",
       "      <td>1</td>\n",
       "      <td>1</td>\n",
       "      <td>Y-Acc</td>\n",
       "      <td>50</td>\n",
       "      <td>[738, 1722, 11356, 14124, 20558, 29858, 32736,...</td>\n",
       "      <td>[descend stairs, climb stairs, vacuum, lie, ir...</td>\n",
       "      <td>[-0.0161, -0.100877, -0.1434, -0.13972, -0.081...</td>\n",
       "    </tr>\n",
       "    <tr>\n",
       "      <th>4</th>\n",
       "      <td>Routine1_Subject1_Y-Gyro</td>\n",
       "      <td>1</td>\n",
       "      <td>1</td>\n",
       "      <td>Y-Gyro</td>\n",
       "      <td>50</td>\n",
       "      <td>[738, 1722, 11356, 14124, 20558, 29858, 32736,...</td>\n",
       "      <td>[descend stairs, climb stairs, vacuum, lie, ir...</td>\n",
       "      <td>[-0.0525, -0.0568, -0.0482, -0.0012, 0.0153, 0...</td>\n",
       "    </tr>\n",
       "  </tbody>\n",
       "</table>\n",
       "</div>"
      ],
      "text/plain": [
       "                    dataset  routine  subject  sensor  sample_rate  \\\n",
       "0   Routine1_Subject1_X-Acc        1        1   X-Acc           50   \n",
       "1  Routine1_Subject1_X-Gyro        1        1  X-Gyro           50   \n",
       "2   Routine1_Subject1_X-Mag        1        1   X-Mag           50   \n",
       "3   Routine1_Subject1_Y-Acc        1        1   Y-Acc           50   \n",
       "4  Routine1_Subject1_Y-Gyro        1        1  Y-Gyro           50   \n",
       "\n",
       "                                       change_points  \\\n",
       "0  [738, 1722, 11356, 14124, 20558, 29858, 32736,...   \n",
       "1  [738, 1722, 11356, 14124, 20558, 29858, 32736,...   \n",
       "2  [738, 1722, 11356, 14124, 20558, 29858, 32736,...   \n",
       "3  [738, 1722, 11356, 14124, 20558, 29858, 32736,...   \n",
       "4  [738, 1722, 11356, 14124, 20558, 29858, 32736,...   \n",
       "\n",
       "                                          activities  \\\n",
       "0  [descend stairs, climb stairs, vacuum, lie, ir...   \n",
       "1  [descend stairs, climb stairs, vacuum, lie, ir...   \n",
       "2  [descend stairs, climb stairs, vacuum, lie, ir...   \n",
       "3  [descend stairs, climb stairs, vacuum, lie, ir...   \n",
       "4  [descend stairs, climb stairs, vacuum, lie, ir...   \n",
       "\n",
       "                                         time_series  \n",
       "0  [-0.1986, -0.454326, -0.5473, -0.496056, -0.48...  \n",
       "1  [0.0174, 0.0358, 0.0431, 0.0358, 0.0168, 0.008...  \n",
       "2  [-31.02, -30.84, -30.65, -30.58, -31.52, -30.7...  \n",
       "3  [-0.0161, -0.100877, -0.1434, -0.13972, -0.081...  \n",
       "4  [-0.0525, -0.0568, -0.0482, -0.0012, 0.0153, 0...  "
      ]
     },
     "execution_count": 17,
     "metadata": {},
     "output_type": "execute_result"
    }
   ],
   "source": [
    "import sys\n",
    "sys.path.append('../datasets/MOSAD/src')\n",
    "\n",
    "# import utils\n",
    "\n",
    "from utils import load_mosad_dataset\n",
    "df_mosad = load_mosad_dataset()\n",
    "df_mosad.head()"
   ]
  },
  {
   "cell_type": "code",
   "execution_count": 25,
   "id": "4eff115a",
   "metadata": {},
   "outputs": [
    {
     "data": {
      "application/javascript": [
       "\n",
       "        if (window._pyforest_update_imports_cell) { window._pyforest_update_imports_cell('import matplotlib.pyplot as plt'); }\n",
       "    "
      ],
      "text/plain": [
       "<IPython.core.display.Javascript object>"
      ]
     },
     "metadata": {},
     "output_type": "display_data"
    },
    {
     "data": {
      "application/javascript": [
       "\n",
       "        if (window._pyforest_update_imports_cell) { window._pyforest_update_imports_cell('import matplotlib.pyplot as plt'); }\n",
       "    "
      ],
      "text/plain": [
       "<IPython.core.display.Javascript object>"
      ]
     },
     "metadata": {},
     "output_type": "display_data"
    },
    {
     "data": {
      "application/javascript": [
       "\n",
       "        if (window._pyforest_update_imports_cell) { window._pyforest_update_imports_cell('import matplotlib.pyplot as plt'); }\n",
       "    "
      ],
      "text/plain": [
       "<IPython.core.display.Javascript object>"
      ]
     },
     "metadata": {},
     "output_type": "display_data"
    },
    {
     "data": {
      "application/javascript": [
       "\n",
       "        if (window._pyforest_update_imports_cell) { window._pyforest_update_imports_cell('import matplotlib.pyplot as plt'); }\n",
       "    "
      ],
      "text/plain": [
       "<IPython.core.display.Javascript object>"
      ]
     },
     "metadata": {},
     "output_type": "display_data"
    },
    {
     "data": {
      "application/javascript": [
       "\n",
       "        if (window._pyforest_update_imports_cell) { window._pyforest_update_imports_cell('import matplotlib.pyplot as plt'); }\n",
       "    "
      ],
      "text/plain": [
       "<IPython.core.display.Javascript object>"
      ]
     },
     "metadata": {},
     "output_type": "display_data"
    },
    {
     "data": {
      "application/javascript": [
       "\n",
       "        if (window._pyforest_update_imports_cell) { window._pyforest_update_imports_cell('import matplotlib.pyplot as plt'); }\n",
       "    "
      ],
      "text/plain": [
       "<IPython.core.display.Javascript object>"
      ]
     },
     "metadata": {},
     "output_type": "display_data"
    },
    {
     "data": {
      "application/javascript": [
       "\n",
       "        if (window._pyforest_update_imports_cell) { window._pyforest_update_imports_cell('import matplotlib.pyplot as plt'); }\n",
       "    "
      ],
      "text/plain": [
       "<IPython.core.display.Javascript object>"
      ]
     },
     "metadata": {},
     "output_type": "display_data"
    },
    {
     "data": {
      "application/javascript": [
       "\n",
       "        if (window._pyforest_update_imports_cell) { window._pyforest_update_imports_cell('import matplotlib.pyplot as plt'); }\n",
       "    "
      ],
      "text/plain": [
       "<IPython.core.display.Javascript object>"
      ]
     },
     "metadata": {},
     "output_type": "display_data"
    },
    {
     "data": {
      "application/javascript": [
       "\n",
       "        if (window._pyforest_update_imports_cell) { window._pyforest_update_imports_cell('import matplotlib.pyplot as plt'); }\n",
       "    "
      ],
      "text/plain": [
       "<IPython.core.display.Javascript object>"
      ]
     },
     "metadata": {},
     "output_type": "display_data"
    },
    {
     "data": {
      "application/javascript": [
       "\n",
       "        if (window._pyforest_update_imports_cell) { window._pyforest_update_imports_cell('import matplotlib.pyplot as plt'); }\n",
       "    "
      ],
      "text/plain": [
       "<IPython.core.display.Javascript object>"
      ]
     },
     "metadata": {},
     "output_type": "display_data"
    },
    {
     "data": {
      "application/javascript": [
       "\n",
       "        if (window._pyforest_update_imports_cell) { window._pyforest_update_imports_cell('import matplotlib.pyplot as plt'); }\n",
       "    "
      ],
      "text/plain": [
       "<IPython.core.display.Javascript object>"
      ]
     },
     "metadata": {},
     "output_type": "display_data"
    },
    {
     "data": {
      "application/javascript": [
       "\n",
       "        if (window._pyforest_update_imports_cell) { window._pyforest_update_imports_cell('import matplotlib.pyplot as plt'); }\n",
       "    "
      ],
      "text/plain": [
       "<IPython.core.display.Javascript object>"
      ]
     },
     "metadata": {},
     "output_type": "display_data"
    },
    {
     "data": {
      "application/javascript": [
       "\n",
       "        if (window._pyforest_update_imports_cell) { window._pyforest_update_imports_cell('import matplotlib.pyplot as plt'); }\n",
       "    "
      ],
      "text/plain": [
       "<IPython.core.display.Javascript object>"
      ]
     },
     "metadata": {},
     "output_type": "display_data"
    },
    {
     "data": {
      "image/png": "[encoded data removed]",
      "text/plain": [
       "<Figure size 640x480 with 1 Axes>"
      ]
     },
     "metadata": {},
     "output_type": "display_data"
    }
   ],
   "source": [
    "plt.plot(df_mosad.iloc[0].time_series)\n",
    "cpts=df_mosad.iloc[0].change_points\n",
    "for pt in cpts:\n",
    "    plt.axvline(x=pt,color=\"r\")"
   ]
  },
  {
   "cell_type": "code",
   "execution_count": null,
   "id": "387f976c",
   "metadata": {},
   "outputs": [],
   "source": []
  }
 ],
 "metadata": {
  "kernelspec": {
   "display_name": "Python 3 (ipykernel)",
   "language": "python",
   "name": "python3"
  },
  "language_info": {
   "codemirror_mode": {
    "name": "ipython",
    "version": 3
   },
   "file_extension": ".py",
   "mimetype": "text/x-python",
   "name": "python",
   "nbconvert_exporter": "python",
   "pygments_lexer": "ipython3",
   "version": "3.11.5"
  }
 },
 "nbformat": 4,
 "nbformat_minor": 5
}
